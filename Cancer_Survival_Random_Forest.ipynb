{
  "nbformat": 4,
  "nbformat_minor": 0,
  "metadata": {
    "kernelspec": {
      "display_name": "Python 3",
      "language": "python",
      "name": "python3"
    },
    "language_info": {
      "codemirror_mode": {
        "name": "ipython",
        "version": 3
      },
      "file_extension": ".py",
      "mimetype": "text/x-python",
      "name": "python",
      "nbconvert_exporter": "python",
      "pygments_lexer": "ipython3",
      "version": "3.7.6"
    },
    "papermill": {
      "duration": 8.756908,
      "end_time": "2020-11-21T16:28:15.936853",
      "environment_variables": {},
      "exception": null,
      "input_path": "__notebook__.ipynb",
      "output_path": "__notebook__.ipynb",
      "parameters": {},
      "start_time": "2020-11-21T16:28:07.179945",
      "version": "2.1.0"
    },
    "colab": {
      "name": "Cancer Survival Random Forest",
      "provenance": [],
      "collapsed_sections": [
        "uu4SxE7ZDUW3",
        "MT5GcIpH4GdA",
        "ZiycgvJYDg_3"
      ],
      "toc_visible": true,
      "include_colab_link": true
    }
  },
  "cells": [
    {
      "cell_type": "markdown",
      "metadata": {
        "id": "view-in-github",
        "colab_type": "text"
      },
      "source": [
        "<a href=\"https://colab.research.google.com/github/averyrop/AIM-Datathon/blob/main/Cancer_Survival_Random_Forest.ipynb\" target=\"_parent\"><img src=\"https://colab.research.google.com/assets/colab-badge.svg\" alt=\"Open In Colab\"/></a>"
      ]
    },
    {
      "cell_type": "markdown",
      "metadata": {
        "id": "q3bfpAPeE7lD"
      },
      "source": [
        "# **Project** **Title**: **Random forest for predicting patient survival**\n"
      ]
    },
    {
      "cell_type": "code",
      "metadata": {
        "id": "J8kGAW4fw_tj",
        "colab": {
          "base_uri": "https://localhost:8080/"
        },
        "outputId": "3bab28db-8a1a-439c-8611-44e9e358317d"
      },
      "source": [
        "from google.colab import drive\n",
        "drive.mount('/content/gdrive')"
      ],
      "execution_count": 1,
      "outputs": [
        {
          "output_type": "stream",
          "text": [
            "Mounted at /content/gdrive\n"
          ],
          "name": "stdout"
        }
      ]
    },
    {
      "cell_type": "code",
      "metadata": {
        "id": "uMK5Cpdjuiaj",
        "colab": {
          "base_uri": "https://localhost:8080/"
        },
        "outputId": "8332d7a3-d9cf-4621-cf40-d0c492414a3c"
      },
      "source": [
        "!unzip gdrive/MyDrive/aimdatathon/aimdatathon2020.zip"
      ],
      "execution_count": 2,
      "outputs": [
        {
          "output_type": "stream",
          "text": [
            "Archive:  gdrive/MyDrive/aimdatathon/aimdatathon2020.zip\n",
            "  inflating: Background and Helpful Info.csv  \n",
            "  inflating: Beverages.csv           \n",
            "  inflating: Current Lifestyle.csv   \n",
            "  inflating: DBBR Questionnaire Data Dictionary.csv  \n",
            "  inflating: Exercise.csv            \n",
            "  inflating: Family History.csv      \n",
            "  inflating: Food Habits.csv         \n",
            "  inflating: Foods.csv               \n",
            "  inflating: Herbals.csv             \n",
            "  inflating: Lifetime use of Supplements.csv  \n",
            "  inflating: MedicalHistory.csv      \n",
            "  inflating: MedicationUseHistory.csv  \n",
            "  inflating: Multivitamins.csv       \n",
            "  inflating: Nutrient Calc.csv       \n",
            "  inflating: Smoking History.csv     \n",
            "  inflating: Tumor Information_test.csv  \n",
            "  inflating: Tumor Information_train.csv  \n",
            "  inflating: Vitamins Minerals.csv   \n",
            "  inflating: WomensHealth.csv        \n"
          ],
          "name": "stdout"
        }
      ]
    },
    {
      "cell_type": "markdown",
      "metadata": {
        "id": "mMZZXXuhVyok"
      },
      "source": [
        "### Data Management"
      ]
    },
    {
      "cell_type": "code",
      "metadata": {
        "id": "CCU6CFbFuQ_H"
      },
      "source": [
        "\r\n",
        "import numpy as np # linear algebra\r\n",
        "import pandas as pd # data processing, CSV file I/O (e.g. pd.read_csv)\r\n",
        "import os\r\n",
        "import plotly.express as px"
      ],
      "execution_count": null,
      "outputs": []
    },
    {
      "cell_type": "code",
      "metadata": {
        "id": "IzUpp4C0xlx6"
      },
      "source": [
        "data_files = list(filter(lambda cont: 'csv' in cont,os.listdir()))"
      ],
      "execution_count": null,
      "outputs": []
    },
    {
      "cell_type": "code",
      "metadata": {
        "id": "GxDGr8RNukva"
      },
      "source": [
        "#Get a list of all files as dataframes\r\n",
        "All_files = {}\r\n",
        "for fil in data_files:\r\n",
        "\r\n",
        "    key = fil.split('.')[0]\r\n",
        "    All_files[key]=(pd.read_csv(fil))\r\n",
        "    \r\n",
        "    All_files[key].rename(str.upper,axis='columns',inplace=True)\r\n",
        "        "
      ],
      "execution_count": null,
      "outputs": []
    },
    {
      "cell_type": "markdown",
      "metadata": {
        "id": "BMc0gDb7uJ9A"
      },
      "source": [
        "####Data Preprocessing"
      ]
    },
    {
      "cell_type": "code",
      "metadata": {
        "id": "2lSSZYCLVeyP"
      },
      "source": [
        "#Create a lambda function to help combine all dataframes\n",
        "join_all = lambda df1,df2: df1.merge(right = df2, how = 'outer', on = 'QBARCODE' )                        "
      ],
      "execution_count": 42,
      "outputs": []
    },
    {
      "cell_type": "code",
      "metadata": {
        "id": "dxKiUIZJz3p3"
      },
      "source": [
        "import functools"
      ],
      "execution_count": 43,
      "outputs": []
    },
    {
      "cell_type": "code",
      "metadata": {
        "id": "k6rLErJO1AdR"
      },
      "source": [
        "#Make a list of the Survey dataframes for use in reduce function\r\n",
        "not_DBBR = list(filter(lambda f: 'DBBR' not in f,All_files.keys()))\r\n",
        "\r\n",
        "Survey_list = []\r\n",
        "for nam in All_files.keys():\r\n",
        "  if nam in not_DBBR:\r\n",
        "    Survey_list.append(All_files[nam])\r\n"
      ],
      "execution_count": 54,
      "outputs": []
    },
    {
      "cell_type": "code",
      "metadata": {
        "id": "GesJNBKZ2GrR"
      },
      "source": [
        "#Combine all surveys into one, make a separate dataframe with the classes of the training set, so it can eventually be omitted from the dataframe of predictors\r\n",
        "Combined_df = functools.reduce(join_all,Survey_list)\r\n",
        "\r\n",
        "Class = pd.DataFrame(Combined_df[['QBARCODE','PATIENTSTATUS']])\r\n",
        "barcs = pd.DataFrame(Combined_df['QBARCODE'])"
      ],
      "execution_count": 56,
      "outputs": []
    },
    {
      "cell_type": "code",
      "metadata": {
        "id": "9_lh3EzW2TNL"
      },
      "source": [
        "#Want to be able to see how many patients for each column did not fill in an answer for the column.\r\n",
        "#This loop only adds columns that have any null answers\r\n",
        "#Because of the test train split two separate columns were made for answers that are in both, such as primary site x and y. These were not added because the columns being split make NAs appear\r\n",
        "#Patient Status only exists for train and thus has nas for the train people, so it is also not being counted for this\r\n",
        "#Make a list for columns with too many NAs, to omit.\r\n",
        "#Make a list of columns with few NAs, to fill\r\n",
        "omit = []\r\n",
        "NA_dict = {}\r\n",
        "NA_fill = []\r\n",
        "for column in Combined_df:\r\n",
        "    \r\n",
        "    percent_null =  Combined_df[column].isnull().sum()/2000\r\n",
        "    \r\n",
        "    if percent_null != 0 and not ('x' in column or 'y' in column) and column != 'PATIENTSTATUS':\r\n",
        "    \r\n",
        "        NA_dict[column] = percent_null\r\n",
        "        \r\n",
        "        if percent_null > .3:\r\n",
        "            omit.append(column)\r\n",
        "        else:\r\n",
        "            NA_fill.append(column)\r\n",
        "        "
      ],
      "execution_count": 58,
      "outputs": []
    },
    {
      "cell_type": "code",
      "metadata": {
        "id": "XIPoDd172Wvy"
      },
      "source": [
        "#Drop columns with too many NAs\r\n",
        "NA_dropped = Combined_df.drop(columns = omit)\r\n",
        "\r\n",
        "#Take out class we're trying to predict\r\n",
        "Class_dropped = NA_dropped.drop(columns = ['PATIENTSTATUS'])"
      ],
      "execution_count": 60,
      "outputs": []
    },
    {
      "cell_type": "code",
      "metadata": {
        "id": "7p62t52g2iKh"
      },
      "source": [
        "#Make a dictionary so we can easily fill NAs in certain columns with mode of column\r\n",
        "mode_list = [Class_dropped[col].mode()[0] for col in NA_fill ]\r\n",
        "NA_fill_dict = dict(zip(NA_fill,mode_list))"
      ],
      "execution_count": 61,
      "outputs": []
    },
    {
      "cell_type": "code",
      "metadata": {
        "id": "hACgc1rt2lKh"
      },
      "source": [
        "#Fill NAs in specified columns\r\n",
        "NA_filled = Class_dropped.fillna(value = NA_fill_dict)"
      ],
      "execution_count": 62,
      "outputs": []
    },
    {
      "cell_type": "code",
      "metadata": {
        "id": "MXlQ7q7Q2nfQ"
      },
      "source": [
        "#Find which columns have x and y in them in order to tell where the test/ train overlap happened. Turns out there were also multiple columns called iron and zinc.\r\n",
        "#The iron and zinc ones are actually different though, so we don't need to do anythin with them\r\n",
        "\r\n",
        "xy_list = sorted(list(filter(lambda col: ('x' in col or 'y' in col) ,NA_filled)))\r\n"
      ],
      "execution_count": 63,
      "outputs": []
    },
    {
      "cell_type": "code",
      "metadata": {
        "id": "6EomMsiH2qWN"
      },
      "source": [
        "#Make a list of the dataframes of the xys\r\n",
        "xy_dfs = []\r\n",
        "for col in xy_list:\r\n",
        "    xy_dfs.append(pd.DataFrame(NA_filled[col]))"
      ],
      "execution_count": 64,
      "outputs": []
    },
    {
      "cell_type": "code",
      "metadata": {
        "id": "ZOgmfI2m2t8r"
      },
      "source": [
        "#Combine the x and y column into one column for the columns that are separated in the test/ train split\r\n",
        "\r\n",
        "comb_test_train = pd.DataFrame(index = range(NA_filled.shape[0]))\r\n",
        "\r\n",
        "for i in range(0,len(xy_dfs)-1, 2):\r\n",
        "    \r\n",
        "    col = xy_list[i]\r\n",
        "    \r\n",
        "    if 'IRON' not in col and 'ZINC' not in col:\r\n",
        "        \r\n",
        "        xy_dfs[i+1].columns = xy_dfs[i].columns\r\n",
        "        \r\n",
        "        comb_df = xy_dfs[i].combine_first(xy_dfs[i+1])\r\n",
        "        \r\n",
        "        comb_test_train = pd.concat([comb_test_train,comb_df],axis=1)\r\n",
        "        "
      ],
      "execution_count": 65,
      "outputs": []
    },
    {
      "cell_type": "code",
      "metadata": {
        "id": "JwK-Lyk72y-i"
      },
      "source": [
        "# Make list of columns in test and training surveys, to be omitted from overall dataframe\r\n",
        "test_train_list = list(filter(lambda col: ('IRON' not in col and 'ZINC'not in col),xy_list))"
      ],
      "execution_count": 67,
      "outputs": []
    },
    {
      "cell_type": "code",
      "metadata": {
        "id": "9uinydff21nd"
      },
      "source": [
        "# Drop desired columns from overall dataframe. Also record which Barcodes are test and train for easy merges later\r\n",
        "Test_train_dropped = NA_filled.drop(test_train_list,axis='columns')\r\n",
        "train_barcodes = pd.DataFrame(All_files['Tumor Information_train']['QBARCODE'])\r\n",
        "test_barcodes =  pd.DataFrame(All_files['Tumor Information_test']['QBARCODE'])"
      ],
      "execution_count": 68,
      "outputs": []
    },
    {
      "cell_type": "code",
      "metadata": {
        "id": "zQJaY1Pa25ao"
      },
      "source": [
        "#Make dataframe with combined test and train  data back in \r\n",
        "\r\n",
        "Full_pred = pd.concat([Test_train_dropped,comb_test_train],axis=1)"
      ],
      "execution_count": 69,
      "outputs": []
    },
    {
      "cell_type": "markdown",
      "metadata": {
        "id": "2u5ybW9ROhRy"
      },
      "source": [
        "### Study Design\r\n"
      ]
    },
    {
      "cell_type": "code",
      "metadata": {
        "id": "rvDGF-tOCT6D"
      },
      "source": [
        "#Here some of the demographics and proportions of the data with classes attached are explored here. \r\n",
        "#Only the class associated ones are looked at, as they influence the model created."
      ],
      "execution_count": null,
      "outputs": []
    },
    {
      "cell_type": "code",
      "metadata": {
        "id": "Q8hOmA93CgUp"
      },
      "source": [
        "stud_des_df = train_barcodes.merge(Full_pred, on = 'QBARCODE').merge(Class,on='QBARCODE')"
      ],
      "execution_count": 109,
      "outputs": []
    },
    {
      "cell_type": "code",
      "metadata": {
        "colab": {
          "base_uri": "https://localhost:8080/",
          "height": 542
        },
        "id": "xdEC46M_Cg9m",
        "outputId": "890be0c3-0893-46f6-9f37-6abee6f9d60f"
      },
      "source": [
        "##This shows that 62% of the people in training data survived (1)\r\n",
        "\r\n",
        "px.pie(data_frame = stud_des_df, names = 'PATIENTSTATUS',title = 'Survival breakdown')"
      ],
      "execution_count": 207,
      "outputs": [
        {
          "output_type": "display_data",
          "data": {
            "text/html": [
              "<html>\n",
              "<head><meta charset=\"utf-8\" /></head>\n",
              "<body>\n",
              "    <div>\n",
              "            <script src=\"https://cdnjs.cloudflare.com/ajax/libs/mathjax/2.7.5/MathJax.js?config=TeX-AMS-MML_SVG\"></script><script type=\"text/javascript\">if (window.MathJax) {MathJax.Hub.Config({SVG: {font: \"STIX-Web\"}});}</script>\n",
              "                <script type=\"text/javascript\">window.PlotlyConfig = {MathJaxConfig: 'local'};</script>\n",
              "        <script src=\"https://cdn.plot.ly/plotly-latest.min.js\"></script>    \n",
              "            <div id=\"5f866673-d60f-4f88-90af-e59ad2ea8b2e\" class=\"plotly-graph-div\" style=\"height:525px; width:100%;\"></div>\n",
              "            <script type=\"text/javascript\">\n",
              "                \n",
              "                    window.PLOTLYENV=window.PLOTLYENV || {};\n",
              "                    \n",
              "                if (document.getElementById(\"5f866673-d60f-4f88-90af-e59ad2ea8b2e\")) {\n",
              "                    Plotly.newPlot(\n",
              "                        '5f866673-d60f-4f88-90af-e59ad2ea8b2e',\n",
              "                        [{\"domain\": {\"x\": [0.0, 1.0], \"y\": [0.0, 1.0]}, \"hoverlabel\": {\"namelength\": 0}, \"hovertemplate\": \"PATIENTSTATUS=%{label}\", \"labels\": [1.0, 1.0, 0.0, 1.0, 1.0, 1.0, 0.0, 0.0, 0.0, 1.0, 0.0, 0.0, 1.0, 1.0, 1.0, 1.0, 1.0, 0.0, 1.0, 1.0, 0.0, 0.0, 0.0, 0.0, 1.0, 1.0, 1.0, 1.0, 0.0, 1.0, 0.0, 1.0, 1.0, 1.0, 1.0, 1.0, 0.0, 1.0, 0.0, 1.0, 0.0, 1.0, 1.0, 1.0, 0.0, 0.0, 1.0, 1.0, 1.0, 1.0, 0.0, 1.0, 1.0, 0.0, 1.0, 1.0, 0.0, 0.0, 1.0, 1.0, 1.0, 1.0, 0.0, 1.0, 0.0, 0.0, 1.0, 0.0, 1.0, 0.0, 1.0, 0.0, 1.0, 1.0, 1.0, 1.0, 0.0, 0.0, 1.0, 0.0, 1.0, 0.0, 1.0, 1.0, 1.0, 1.0, 1.0, 1.0, 1.0, 0.0, 1.0, 1.0, 1.0, 1.0, 1.0, 0.0, 0.0, 0.0, 1.0, 0.0, 0.0, 1.0, 1.0, 1.0, 0.0, 0.0, 0.0, 1.0, 0.0, 1.0, 0.0, 1.0, 0.0, 1.0, 0.0, 1.0, 1.0, 1.0, 1.0, 1.0, 1.0, 1.0, 0.0, 0.0, 1.0, 1.0, 0.0, 1.0, 0.0, 0.0, 1.0, 0.0, 1.0, 1.0, 1.0, 1.0, 1.0, 0.0, 1.0, 0.0, 1.0, 1.0, 1.0, 1.0, 1.0, 1.0, 0.0, 0.0, 0.0, 0.0, 1.0, 0.0, 1.0, 1.0, 1.0, 1.0, 1.0, 0.0, 1.0, 0.0, 0.0, 1.0, 0.0, 1.0, 0.0, 1.0, 1.0, 0.0, 1.0, 1.0, 1.0, 1.0, 1.0, 0.0, 0.0, 0.0, 0.0, 1.0, 1.0, 1.0, 1.0, 1.0, 1.0, 0.0, 1.0, 1.0, 0.0, 1.0, 1.0, 1.0, 0.0, 0.0, 1.0, 1.0, 1.0, 1.0, 0.0, 1.0, 0.0, 1.0, 0.0, 0.0, 1.0, 1.0, 1.0, 1.0, 1.0, 0.0, 0.0, 1.0, 0.0, 1.0, 1.0, 1.0, 1.0, 0.0, 1.0, 1.0, 0.0, 1.0, 1.0, 0.0, 1.0, 1.0, 0.0, 0.0, 0.0, 1.0, 1.0, 1.0, 1.0, 0.0, 1.0, 0.0, 0.0, 0.0, 0.0, 1.0, 0.0, 1.0, 1.0, 1.0, 0.0, 1.0, 0.0, 1.0, 0.0, 0.0, 1.0, 1.0, 0.0, 1.0, 0.0, 1.0, 0.0, 1.0, 1.0, 1.0, 0.0, 1.0, 1.0, 0.0, 1.0, 1.0, 1.0, 1.0, 0.0, 1.0, 0.0, 1.0, 1.0, 1.0, 0.0, 1.0, 0.0, 1.0, 1.0, 1.0, 0.0, 1.0, 1.0, 1.0, 1.0, 1.0, 1.0, 0.0, 0.0, 1.0, 1.0, 1.0, 1.0, 1.0, 0.0, 1.0, 1.0, 1.0, 0.0, 1.0, 1.0, 0.0, 1.0, 0.0, 0.0, 0.0, 0.0, 1.0, 1.0, 1.0, 0.0, 1.0, 1.0, 1.0, 1.0, 0.0, 0.0, 1.0, 1.0, 0.0, 1.0, 1.0, 1.0, 1.0, 0.0, 1.0, 1.0, 1.0, 0.0, 0.0, 0.0, 0.0, 1.0, 0.0, 1.0, 0.0, 1.0, 1.0, 1.0, 1.0, 0.0, 1.0, 1.0, 1.0, 0.0, 1.0, 1.0, 1.0, 1.0, 1.0, 0.0, 0.0, 1.0, 1.0, 1.0, 0.0, 0.0, 1.0, 0.0, 1.0, 0.0, 0.0, 1.0, 0.0, 0.0, 1.0, 0.0, 1.0, 0.0, 1.0, 1.0, 1.0, 1.0, 0.0, 0.0, 1.0, 1.0, 0.0, 1.0, 1.0, 1.0, 1.0, 0.0, 1.0, 1.0, 0.0, 0.0, 0.0, 0.0, 1.0, 0.0, 1.0, 0.0, 0.0, 1.0, 0.0, 1.0, 1.0, 1.0, 1.0, 1.0, 1.0, 1.0, 1.0, 1.0, 0.0, 1.0, 1.0, 0.0, 0.0, 0.0, 1.0, 0.0, 1.0, 1.0, 0.0, 0.0, 1.0, 1.0, 1.0, 1.0, 0.0, 0.0, 1.0, 1.0, 0.0, 0.0, 1.0, 1.0, 0.0, 1.0, 1.0, 1.0, 1.0, 0.0, 1.0, 0.0, 1.0, 1.0, 0.0, 1.0, 0.0, 0.0, 0.0, 1.0, 0.0, 1.0, 1.0, 1.0, 1.0, 0.0, 1.0, 0.0, 1.0, 0.0, 0.0, 1.0, 0.0, 1.0, 0.0, 1.0, 1.0, 1.0, 0.0, 1.0, 0.0, 1.0, 0.0, 1.0, 1.0, 1.0, 1.0, 0.0, 1.0, 0.0, 1.0, 0.0, 1.0, 1.0, 0.0, 0.0, 1.0, 1.0, 1.0, 1.0, 0.0, 0.0, 1.0, 1.0, 1.0, 0.0, 0.0, 1.0, 0.0, 0.0, 1.0, 1.0, 1.0, 1.0, 1.0, 1.0, 1.0, 1.0, 0.0, 1.0, 1.0, 1.0, 0.0, 1.0, 1.0, 0.0, 1.0, 1.0, 1.0, 0.0, 1.0, 0.0, 0.0, 0.0, 1.0, 1.0, 1.0, 0.0, 1.0, 0.0, 0.0, 1.0, 1.0, 1.0, 1.0, 1.0, 1.0, 0.0, 1.0, 1.0, 0.0, 1.0, 0.0, 0.0, 1.0, 0.0, 1.0, 1.0, 1.0, 1.0, 0.0, 1.0, 1.0, 1.0, 1.0, 1.0, 1.0, 1.0, 1.0, 0.0, 0.0, 0.0, 0.0, 1.0, 0.0, 1.0, 1.0, 1.0, 1.0, 1.0, 1.0, 1.0, 1.0, 0.0, 1.0, 1.0, 1.0, 1.0, 1.0, 1.0, 0.0, 1.0, 1.0, 1.0, 0.0, 0.0, 0.0, 1.0, 1.0, 1.0, 0.0, 1.0, 1.0, 0.0, 0.0, 0.0, 0.0, 0.0, 0.0, 1.0, 1.0, 1.0, 0.0, 0.0, 1.0, 0.0, 1.0, 1.0, 1.0, 0.0, 0.0, 1.0, 0.0, 0.0, 1.0, 1.0, 0.0, 1.0, 0.0, 1.0, 1.0, 0.0, 0.0, 1.0, 1.0, 1.0, 0.0, 0.0, 0.0, 0.0, 0.0, 1.0, 0.0, 1.0, 1.0, 1.0, 1.0, 1.0, 1.0, 1.0, 0.0, 0.0, 0.0, 0.0, 0.0, 0.0, 1.0, 1.0, 1.0, 1.0, 1.0, 1.0, 1.0, 1.0, 1.0, 1.0, 1.0, 0.0, 1.0, 1.0, 1.0, 1.0, 0.0, 1.0, 1.0, 0.0, 1.0, 0.0, 0.0, 1.0, 0.0, 1.0, 1.0, 1.0, 1.0, 1.0, 1.0, 1.0, 1.0, 0.0, 0.0, 1.0, 1.0, 1.0, 0.0, 1.0, 1.0, 0.0, 0.0, 1.0, 1.0, 1.0, 1.0, 1.0, 0.0, 0.0, 0.0, 1.0, 1.0, 1.0, 0.0, 1.0, 1.0, 1.0, 1.0, 1.0, 0.0, 0.0, 1.0, 1.0, 1.0, 1.0, 1.0, 0.0, 1.0, 0.0, 0.0, 0.0, 1.0, 1.0, 0.0, 1.0, 1.0, 1.0, 0.0, 0.0, 1.0, 0.0, 1.0, 1.0, 1.0, 0.0, 0.0, 0.0, 1.0, 1.0, 1.0, 0.0, 1.0, 1.0, 1.0, 1.0, 1.0, 1.0, 1.0, 1.0, 1.0, 1.0, 1.0, 1.0, 0.0, 0.0, 1.0, 0.0, 1.0, 1.0, 1.0, 1.0, 1.0, 1.0, 1.0, 0.0, 1.0, 0.0, 1.0, 1.0, 1.0, 1.0, 1.0, 1.0, 1.0, 1.0, 1.0, 1.0, 0.0, 1.0, 1.0, 0.0, 0.0, 0.0, 0.0, 0.0, 0.0, 0.0, 1.0, 0.0, 0.0, 1.0, 1.0, 1.0, 0.0, 0.0, 1.0, 1.0, 1.0, 1.0, 0.0, 1.0, 1.0, 1.0, 1.0, 1.0, 1.0, 0.0, 1.0, 0.0, 1.0, 0.0, 1.0, 1.0, 0.0, 1.0, 1.0, 1.0, 1.0, 0.0, 1.0, 1.0, 1.0, 1.0, 0.0, 1.0, 1.0, 1.0, 0.0, 1.0, 1.0, 0.0, 1.0, 0.0, 0.0, 1.0, 1.0, 0.0, 1.0, 0.0, 1.0, 1.0, 0.0, 0.0, 1.0, 0.0, 0.0, 1.0, 1.0, 0.0, 0.0, 0.0, 1.0, 1.0, 1.0, 0.0, 0.0, 0.0, 1.0, 0.0, 1.0, 0.0, 0.0, 0.0, 0.0, 1.0, 1.0, 1.0, 1.0, 0.0, 1.0, 1.0, 1.0, 1.0, 1.0, 1.0, 1.0, 1.0, 1.0, 1.0, 0.0, 0.0, 1.0, 1.0, 1.0, 1.0, 0.0, 1.0, 1.0, 0.0, 0.0, 0.0, 0.0, 0.0, 1.0, 1.0, 1.0, 1.0, 0.0, 0.0, 0.0, 1.0, 1.0, 0.0, 1.0, 1.0, 1.0, 0.0, 1.0, 0.0, 1.0, 1.0, 1.0, 0.0, 0.0, 0.0, 1.0, 1.0, 1.0, 1.0, 1.0, 0.0, 1.0, 0.0, 1.0, 1.0, 1.0, 1.0, 1.0, 1.0, 1.0, 1.0, 1.0, 1.0, 0.0, 0.0, 1.0, 0.0, 0.0, 1.0, 1.0, 1.0, 1.0, 1.0, 0.0, 1.0, 1.0, 0.0, 1.0, 1.0, 1.0, 1.0, 1.0, 1.0, 1.0, 0.0, 0.0, 1.0, 0.0, 1.0, 1.0, 1.0, 0.0, 0.0, 0.0, 1.0, 1.0, 1.0, 0.0, 1.0, 1.0, 0.0, 1.0, 0.0, 1.0, 0.0, 0.0, 0.0, 1.0, 1.0, 0.0, 0.0, 1.0, 1.0, 0.0, 1.0, 0.0, 1.0, 0.0, 0.0, 1.0, 1.0, 0.0, 0.0, 0.0, 1.0, 1.0, 1.0, 1.0, 0.0, 1.0, 1.0, 1.0, 0.0, 1.0, 1.0, 1.0, 0.0, 1.0, 0.0, 1.0, 0.0, 0.0, 0.0, 0.0, 1.0, 0.0, 0.0, 0.0, 0.0, 0.0, 1.0, 1.0, 1.0, 0.0, 1.0, 1.0, 1.0, 1.0, 0.0, 0.0, 0.0, 1.0, 1.0, 0.0, 1.0, 0.0, 1.0, 1.0, 1.0, 0.0, 1.0, 0.0, 1.0, 1.0, 1.0, 0.0, 0.0, 1.0, 1.0, 0.0, 1.0, 1.0, 1.0, 1.0, 1.0, 0.0, 0.0, 0.0, 0.0, 1.0, 0.0, 1.0, 1.0, 0.0, 1.0, 1.0, 1.0, 1.0, 1.0, 1.0, 1.0, 1.0, 1.0, 1.0, 0.0, 0.0, 0.0, 0.0, 0.0, 1.0, 1.0, 0.0, 1.0, 1.0, 1.0, 1.0, 0.0, 1.0, 1.0, 0.0, 1.0, 0.0, 1.0, 0.0, 1.0, 1.0, 1.0, 1.0, 0.0, 1.0, 0.0, 1.0, 1.0, 1.0, 0.0, 1.0, 1.0, 1.0, 0.0, 1.0, 0.0, 1.0, 1.0, 1.0, 0.0, 1.0, 1.0, 1.0, 0.0, 1.0, 1.0, 1.0, 1.0, 1.0, 0.0, 1.0, 1.0, 0.0, 0.0, 0.0, 1.0, 1.0, 0.0, 0.0, 0.0, 0.0, 1.0, 0.0, 0.0, 0.0, 1.0, 0.0, 1.0, 0.0, 0.0, 1.0, 0.0, 1.0, 0.0, 0.0, 0.0, 0.0, 1.0, 0.0, 1.0, 1.0, 1.0, 0.0, 0.0, 0.0, 0.0, 1.0, 1.0, 1.0, 0.0, 1.0, 1.0, 1.0, 1.0, 0.0, 1.0, 1.0, 0.0, 1.0, 1.0, 1.0, 1.0, 1.0, 0.0, 0.0, 0.0, 1.0, 0.0, 0.0, 0.0, 1.0, 0.0, 1.0, 0.0, 1.0, 0.0, 1.0, 1.0, 1.0, 0.0, 1.0, 1.0, 1.0, 1.0, 1.0, 0.0, 0.0, 1.0, 1.0, 1.0, 0.0, 1.0, 0.0, 0.0, 1.0, 1.0, 0.0, 1.0, 1.0, 1.0, 1.0, 1.0, 0.0, 1.0, 0.0, 0.0, 1.0, 0.0, 1.0, 0.0, 1.0, 0.0, 1.0, 1.0, 1.0, 1.0, 0.0, 1.0, 0.0, 0.0, 0.0, 1.0, 1.0, 0.0, 0.0, 0.0, 1.0, 0.0, 1.0, 1.0, 1.0, 0.0, 1.0, 1.0, 1.0, 1.0, 1.0, 1.0, 1.0, 0.0, 1.0, 0.0, 1.0, 0.0, 0.0, 1.0, 1.0, 1.0, 0.0, 1.0, 1.0, 1.0, 1.0, 1.0, 1.0, 1.0, 1.0, 1.0, 1.0, 1.0, 1.0, 1.0, 1.0, 0.0, 1.0, 1.0, 0.0, 1.0, 1.0, 0.0, 0.0, 0.0, 0.0, 0.0, 1.0, 1.0, 1.0, 1.0, 1.0, 0.0, 0.0, 1.0, 1.0, 0.0, 1.0, 0.0, 0.0, 0.0, 1.0, 1.0, 1.0, 1.0, 0.0, 1.0, 0.0, 1.0, 1.0, 0.0, 1.0, 1.0, 0.0, 1.0, 1.0, 1.0, 1.0, 1.0, 0.0, 0.0, 1.0, 1.0, 1.0, 0.0, 1.0, 1.0, 0.0, 0.0, 1.0, 0.0, 1.0, 0.0, 1.0, 1.0, 1.0, 0.0, 0.0, 1.0, 1.0, 1.0, 1.0, 0.0, 1.0, 0.0, 1.0, 0.0, 1.0, 0.0, 0.0, 0.0, 0.0, 0.0, 1.0, 0.0, 0.0, 0.0, 1.0, 1.0, 0.0, 0.0, 1.0, 0.0, 0.0, 1.0, 0.0, 0.0, 0.0, 0.0, 1.0, 1.0, 0.0, 1.0, 1.0, 1.0, 1.0, 0.0, 1.0, 0.0, 0.0, 0.0, 1.0, 1.0, 0.0, 1.0, 0.0, 0.0, 1.0, 1.0, 0.0, 0.0, 1.0, 1.0, 0.0, 1.0, 0.0, 1.0, 1.0, 1.0, 1.0, 0.0, 1.0, 1.0, 1.0, 0.0, 1.0, 0.0, 1.0, 1.0, 1.0, 0.0, 1.0, 1.0, 1.0, 1.0, 1.0, 1.0, 1.0, 0.0, 1.0, 0.0, 1.0, 1.0, 0.0, 0.0, 1.0, 1.0, 1.0, 1.0, 1.0, 0.0, 0.0, 1.0, 1.0, 1.0, 1.0, 1.0, 1.0, 1.0, 1.0, 1.0, 0.0, 0.0, 1.0, 1.0, 1.0, 1.0, 1.0, 1.0, 1.0, 1.0, 0.0, 1.0, 0.0, 1.0, 1.0, 1.0, 1.0, 0.0, 1.0, 0.0, 1.0, 0.0, 0.0, 1.0, 0.0, 1.0, 0.0, 1.0, 0.0, 1.0, 1.0, 1.0, 1.0, 1.0, 1.0, 1.0, 1.0, 1.0, 1.0, 0.0, 1.0, 1.0, 1.0, 1.0, 0.0, 0.0, 0.0, 1.0, 1.0, 0.0, 0.0, 1.0, 1.0, 1.0, 1.0, 0.0, 1.0, 0.0, 1.0, 0.0, 0.0, 0.0, 1.0, 1.0, 1.0, 1.0, 1.0, 1.0, 0.0, 1.0, 1.0, 0.0, 1.0, 0.0, 1.0, 1.0, 1.0, 1.0, 0.0, 0.0, 0.0, 1.0, 1.0, 0.0, 1.0, 1.0, 1.0, 1.0, 0.0, 1.0, 0.0, 0.0, 1.0, 1.0, 1.0, 1.0, 0.0, 1.0, 1.0, 1.0, 1.0, 1.0, 0.0, 1.0, 1.0, 1.0, 1.0, 0.0, 0.0, 1.0, 0.0, 1.0, 1.0, 1.0, 0.0, 1.0, 1.0, 1.0, 1.0, 0.0, 1.0, 0.0, 1.0, 0.0, 1.0, 1.0, 1.0, 0.0, 0.0, 0.0, 1.0, 0.0, 0.0, 0.0, 0.0, 0.0, 1.0, 1.0, 1.0, 1.0, 0.0, 1.0, 0.0, 1.0, 1.0, 1.0, 0.0, 1.0, 1.0, 1.0, 0.0, 0.0, 1.0, 0.0, 1.0, 1.0, 0.0, 1.0, 0.0, 1.0, 0.0, 0.0, 0.0, 0.0, 1.0, 1.0, 1.0], \"legendgroup\": \"\", \"name\": \"\", \"showlegend\": true, \"type\": \"pie\"}],\n",
              "                        {\"legend\": {\"tracegroupgap\": 0}, \"template\": {\"data\": {\"bar\": [{\"error_x\": {\"color\": \"#2a3f5f\"}, \"error_y\": {\"color\": \"#2a3f5f\"}, \"marker\": {\"line\": {\"color\": \"#E5ECF6\", \"width\": 0.5}}, \"type\": \"bar\"}], \"barpolar\": [{\"marker\": {\"line\": {\"color\": \"#E5ECF6\", \"width\": 0.5}}, \"type\": \"barpolar\"}], \"carpet\": [{\"aaxis\": {\"endlinecolor\": \"#2a3f5f\", \"gridcolor\": \"white\", \"linecolor\": \"white\", \"minorgridcolor\": \"white\", \"startlinecolor\": \"#2a3f5f\"}, \"baxis\": {\"endlinecolor\": \"#2a3f5f\", \"gridcolor\": \"white\", \"linecolor\": \"white\", \"minorgridcolor\": \"white\", \"startlinecolor\": \"#2a3f5f\"}, \"type\": \"carpet\"}], \"choropleth\": [{\"colorbar\": {\"outlinewidth\": 0, \"ticks\": \"\"}, \"type\": \"choropleth\"}], \"contour\": [{\"colorbar\": {\"outlinewidth\": 0, \"ticks\": \"\"}, \"colorscale\": [[0.0, \"#0d0887\"], [0.1111111111111111, \"#46039f\"], [0.2222222222222222, \"#7201a8\"], [0.3333333333333333, \"#9c179e\"], [0.4444444444444444, \"#bd3786\"], [0.5555555555555556, \"#d8576b\"], [0.6666666666666666, \"#ed7953\"], [0.7777777777777778, \"#fb9f3a\"], [0.8888888888888888, \"#fdca26\"], [1.0, \"#f0f921\"]], \"type\": \"contour\"}], \"contourcarpet\": [{\"colorbar\": {\"outlinewidth\": 0, \"ticks\": \"\"}, \"type\": \"contourcarpet\"}], \"heatmap\": [{\"colorbar\": {\"outlinewidth\": 0, \"ticks\": \"\"}, \"colorscale\": [[0.0, \"#0d0887\"], [0.1111111111111111, \"#46039f\"], [0.2222222222222222, \"#7201a8\"], [0.3333333333333333, \"#9c179e\"], [0.4444444444444444, \"#bd3786\"], [0.5555555555555556, \"#d8576b\"], [0.6666666666666666, \"#ed7953\"], [0.7777777777777778, \"#fb9f3a\"], [0.8888888888888888, \"#fdca26\"], [1.0, \"#f0f921\"]], \"type\": \"heatmap\"}], \"heatmapgl\": [{\"colorbar\": {\"outlinewidth\": 0, \"ticks\": \"\"}, \"colorscale\": [[0.0, \"#0d0887\"], [0.1111111111111111, \"#46039f\"], [0.2222222222222222, \"#7201a8\"], [0.3333333333333333, \"#9c179e\"], [0.4444444444444444, \"#bd3786\"], [0.5555555555555556, \"#d8576b\"], [0.6666666666666666, \"#ed7953\"], [0.7777777777777778, \"#fb9f3a\"], [0.8888888888888888, \"#fdca26\"], [1.0, \"#f0f921\"]], \"type\": \"heatmapgl\"}], \"histogram\": [{\"marker\": {\"colorbar\": {\"outlinewidth\": 0, \"ticks\": \"\"}}, \"type\": \"histogram\"}], \"histogram2d\": [{\"colorbar\": {\"outlinewidth\": 0, \"ticks\": \"\"}, \"colorscale\": [[0.0, \"#0d0887\"], [0.1111111111111111, \"#46039f\"], [0.2222222222222222, \"#7201a8\"], [0.3333333333333333, \"#9c179e\"], [0.4444444444444444, \"#bd3786\"], [0.5555555555555556, \"#d8576b\"], [0.6666666666666666, \"#ed7953\"], [0.7777777777777778, \"#fb9f3a\"], [0.8888888888888888, \"#fdca26\"], [1.0, \"#f0f921\"]], \"type\": \"histogram2d\"}], \"histogram2dcontour\": [{\"colorbar\": {\"outlinewidth\": 0, \"ticks\": \"\"}, \"colorscale\": [[0.0, \"#0d0887\"], [0.1111111111111111, \"#46039f\"], [0.2222222222222222, \"#7201a8\"], [0.3333333333333333, \"#9c179e\"], [0.4444444444444444, \"#bd3786\"], [0.5555555555555556, \"#d8576b\"], [0.6666666666666666, \"#ed7953\"], [0.7777777777777778, \"#fb9f3a\"], [0.8888888888888888, \"#fdca26\"], [1.0, \"#f0f921\"]], \"type\": \"histogram2dcontour\"}], \"mesh3d\": [{\"colorbar\": {\"outlinewidth\": 0, \"ticks\": \"\"}, \"type\": \"mesh3d\"}], \"parcoords\": [{\"line\": {\"colorbar\": {\"outlinewidth\": 0, \"ticks\": \"\"}}, \"type\": \"parcoords\"}], \"pie\": [{\"automargin\": true, \"type\": \"pie\"}], \"scatter\": [{\"marker\": {\"colorbar\": {\"outlinewidth\": 0, \"ticks\": \"\"}}, \"type\": \"scatter\"}], \"scatter3d\": [{\"line\": {\"colorbar\": {\"outlinewidth\": 0, \"ticks\": \"\"}}, \"marker\": {\"colorbar\": {\"outlinewidth\": 0, \"ticks\": \"\"}}, \"type\": \"scatter3d\"}], \"scattercarpet\": [{\"marker\": {\"colorbar\": {\"outlinewidth\": 0, \"ticks\": \"\"}}, \"type\": \"scattercarpet\"}], \"scattergeo\": [{\"marker\": {\"colorbar\": {\"outlinewidth\": 0, \"ticks\": \"\"}}, \"type\": \"scattergeo\"}], \"scattergl\": [{\"marker\": {\"colorbar\": {\"outlinewidth\": 0, \"ticks\": \"\"}}, \"type\": \"scattergl\"}], \"scattermapbox\": [{\"marker\": {\"colorbar\": {\"outlinewidth\": 0, \"ticks\": \"\"}}, \"type\": \"scattermapbox\"}], \"scatterpolar\": [{\"marker\": {\"colorbar\": {\"outlinewidth\": 0, \"ticks\": \"\"}}, \"type\": \"scatterpolar\"}], \"scatterpolargl\": [{\"marker\": {\"colorbar\": {\"outlinewidth\": 0, \"ticks\": \"\"}}, \"type\": \"scatterpolargl\"}], \"scatterternary\": [{\"marker\": {\"colorbar\": {\"outlinewidth\": 0, \"ticks\": \"\"}}, \"type\": \"scatterternary\"}], \"surface\": [{\"colorbar\": {\"outlinewidth\": 0, \"ticks\": \"\"}, \"colorscale\": [[0.0, \"#0d0887\"], [0.1111111111111111, \"#46039f\"], [0.2222222222222222, \"#7201a8\"], [0.3333333333333333, \"#9c179e\"], [0.4444444444444444, \"#bd3786\"], [0.5555555555555556, \"#d8576b\"], [0.6666666666666666, \"#ed7953\"], [0.7777777777777778, \"#fb9f3a\"], [0.8888888888888888, \"#fdca26\"], [1.0, \"#f0f921\"]], \"type\": \"surface\"}], \"table\": [{\"cells\": {\"fill\": {\"color\": \"#EBF0F8\"}, \"line\": {\"color\": \"white\"}}, \"header\": {\"fill\": {\"color\": \"#C8D4E3\"}, \"line\": {\"color\": \"white\"}}, \"type\": \"table\"}]}, \"layout\": {\"annotationdefaults\": {\"arrowcolor\": \"#2a3f5f\", \"arrowhead\": 0, \"arrowwidth\": 1}, \"coloraxis\": {\"colorbar\": {\"outlinewidth\": 0, \"ticks\": \"\"}}, \"colorscale\": {\"diverging\": [[0, \"#8e0152\"], [0.1, \"#c51b7d\"], [0.2, \"#de77ae\"], [0.3, \"#f1b6da\"], [0.4, \"#fde0ef\"], [0.5, \"#f7f7f7\"], [0.6, \"#e6f5d0\"], [0.7, \"#b8e186\"], [0.8, \"#7fbc41\"], [0.9, \"#4d9221\"], [1, \"#276419\"]], \"sequential\": [[0.0, \"#0d0887\"], [0.1111111111111111, \"#46039f\"], [0.2222222222222222, \"#7201a8\"], [0.3333333333333333, \"#9c179e\"], [0.4444444444444444, \"#bd3786\"], [0.5555555555555556, \"#d8576b\"], [0.6666666666666666, \"#ed7953\"], [0.7777777777777778, \"#fb9f3a\"], [0.8888888888888888, \"#fdca26\"], [1.0, \"#f0f921\"]], \"sequentialminus\": [[0.0, \"#0d0887\"], [0.1111111111111111, \"#46039f\"], [0.2222222222222222, \"#7201a8\"], [0.3333333333333333, \"#9c179e\"], [0.4444444444444444, \"#bd3786\"], [0.5555555555555556, \"#d8576b\"], [0.6666666666666666, \"#ed7953\"], [0.7777777777777778, \"#fb9f3a\"], [0.8888888888888888, \"#fdca26\"], [1.0, \"#f0f921\"]]}, \"colorway\": [\"#636efa\", \"#EF553B\", \"#00cc96\", \"#ab63fa\", \"#FFA15A\", \"#19d3f3\", \"#FF6692\", \"#B6E880\", \"#FF97FF\", \"#FECB52\"], \"font\": {\"color\": \"#2a3f5f\"}, \"geo\": {\"bgcolor\": \"white\", \"lakecolor\": \"white\", \"landcolor\": \"#E5ECF6\", \"showlakes\": true, \"showland\": true, \"subunitcolor\": \"white\"}, \"hoverlabel\": {\"align\": \"left\"}, \"hovermode\": \"closest\", \"mapbox\": {\"style\": \"light\"}, \"paper_bgcolor\": \"white\", \"plot_bgcolor\": \"#E5ECF6\", \"polar\": {\"angularaxis\": {\"gridcolor\": \"white\", \"linecolor\": \"white\", \"ticks\": \"\"}, \"bgcolor\": \"#E5ECF6\", \"radialaxis\": {\"gridcolor\": \"white\", \"linecolor\": \"white\", \"ticks\": \"\"}}, \"scene\": {\"xaxis\": {\"backgroundcolor\": \"#E5ECF6\", \"gridcolor\": \"white\", \"gridwidth\": 2, \"linecolor\": \"white\", \"showbackground\": true, \"ticks\": \"\", \"zerolinecolor\": \"white\"}, \"yaxis\": {\"backgroundcolor\": \"#E5ECF6\", \"gridcolor\": \"white\", \"gridwidth\": 2, \"linecolor\": \"white\", \"showbackground\": true, \"ticks\": \"\", \"zerolinecolor\": \"white\"}, \"zaxis\": {\"backgroundcolor\": \"#E5ECF6\", \"gridcolor\": \"white\", \"gridwidth\": 2, \"linecolor\": \"white\", \"showbackground\": true, \"ticks\": \"\", \"zerolinecolor\": \"white\"}}, \"shapedefaults\": {\"line\": {\"color\": \"#2a3f5f\"}}, \"ternary\": {\"aaxis\": {\"gridcolor\": \"white\", \"linecolor\": \"white\", \"ticks\": \"\"}, \"baxis\": {\"gridcolor\": \"white\", \"linecolor\": \"white\", \"ticks\": \"\"}, \"bgcolor\": \"#E5ECF6\", \"caxis\": {\"gridcolor\": \"white\", \"linecolor\": \"white\", \"ticks\": \"\"}}, \"title\": {\"x\": 0.05}, \"xaxis\": {\"automargin\": true, \"gridcolor\": \"white\", \"linecolor\": \"white\", \"ticks\": \"\", \"title\": {\"standoff\": 15}, \"zerolinecolor\": \"white\", \"zerolinewidth\": 2}, \"yaxis\": {\"automargin\": true, \"gridcolor\": \"white\", \"linecolor\": \"white\", \"ticks\": \"\", \"title\": {\"standoff\": 15}, \"zerolinecolor\": \"white\", \"zerolinewidth\": 2}}}, \"title\": {\"text\": \"Survival breakdown\"}},\n",
              "                        {\"responsive\": true}\n",
              "                    ).then(function(){\n",
              "                            \n",
              "var gd = document.getElementById('5f866673-d60f-4f88-90af-e59ad2ea8b2e');\n",
              "var x = new MutationObserver(function (mutations, observer) {{\n",
              "        var display = window.getComputedStyle(gd).display;\n",
              "        if (!display || display === 'none') {{\n",
              "            console.log([gd, 'removed!']);\n",
              "            Plotly.purge(gd);\n",
              "            observer.disconnect();\n",
              "        }}\n",
              "}});\n",
              "\n",
              "// Listen for the removal of the full notebook cells\n",
              "var notebookContainer = gd.closest('#notebook-container');\n",
              "if (notebookContainer) {{\n",
              "    x.observe(notebookContainer, {childList: true});\n",
              "}}\n",
              "\n",
              "// Listen for the clearing of the current output cell\n",
              "var outputEl = gd.closest('.output');\n",
              "if (outputEl) {{\n",
              "    x.observe(outputEl, {childList: true});\n",
              "}}\n",
              "\n",
              "                        })\n",
              "                };\n",
              "                \n",
              "            </script>\n",
              "        </div>\n",
              "</body>\n",
              "</html>"
            ]
          },
          "metadata": {
            "tags": []
          }
        }
      ]
    },
    {
      "cell_type": "code",
      "metadata": {
        "id": "zAI6eNwXChFC"
      },
      "source": [
        "#Pulling data for race breakdown\r\n",
        "race_list = list(filter(lambda n: 'RAC' in n,list(stud_des_df.columns)))\r\n",
        "\r\n",
        "race_df = stud_des_df[race_list]"
      ],
      "execution_count": 121,
      "outputs": []
    },
    {
      "cell_type": "code",
      "metadata": {
        "id": "uyyLvix-G8gd"
      },
      "source": [
        "#Still pulling data for race breakdown\r\n",
        "racs = []\r\n",
        "for row in race_df.iterrows():\r\n",
        "\r\n",
        "  racs.append(list(row[1].index[row[1]==1]))"
      ],
      "execution_count": 202,
      "outputs": []
    },
    {
      "cell_type": "code",
      "metadata": {
        "colab": {
          "base_uri": "https://localhost:8080/",
          "height": 630
        },
        "id": "gsb2oM9gHeBT",
        "outputId": "0b494347-35ea-4e8b-8ed7-bbba384dc4a6"
      },
      "source": [
        "#Shows that 93% of participants were race 1 (White)\r\n",
        "# 4.5% were Race 2 (Black)\r\n",
        "# .625% Race 3 (American Indian/Alaskan Native)\r\n",
        "# .438% Race 4 (Asian)\r\n",
        "# .125% Race 5 (Native Hawaiian/other Pacific Islander)\r\n",
        "\r\n",
        "px.pie(names = racs, title = 'Race breakdown')"
      ],
      "execution_count": 217,
      "outputs": [
        {
          "output_type": "stream",
          "text": [
            "/usr/local/lib/python3.6/dist-packages/plotly/express/_core.py:998: VisibleDeprecationWarning:\n",
            "\n",
            "Creating an ndarray from ragged nested sequences (which is a list-or-tuple of lists-or-tuples-or ndarrays with different lengths or shapes) is deprecated. If you meant to do this, you must specify 'dtype=object' when creating the ndarray\n",
            "\n"
          ],
          "name": "stderr"
        },
        {
          "output_type": "display_data",
          "data": {
            "text/html": [
              "<html>\n",
              "<head><meta charset=\"utf-8\" /></head>\n",
              "<body>\n",
              "    <div>\n",
              "            <script src=\"https://cdnjs.cloudflare.com/ajax/libs/mathjax/2.7.5/MathJax.js?config=TeX-AMS-MML_SVG\"></script><script type=\"text/javascript\">if (window.MathJax) {MathJax.Hub.Config({SVG: {font: \"STIX-Web\"}});}</script>\n",
              "                <script type=\"text/javascript\">window.PlotlyConfig = {MathJaxConfig: 'local'};</script>\n",
              "        <script src=\"https://cdn.plot.ly/plotly-latest.min.js\"></script>    \n",
              "            <div id=\"eac6b15c-cab3-44b4-adee-5a449dee4f1b\" class=\"plotly-graph-div\" style=\"height:525px; width:100%;\"></div>\n",
              "            <script type=\"text/javascript\">\n",
              "                \n",
              "                    window.PLOTLYENV=window.PLOTLYENV || {};\n",
              "                    \n",
              "                if (document.getElementById(\"eac6b15c-cab3-44b4-adee-5a449dee4f1b\")) {\n",
              "                    Plotly.newPlot(\n",
              "                        'eac6b15c-cab3-44b4-adee-5a449dee4f1b',\n",
              "                        [{\"domain\": {\"x\": [0.0, 1.0], \"y\": [0.0, 1.0]}, \"hoverlabel\": {\"namelength\": 0}, \"hovertemplate\": \"label=%{label}\", \"labels\": [[\"RACE1\"], [\"RACE1\"], [\"RACE1\"], [\"RACE1\"], [\"RACE1\"], [\"RACE1\"], [\"RACE1\"], [\"RACE1\"], [\"RACE1\"], [\"RACE1\"], [\"RACE1\"], [\"RACE1\"], [\"RACE1\"], [\"RACE1\"], [\"RACE1\"], [\"RACE1\"], [\"RACE1\"], [\"RACE1\"], [\"RACE1\"], [\"RACE1\"], [\"RACE1\"], [\"RACE1\"], [\"RACE1\", \"MULTIRACIAL\"], [\"RACE1\"], [\"RACE1\"], [\"RACE1\"], [\"RACE1\"], [\"RACE1\"], [\"RACE1\"], [\"RACE1\"], [\"RACE1\"], [\"RACE1\"], [\"RACE1\"], [\"RACE1\"], [\"RACE1\"], [\"RACE1\"], [\"RACE1\"], [\"RACE1\"], [\"RACE1\"], [\"RACE1\"], [\"RACE1\"], [\"RACE1\"], [\"RACE1\"], [\"RACE1\"], [\"RACE1\"], [\"RACE1\"], [\"RACE1\"], [\"RACE1\"], [\"RACE1\"], [\"RACE1\"], [\"RACE1\"], [\"RACE1\"], [\"RACE1\"], [\"RACE1\"], [\"RACE1\"], [\"RACE1\"], [\"RACE2\"], [\"RACE1\"], [\"RACE1\"], [\"RACE1\"], [\"RACE1\"], [\"RACE2\"], [\"RACE1\"], [\"RACE1\"], [\"RACE3\"], [\"RACE1\"], [\"RACE1\"], [\"RACE1\"], [\"RACE1\"], [\"RACE1\"], [\"RACE1\"], [\"RACE1\"], [\"RACE1\"], [\"RACE1\"], [\"RACE1\"], [\"RACE1\"], [\"RACE1\"], [\"RACE1\"], [\"RACE1\"], [\"RACE1\"], [\"RACE1\"], [\"RACE1\"], [\"RACE1\"], [\"RACE1\"], [\"RACE1\"], [\"RACE1\"], [\"RACE1\"], [\"RACE1\"], [\"RACE1\"], [\"RACE1\"], [\"RACE1\"], [\"RACE1\"], [\"RACE1\"], [\"RACE1\"], [\"RACE1\"], [\"RACE1\"], [\"RACE1\"], [\"RACE1\"], [\"RACE1\"], [\"RACE1\"], [\"RACE1\"], [\"RACE1\"], [\"RACE1\"], [\"RACE1\"], [\"RACE2\"], [\"RACE1\"], [\"RACE1\"], [\"RACE1\"], [\"RACE1\"], [\"RACE1\"], [\"RACE2\"], [\"RACE1\"], [\"RACE1\"], [\"RACE1\"], [\"RACE1\"], [\"RACE1\"], [\"RACE1\"], [\"RACE1\"], [\"RACE1\"], [\"RACE1\"], [\"RACE1\"], [\"RACE1\"], [\"RACE1\"], [\"RACE1\"], [\"RACE1\"], [\"RACE1\"], [\"RACE1\"], [\"RACE1\"], [\"RACE1\"], [\"RACE1\"], [\"RACE1\"], [\"RACE1\"], [\"RACE1\"], [\"RACE1\"], [\"RACE2\"], [\"RACE1\"], [\"RACE1\"], [\"RACE1\"], [\"RACE1\"], [\"RACE1\"], [\"RACE1\"], [\"RACE1\"], [\"RACE1\"], [\"RACE1\"], [\"RACE1\"], [\"RACE1\"], [\"RACE1\"], [\"RACE1\"], [\"RACE1\"], [\"RACE1\"], [\"RACE1\"], [\"RACE1\"], [\"RACE1\"], [\"RACE1\"], [\"RACE1\"], [\"RACE1\"], [\"RACE1\"], [\"RACE1\", \"RACE3\", \"MULTIRACIAL\"], [\"RACE1\"], [\"RACE1\"], [\"RACE1\"], [\"RACE1\"], [\"RACE1\"], [\"RACE1\"], [\"RACE1\"], [\"RACE1\"], [\"RACE1\"], [\"RACE1\"], [\"RACE1\"], [\"RACE1\"], [\"RACE1\"], [\"RACE1\"], [\"RACE1\"], [\"RACE1\"], [\"RACE1\"], [\"RACE1\"], [\"RACE1\"], [\"RACE1\"], [\"RACE1\"], [\"RACE1\"], [\"RACE1\"], [\"RACE1\"], [\"RACE3\"], [\"RACE1\"], [\"RACE1\"], [\"RACE1\"], [\"RACE1\"], [\"RACE1\"], [], [\"RACE1\"], [\"RACE1\"], [\"RACE1\"], [\"RACE1\"], [\"RACE2\"], [\"RACE1\"], [\"RACE1\"], [\"RACE1\"], [\"RACE1\"], [\"RACE1\"], [\"RACE2\"], [\"RACE1\"], [\"RACE1\"], [\"RACE1\"], [\"RACE1\"], [\"RACE1\"], [\"RACE1\"], [\"RACE1\"], [\"RACE1\"], [\"RACE1\"], [\"RACE1\"], [\"RACE1\"], [\"RACE1\"], [\"RACE2\"], [\"RACE1\"], [], [\"RACE2\"], [\"RACE1\"], [\"RACE1\"], [\"RACE1\"], [\"RACE1\"], [\"RACE1\"], [\"RACE1\"], [\"RACE1\"], [\"RACE1\"], [\"RACE1\"], [\"RACE1\"], [\"RACE1\"], [\"RACE1\"], [\"RACE1\"], [\"RACE1\"], [\"RACE1\"], [\"RACE2\"], [\"RACE1\"], [\"RACE1\"], [\"RACE1\"], [\"RACE1\"], [\"RACE1\"], [\"RACE1\"], [\"RACE1\"], [\"RACE1\"], [\"RACE1\"], [\"RACE1\"], [\"RACE1\"], [\"RACE1\"], [\"RACE1\"], [\"RACE1\"], [\"RACE1\"], [\"RACE1\"], [\"RACE1\"], [\"RACE1\"], [\"RACE1\"], [\"RACE1\"], [\"RACE1\"], [\"RACE1\"], [\"RACE1\"], [\"RACE1\"], [\"RACE1\"], [\"RACE1\"], [\"RACE1\"], [\"RACE1\"], [\"RACE1\"], [\"RACE1\"], [\"RACE2\"], [\"RACE1\"], [\"RACE1\"], [\"RACE1\"], [\"RACE1\"], [], [\"RACE1\"], [\"RACE1\"], [\"RACE1\"], [\"RACE1\"], [\"RACE1\"], [\"RACE1\"], [\"RACE1\"], [\"RACE1\"], [\"RACE2\"], [\"RACE1\"], [\"RACE1\"], [\"RACE1\"], [\"RACE1\"], [\"RACE1\"], [\"RACE1\"], [\"RACE1\"], [\"RACE1\"], [\"RACE1\"], [\"RACE1\"], [\"RACE1\"], [\"RACE1\"], [\"RACE1\"], [\"RACE1\"], [\"RACE1\"], [\"RACE1\"], [\"RACE2\"], [\"RACE1\"], [\"RACE1\"], [\"RACE1\"], [\"RACE1\"], [\"RACE2\"], [\"RACE1\"], [\"RACE1\"], [\"RACE1\"], [\"RACE1\"], [\"RACE1\"], [\"RACE1\"], [\"RACE1\"], [\"RACE1\"], [\"RACE1\"], [\"RACE1\"], [\"RACE1\"], [\"RACE1\"], [\"RACE1\"], [\"RACE1\"], [\"RACE1\"], [\"RACE1\"], [\"RACE1\"], [\"RACE1\"], [\"RACE1\"], [\"RACE1\"], [\"RACE1\"], [\"RACE1\"], [\"RACE1\"], [\"RACE1\"], [\"RACE1\"], [\"RACE1\"], [\"RACE1\"], [\"RACE1\"], [\"RACE1\"], [\"RACE1\"], [\"RACE1\"], [\"RACE1\"], [\"RACE1\"], [\"RACE1\"], [\"RACE1\"], [\"RACE1\"], [\"RACE1\"], [\"RACE1\"], [\"RACE1\"], [\"RACE1\"], [\"RACE1\"], [\"RACE1\"], [\"RACE1\"], [\"RACE1\"], [\"RACE1\"], [\"RACE1\"], [\"RACE1\"], [\"RACE1\"], [\"RACE1\"], [\"RACE1\"], [\"RACE1\"], [\"RACE2\"], [\"RACE1\"], [\"RACE1\"], [\"RACE1\"], [\"RACE1\"], [\"RACE1\"], [\"RACE1\"], [\"RACE1\"], [\"RACE1\"], [\"RACE1\"], [\"RACE4\"], [\"RACE1\"], [\"RACE1\"], [\"RACE1\"], [\"RACE1\"], [\"RACE1\"], [\"RACE1\"], [\"RACE2\"], [\"RACE1\", \"RACE3\", \"MULTIRACIAL\"], [\"RACE1\"], [\"RACE1\"], [\"RACE1\"], [\"RACE3\"], [\"RACE1\"], [\"RACE1\"], [\"RACE1\"], [\"RACE1\"], [\"RACE1\"], [\"RACE1\"], [\"RACE1\"], [\"RACE1\"], [\"RACE1\"], [\"RACE1\"], [\"RACE1\"], [\"RACE1\"], [\"RACE1\"], [\"RACE1\"], [\"RACE1\"], [\"RACE1\"], [\"RACE1\"], [\"RACE1\"], [\"RACE1\"], [\"RACE1\"], [\"RACE1\"], [\"RACE1\"], [\"RACE1\"], [\"RACE1\"], [\"RACE1\"], [\"RACE1\"], [\"RACE1\"], [\"RACE1\"], [\"RACE1\"], [\"RACE1\"], [\"RACE1\"], [\"RACE1\"], [\"RACE1\"], [\"RACE1\"], [\"RACE1\"], [\"RACE1\"], [\"RACE1\"], [\"RACE1\"], [\"RACE1\"], [\"RACE1\"], [\"RACE1\"], [\"RACE1\"], [\"RACE1\"], [\"RACE1\"], [\"RACE1\"], [\"RACE1\"], [\"RACE1\"], [\"RACE1\"], [], [\"RACE1\"], [\"RACE1\"], [\"RACE4\"], [\"RACE1\"], [\"RACE1\"], [\"RACE1\"], [\"RACE1\"], [\"RACE1\"], [\"RACE1\"], [\"RACE1\"], [\"RACE1\"], [\"RACE1\"], [\"RACE1\"], [\"RACE1\"], [\"RACE1\"], [\"RACE1\"], [\"RACE1\"], [\"RACE1\"], [], [\"RACE1\"], [\"RACE1\"], [\"RACE1\"], [\"RACE1\"], [\"RACE2\"], [\"RACE1\"], [\"RACE1\"], [\"RACE1\"], [\"RACE1\"], [\"RACE1\"], [\"RACE1\"], [\"RACE1\"], [\"RACE1\"], [\"RACE1\"], [\"RACE1\"], [\"RACE1\"], [\"RACE1\"], [\"RACE1\"], [\"RACE1\"], [\"RACE1\"], [\"RACE1\"], [\"RACE1\"], [\"RACE1\"], [\"RACE1\"], [\"RACE1\"], [\"RACE1\"], [\"RACE1\"], [\"RACE1\"], [\"RACE1\"], [\"RACE1\"], [\"RACE1\"], [\"RACE1\"], [\"RACE1\"], [\"RACE1\"], [\"RACE1\"], [\"RACE1\"], [\"RACE1\"], [\"RACE1\"], [\"RACE1\"], [\"RACE1\"], [\"RACE1\"], [\"RACE1\"], [\"RACE1\"], [\"RACE1\"], [\"RACE1\"], [], [\"RACE1\"], [\"RACE1\"], [\"RACE1\"], [\"RACE1\"], [\"RACE1\"], [\"RACE1\"], [\"RACE1\"], [\"RACE1\"], [\"RACE1\"], [\"RACE1\"], [\"RACE1\"], [\"RACE1\"], [\"RACE1\"], [\"RACE1\"], [\"RACE1\"], [\"RACE1\"], [\"RACE1\"], [\"RACE1\"], [\"RACE1\"], [\"RACE1\"], [\"RACE1\"], [\"RACE1\"], [\"RACE1\"], [\"RACE1\"], [\"RACE1\"], [\"RACE1\"], [\"RACE1\"], [\"RACE1\"], [\"RACE1\"], [\"RACE1\"], [\"RACE1\"], [\"RACE1\"], [\"RACE1\"], [\"RACE1\"], [\"RACE1\"], [\"RACE1\"], [\"RACE1\"], [\"RACE1\"], [\"RACE1\"], [\"RACE1\"], [\"RACE1\"], [\"RACE1\"], [\"RACE1\"], [\"RACE1\"], [\"RACE1\"], [\"RACE3\"], [\"RACE1\"], [\"RACE1\"], [\"RACE1\"], [\"RACE1\"], [\"RACE1\"], [\"RACE1\"], [\"RACE1\"], [], [\"RACE1\"], [\"RACE1\"], [\"RACE1\"], [\"RACE1\"], [\"RACE1\"], [\"RACE1\"], [\"RACE1\"], [\"RACE1\"], [\"RACE1\"], [\"RACE1\"], [\"RACE1\"], [\"RACE1\"], [\"RACE1\"], [\"RACE1\"], [\"RACE1\"], [\"RACE1\"], [\"RACE3\"], [\"RACE1\"], [\"RACE1\"], [\"RACE1\"], [\"RACE1\"], [\"RACE1\"], [\"RACE1\"], [\"RACE1\"], [\"RACE1\"], [\"RACE1\"], [\"RACE1\"], [\"RACE1\"], [\"RACE1\"], [\"RACE1\"], [\"RACE1\"], [\"RACE1\"], [\"RACE1\"], [\"RACE1\"], [\"RACE1\"], [\"RACE1\"], [\"RACE1\"], [\"RACE1\"], [\"RACE1\"], [\"RACE2\"], [\"RACE2\"], [\"RACE1\"], [\"RACE1\"], [\"RACE1\"], [\"RACE1\"], [\"RACE1\"], [\"RACE1\"], [\"RACE1\"], [\"RACE1\"], [\"RACE1\"], [\"RACE1\"], [\"RACE1\"], [\"RACE1\"], [\"RACE1\"], [\"RACE1\"], [\"RACE1\"], [\"RACE1\"], [\"RACE1\"], [\"RACE2\"], [\"RACE1\"], [\"RACE1\"], [\"RACE1\"], [\"RACE1\"], [\"RACE1\"], [\"RACE2\"], [\"RACE1\"], [\"RACE1\"], [\"RACE1\"], [\"RACE1\"], [\"RACE1\"], [\"RACE1\"], [\"RACE2\"], [\"RACE1\"], [\"RACE1\"], [\"RACE1\"], [\"RACE1\"], [\"RACE1\"], [\"RACE1\"], [\"RACE1\"], [\"RACE1\"], [\"RACE1\"], [\"RACE1\"], [\"RACE1\"], [\"RACE1\"], [\"RACE1\"], [\"RACE1\"], [\"RACE1\"], [\"RACE1\"], [\"RACE1\"], [\"RACE1\"], [\"RACE1\"], [\"RACE1\"], [\"RACE1\"], [\"RACE1\"], [\"RACE1\"], [\"RACE1\"], [\"RACE1\"], [\"RACE1\"], [\"RACE1\"], [\"RACE1\"], [\"RACE1\"], [\"RACE1\"], [\"RACE1\"], [\"RACE1\"], [\"RACE1\"], [\"RACE1\"], [\"RACE1\"], [\"RACE1\"], [\"RACE1\"], [\"RACE1\"], [\"RACE1\"], [\"RACE1\"], [\"RACE1\"], [\"RACE1\"], [\"RACE1\"], [\"RACE1\"], [\"RACE1\"], [\"RACE1\"], [\"RACE1\"], [\"RACE1\"], [\"RACE2\"], [\"RACE1\"], [\"RACE1\"], [\"RACE1\"], [\"RACE1\"], [\"RACE1\"], [\"RACE1\"], [\"RACE2\"], [\"RACE1\"], [\"RACE1\"], [\"RACE1\"], [\"RACE1\"], [\"RACE1\"], [\"RACE1\"], [\"RACE1\"], [\"RACE1\"], [\"RACE1\"], [\"RACE1\"], [\"RACE1\"], [\"RACE2\"], [\"RACE2\"], [\"RACE1\"], [\"RACE1\"], [\"RACE1\"], [\"RACE1\"], [\"RACE1\"], [\"RACE1\"], [\"RACE1\"], [\"RACE1\"], [\"RACE1\"], [\"RACE1\"], [\"RACE1\"], [\"RACE1\"], [\"RACE1\"], [\"RACE1\"], [\"RACE1\"], [\"RACE1\"], [\"RACE4\"], [\"RACE2\"], [\"RACE1\"], [\"RACE1\"], [\"RACE1\"], [\"RACE1\"], [\"RACE1\"], [\"RACE1\"], [\"RACE1\"], [\"RACE1\"], [\"RACE1\"], [\"RACE1\"], [\"RACE1\"], [\"RACE1\"], [\"RACE1\"], [\"RACE1\"], [\"RACE1\"], [\"RACE1\"], [], [\"RACE2\"], [\"RACE1\"], [\"RACE1\"], [\"RACE1\"], [\"RACE1\"], [\"RACE1\"], [\"RACE1\"], [\"RACE1\"], [\"RACE1\"], [\"RACE1\"], [\"RACE1\"], [\"RACE1\"], [\"RACE1\"], [\"RACE1\"], [\"RACE1\"], [\"RACE1\"], [\"RACE1\"], [\"RACE1\"], [\"RACE1\"], [\"RACE1\"], [\"RACE1\"], [\"RACE1\"], [\"RACE1\"], [\"RACE1\"], [\"RACE1\"], [\"RACE1\"], [\"RACE1\"], [\"RACE1\"], [\"RACE1\"], [\"RACE2\"], [\"RACE1\"], [\"RACE1\"], [\"RACE1\"], [\"RACE1\"], [\"RACE1\"], [\"RACE1\"], [\"RACE1\"], [\"RACE1\"], [\"RACE1\"], [\"RACE1\"], [\"RACE4\"], [\"RACE1\"], [\"RACE1\"], [\"RACE1\"], [\"RACE1\"], [\"RACE1\"], [\"RACE1\"], [\"RACE1\"], [\"RACE1\"], [\"RACE1\"], [\"RACE1\"], [\"RACE1\"], [\"RACE1\"], [\"RACE1\"], [\"RACE1\"], [\"RACE1\"], [\"RACE1\"], [\"RACE1\"], [\"RACE1\"], [\"RACE1\"], [\"RACE1\"], [\"RACE1\"], [\"RACE1\"], [\"RACE1\"], [\"RACE1\"], [\"RACE1\"], [\"RACE1\"], [\"RACE2\"], [\"RACE1\"], [\"RACE1\"], [\"RACE1\"], [\"RACE2\"], [\"RACE3\"], [\"RACE1\"], [\"RACE1\"], [\"RACE1\"], [\"RACE1\"], [\"RACE1\"], [\"RACE1\"], [\"RACE1\"], [\"RACE1\"], [\"RACE1\"], [\"RACE1\"], [\"RACE1\"], [\"RACE1\"], [\"RACE1\"], [\"RACE1\"], [\"RACE1\"], [\"RACE1\"], [\"RACE1\"], [\"RACE1\"], [\"RACE1\"], [\"RACE1\"], [\"RACE1\"], [\"RACE1\"], [\"RACE2\"], [\"RACE3\"], [\"RACE1\"], [\"RACE1\"], [\"RACE1\"], [\"RACE1\"], [\"RACE1\"], [\"RACE1\"], [\"RACE1\"], [\"RACE1\"], [\"RACE1\"], [\"RACE1\"], [\"RACE1\"], [\"RACE1\"], [\"RACE1\"], [\"RACE1\"], [\"RACE1\"], [\"RACE1\"], [\"RACE1\"], [\"RACE2\"], [\"RACE1\"], [\"RACE1\"], [\"RACE1\"], [\"RACE1\"], [\"RACE1\"], [\"RACE1\"], [\"RACE1\"], [\"RACE1\"], [\"RACE1\"], [\"RACE1\"], [\"RACE1\"], [\"RACE1\"], [\"RACE1\", \"MULTIRACIAL\"], [\"RACE2\"], [\"RACE1\"], [\"RACE1\"], [\"RACE1\"], [\"RACE2\"], [\"RACE1\"], [\"RACE1\"], [\"RACE1\"], [\"RACE1\"], [\"RACE1\"], [\"RACE1\"], [\"RACE1\"], [\"RACE1\"], [\"RACE1\"], [\"RACE1\"], [\"RACE1\"], [\"RACE1\"], [\"RACE1\"], [\"RACE1\"], [\"RACE1\"], [\"RACE2\"], [\"RACE1\"], [\"RACE1\"], [\"RACE1\"], [\"RACE1\"], [\"RACE1\"], [\"RACE1\"], [\"RACE2\"], [\"RACE1\"], [\"RACE1\"], [\"RACE1\"], [\"RACE1\"], [\"RACE1\"], [\"RACE1\"], [\"RACE1\"], [\"RACE1\"], [\"RACE1\"], [\"RACE1\"], [\"RACE1\"], [\"RACE4\"], [\"RACE1\"], [\"RACE1\"], [\"RACE1\", \"RACE3\", \"MULTIRACIAL\"], [\"RACE1\"], [\"RACE1\"], [\"RACE1\"], [\"RACE1\"], [\"RACE1\"], [\"RACE1\"], [\"RACE1\"], [\"RACE1\"], [\"RACE1\"], [\"RACE3\"], [\"RACE1\"], [\"RACE1\"], [\"RACE1\"], [\"RACE1\"], [\"RACE1\"], [\"RACE1\"], [\"RACE1\"], [\"RACE1\"], [\"RACE1\"], [\"RACE1\"], [\"RACE1\"], [\"RACE1\"], [\"RACE1\"], [\"RACE1\"], [\"RACE1\"], [\"RACE1\"], [\"RACE1\"], [\"RACE1\"], [\"RACE1\"], [\"RACE1\"], [\"RACE1\"], [\"RACE1\"], [\"RACE1\"], [\"RACE1\"], [\"RACE2\"], [\"RACE1\"], [\"RACE1\"], [\"RACE1\"], [\"RACE1\"], [\"RACE1\"], [\"RACE1\"], [\"RACE1\"], [\"RACE1\"], [\"RACE2\"], [\"RACE1\"], [\"RACE1\"], [\"RACE1\"], [\"RACE1\"], [\"RACE1\"], [\"RACE1\"], [\"RACE1\"], [\"RACE1\"], [\"RACE1\"], [\"RACE1\"], [\"RACE1\"], [\"RACE1\"], [\"RACE1\"], [\"RACE1\"], [\"RACE1\"], [\"RACE1\"], [\"RACE1\"], [\"RACE2\"], [\"RACE1\"], [\"RACE1\"], [\"RACE1\"], [\"RACE1\"], [\"RACE1\"], [\"RACE1\"], [\"RACE2\"], [\"RACE1\"], [\"RACE1\"], [\"RACE1\"], [\"RACE1\"], [\"RACE1\"], [\"RACE1\"], [\"RACE1\"], [\"RACE1\"], [\"RACE1\"], [\"RACE2\"], [\"RACE1\"], [\"RACE1\"], [\"RACE1\"], [\"RACE1\"], [\"RACE1\"], [\"RACE1\"], [\"RACE1\"], [\"RACE1\"], [\"RACE2\"], [\"RACE1\"], [\"RACE1\"], [\"RACE1\"], [\"RACE1\"], [\"RACE1\"], [\"RACE1\"], [\"RACE1\"], [\"RACE1\"], [\"RACE1\"], [\"RACE1\"], [\"RACE1\"], [\"RACE1\"], [\"RACE1\"], [\"RACE1\"], [\"RACE1\"], [\"RACE1\"], [\"RACE1\"], [\"RACE1\"], [\"RACE1\"], [\"RACE1\"], [\"RACE1\"], [\"RACE1\"], [\"RACE1\"], [\"RACE1\"], [\"RACE1\"], [\"RACE1\"], [\"RACE1\"], [\"RACE1\"], [\"RACE1\"], [\"RACE1\"], [\"RACE1\"], [\"RACE1\"], [\"RACE1\"], [\"RACE2\"], [\"RACE1\"], [\"RACE2\"], [\"RACE1\"], [\"RACE1\"], [\"RACE1\"], [\"RACE1\"], [\"RACE1\"], [\"RACE1\"], [\"RACE1\"], [\"RACE1\"], [\"RACE1\"], [\"RACE1\"], [\"RACE1\"], [\"RACE1\"], [\"RACE1\"], [\"RACE1\"], [\"RACE1\"], [\"RACE1\"], [\"RACE1\"], [\"RACE1\"], [\"RACE1\"], [\"RACE1\"], [\"RACE1\"], [\"RACE1\"], [\"RACE1\"], [\"RACE1\"], [\"RACE1\"], [\"RACE1\"], [\"RACE1\"], [\"RACE1\"], [\"RACE1\"], [\"RACE1\"], [\"RACE1\"], [\"RACE1\"], [\"RACE1\"], [\"RACE1\"], [\"RACE1\"], [\"RACE1\"], [\"RACE1\"], [\"RACE1\"], [\"RACE1\"], [\"RACE1\"], [\"RACE1\"], [\"RACE1\"], [\"RACE1\"], [\"RACE1\"], [\"RACE1\"], [\"RACE1\"], [\"RACE1\"], [\"RACE1\"], [\"RACE1\"], [\"RACE1\"], [\"RACE1\"], [\"RACE1\"], [\"RACE1\"], [\"RACE1\"], [\"RACE1\"], [\"RACE1\"], [\"RACE1\"], [\"RACE1\"], [\"RACE1\"], [\"RACE1\"], [\"RACE1\"], [\"RACE1\"], [\"RACE1\"], [\"RACE1\"], [\"RACE1\"], [\"RACE2\"], [\"RACE1\"], [\"RACE1\"], [\"RACE1\"], [\"RACE1\"], [\"RACE1\"], [\"RACE1\"], [\"RACE1\"], [\"RACE1\"], [\"RACE1\"], [\"RACE1\"], [\"RACE1\"], [\"RACE1\"], [\"RACE1\"], [\"RACE2\"], [\"RACE1\"], [\"RACE1\"], [\"RACE1\"], [\"RACE1\"], [\"RACE1\"], [\"RACE1\"], [\"RACE1\"], [\"RACE1\"], [\"RACE2\"], [\"RACE1\"], [\"RACE1\"], [\"RACE1\"], [\"RACE1\"], [\"RACE1\"], [\"RACE1\"], [\"RACE1\"], [], [\"RACE1\"], [\"RACE1\"], [\"RACE1\"], [\"RACE1\"], [\"RACE1\"], [\"RACE4\"], [\"RACE1\"], [\"RACE1\"], [\"RACE1\"], [\"RACE1\"], [\"RACE1\"], [\"RACE1\"], [\"RACE1\"], [\"RACE1\"], [\"RACE1\"], [\"RACE1\"], [\"RACE1\"], [\"RACE1\"], [\"RACE1\"], [\"RACE1\"], [\"RACE1\"], [\"RACE1\"], [\"RACE1\"], [\"RACE1\"], [\"RACE1\"], [\"RACE1\"], [\"RACE1\"], [\"RACE1\"], [\"RACE1\"], [\"RACE1\"], [\"RACE1\"], [\"RACE2\"], [\"RACE1\"], [\"RACE1\"], [\"RACE1\"], [\"RACE1\"], [\"RACE1\"], [\"RACE1\"], [\"RACE1\"], [\"RACE1\"], [], [\"RACE2\"], [\"RACE1\"], [\"RACE1\"], [\"RACE1\"], [\"RACE1\"], [\"RACE1\"], [\"RACE1\"], [\"RACE1\"], [\"RACE2\"], [\"RACE1\"], [\"RACE1\"], [\"RACE1\"], [\"RACE1\"], [\"RACE1\"], [\"RACE1\"], [\"RACE1\"], [\"RACE1\"], [\"RACE1\"], [\"RACE1\"], [\"RACE1\"], [\"RACE1\"], [\"RACE1\"], [\"RACE2\"], [\"RACE1\"], [\"RACE1\"], [\"RACE1\"], [\"RACE1\"], [\"RACE1\"], [\"RACE1\"], [\"RACE1\"], [\"RACE1\"], [\"RACE1\"], [\"RACE1\"], [\"RACE2\"], [\"RACE1\"], [\"RACE1\"], [\"RACE1\"], [\"RACE1\"], [\"RACE1\"], [\"RACE2\"], [\"RACE1\"], [\"RACE1\"], [\"RACE1\"], [\"RACE1\"], [\"RACE1\"], [\"RACE1\"], [\"RACE1\"], [\"RACE1\"], [], [\"RACE1\"], [\"RACE1\"], [\"RACE2\"], [\"RACE1\"], [\"RACE1\"], [\"RACE1\"], [\"RACE1\"], [\"RACE1\"], [\"RACE1\"], [\"RACE1\"], [\"RACE1\"], [\"RACE1\"], [\"RACE1\"], [], [\"RACE1\"], [\"RACE1\"], [\"RACE1\"], [\"RACE1\"], [\"RACE1\", \"RACE2\", \"MULTIRACIAL\"], [\"RACE1\"], [\"RACE1\"], [\"RACE1\"], [\"RACE1\"], [\"RACE1\"], [\"RACE1\"], [\"RACE1\"], [\"RACE1\"], [\"RACE1\"], [\"RACE4\"], [\"RACE1\"], [\"RACE1\"], [\"RACE1\"], [\"RACE1\"], [\"RACE1\"], [\"RACE1\"], [\"RACE1\"], [\"RACE1\"], [\"RACE1\"], [\"RACE1\"], [\"RACE1\"], [\"RACE1\"], [\"RACE1\", \"RACE5\", \"MULTIRACIAL\"], [\"RACE1\"], [\"RACE1\"], [\"RACE1\"], [\"RACE1\"], [\"RACE1\"], [\"RACE5\"], [\"RACE1\"], [\"RACE1\"], [\"RACE1\"], [\"RACE1\"], [\"RACE1\"], [\"RACE1\"], [\"RACE1\"], [\"RACE2\"], [\"RACE1\"], [\"RACE1\"], [\"RACE1\"], [\"RACE1\"], [\"RACE1\"], [\"RACE1\"], [\"RACE1\"], [\"RACE1\"], [\"RACE1\"], [\"RACE1\"], [\"RACE2\"], [\"RACE1\"], [\"RACE1\"], [\"RACE1\"], [\"RACE5\"], [\"RACE1\"], [\"RACE1\"], [\"RACE1\"], [\"RACE1\"], [\"RACE1\"], [\"RACE1\"], [\"RACE1\"], [\"RACE1\"], [\"RACE1\"], [\"RACE1\"], [\"RACE1\"], [\"RACE1\"], [\"RACE1\"], [\"RACE1\"], [\"RACE1\"], [\"RACE1\"], [\"RACE1\"], [\"RACE1\"], [\"RACE2\"], [\"RACE1\"], [\"RACE1\"], [\"RACE1\"], [\"RACE1\"], [\"RACE1\"], [\"RACE1\"], [\"RACE1\"], [\"RACE1\"], [\"RACE1\"], [\"RACE1\"], [\"RACE1\"], [\"RACE1\"], [\"RACE1\"], [\"RACE1\"], [\"RACE1\"], [\"RACE1\"], [\"RACE1\"], [\"RACE1\"], [\"RACE1\"], [\"RACE1\"], [\"RACE1\"], [\"RACE1\"], [\"RACE1\"], [\"RACE1\"], [\"RACE2\"], [\"RACE1\"], [\"RACE1\"], [\"RACE1\"], [\"RACE1\"], [\"RACE2\"], [\"RACE1\"], [\"RACE1\"], [\"RACE1\"], [\"RACE1\"], [\"RACE1\"], [\"RACE1\"], [\"RACE2\"], [\"RACE1\"], [\"RACE1\"], [\"RACE1\"], [\"RACE3\"], [\"RACE1\"], [\"RACE1\"], [\"RACE1\"], [\"RACE1\"], [\"RACE1\"], [\"RACE1\"], [\"RACE1\"], [\"RACE1\"], [\"RACE1\"], [\"RACE1\"], [\"RACE1\"], [\"RACE1\"], [\"RACE1\"], [\"RACE1\"], [\"RACE1\"], [\"RACE1\"], [\"RACE1\"], [\"RACE1\"], [\"RACE1\"], [\"RACE1\"], [\"RACE1\"], [\"RACE2\"], [\"RACE1\"], [\"RACE1\"], [\"RACE1\"], [\"RACE1\"], [\"RACE1\"], [\"RACE1\"], [\"RACE1\"], [\"RACE1\"], [\"RACE1\"], [\"RACE1\"], [\"RACE1\"], [\"RACE1\"], [\"RACE1\"], [\"RACE1\"], [\"RACE1\"], [\"RACE1\"], [\"RACE1\"], [\"RACE1\"], [\"RACE1\"], [\"RACE1\"], [\"RACE1\"], [\"RACE1\"], [\"RACE1\"], [\"RACE1\"], [\"RACE1\"], [\"RACE1\"], [\"RACE1\"], [\"RACE1\"], [\"RACE1\"], [\"RACE1\"], [\"RACE1\"], [\"RACE1\"], [\"RACE1\"], [\"RACE1\"], [\"RACE1\"], [\"RACE1\"], [\"RACE2\"], [\"RACE1\"], [\"RACE1\"], [\"RACE1\"], [\"RACE1\"], [\"RACE1\"], [\"RACE1\"], [\"RACE1\"], [\"RACE1\"], [\"RACE1\"], [\"RACE1\"], [\"RACE1\"], [\"RACE1\"], [\"RACE1\"], [\"RACE1\"], [\"RACE1\"], [\"RACE1\"], [\"RACE1\"], [\"RACE1\"], [\"RACE1\"], [\"RACE1\"], [\"RACE1\"], [\"RACE1\"], [\"RACE1\"], [\"RACE1\"], [\"RACE1\"], [\"RACE1\"], [\"RACE1\"], [\"RACE1\"], [\"RACE1\"], [\"RACE1\"], [\"RACE1\"], [\"RACE1\"], [\"RACE1\"], [\"RACE1\"], [\"RACE1\"], [\"RACE2\"], [\"RACE1\"], [\"RACE3\"], [\"RACE1\"], [\"RACE1\"], [\"RACE1\"], [\"RACE1\"], [], [\"RACE1\"], [\"RACE1\"], [\"RACE1\"], [\"RACE1\"], [\"RACE1\"], [\"RACE1\"], [\"RACE1\"], [\"RACE1\"], [\"RACE1\", \"MULTIRACIAL\"], [\"RACE1\"], [\"RACE1\"], [\"RACE1\"], [\"RACE1\"], [\"RACE1\"], [\"RACE1\"], [\"RACE1\"], [\"RACE1\"], [\"RACE1\"], [\"RACE1\"], [\"RACE1\"], [\"RACE1\"], [\"RACE1\"], [\"RACE1\"], [\"RACE1\"], [\"RACE1\"], [\"RACE1\"], [\"RACE1\"], [\"RACE1\"], [\"RACE1\"], [\"RACE1\"], [\"RACE1\"], [\"RACE1\"], [\"RACE1\"], [\"RACE1\"], [\"RACE1\"], [\"RACE1\"], [\"RACE1\"], [\"RACE1\"], [\"RACE1\"], [\"RACE1\"], [\"RACE1\"], [\"RACE1\"], [\"RACE1\"], [\"RACE1\"], [\"RACE1\"], [\"RACE1\"], [\"RACE2\"], [\"RACE1\"], [\"RACE1\"], [\"RACE1\"], [\"RACE2\"], [\"RACE1\"], [\"RACE1\"], [\"RACE1\"], [\"RACE1\"], [\"RACE1\"], [\"RACE1\"], [\"RACE1\"], [\"RACE1\"], [\"RACE1\"], [\"RACE1\"], [\"RACE1\"], [\"RACE1\"], [\"RACE1\"], [\"RACE1\"], [\"RACE1\"], [\"RACE1\"], [\"RACE1\"], [\"RACE1\"], [\"RACE1\"], [\"RACE1\"], [\"RACE1\"], [\"RACE1\"], [\"RACE1\"], [\"RACE1\"], [\"RACE1\"], [\"RACE1\"], [\"RACE1\"], [\"RACE1\"], [\"RACE1\"], [\"RACE1\"], [\"RACE1\"], [\"RACE1\"], [\"RACE1\"], [\"RACE1\"], [\"RACE1\"], [\"RACE1\"], [\"RACE1\"], [\"RACE1\"], [\"RACE1\"], [\"RACE1\"], [\"RACE1\"], [\"RACE1\"], [\"RACE1\"], [\"RACE2\"], [\"RACE1\"], [\"RACE1\"], [\"RACE1\"], [\"RACE1\"], [\"RACE1\"], [\"RACE1\"], [\"RACE1\"], [\"RACE1\"], [\"RACE1\"], [\"RACE1\"], [\"RACE1\"], [\"RACE1\", \"RACE3\", \"MULTIRACIAL\"], [\"RACE1\"], [\"RACE1\"], [\"RACE1\"], [\"RACE1\"], [\"RACE1\"], [\"RACE1\"], [\"RACE1\"], [\"RACE1\"], [\"RACE1\"], [\"RACE1\"], [\"RACE1\"], [\"RACE1\"], [\"RACE1\"], [\"RACE1\"], [\"RACE1\"], [\"RACE1\"], [\"RACE1\"], [\"RACE1\"], [\"RACE2\"], [\"RACE1\"], [\"RACE1\"], [\"RACE1\"], [\"RACE1\"], [\"RACE1\"], [\"RACE1\"], [\"RACE1\"], [\"RACE1\"], [\"RACE1\"], [\"RACE2\"], [\"RACE1\"], [\"RACE1\"], [\"RACE1\"], [\"RACE1\"], [\"RACE1\"], [\"RACE2\"], [\"RACE1\"], [\"RACE1\"], [\"RACE1\"], [\"RACE1\"], [\"RACE1\"], [\"RACE1\"], [\"RACE1\"], [\"RACE1\"], [\"RACE1\"], [\"RACE1\"], [\"RACE2\"], [\"RACE1\"], [\"RACE1\"], [\"RACE1\"], [\"RACE1\"], [\"RACE1\"], [\"RACE2\"], [\"RACE1\"], [\"RACE1\"], [\"RACE1\"], [\"RACE1\"], [\"RACE1\"], [\"RACE1\"], [\"RACE1\"], [\"RACE1\"], [\"RACE1\"]], \"legendgroup\": \"\", \"name\": \"\", \"showlegend\": true, \"type\": \"pie\"}],\n",
              "                        {\"legend\": {\"tracegroupgap\": 0}, \"template\": {\"data\": {\"bar\": [{\"error_x\": {\"color\": \"#2a3f5f\"}, \"error_y\": {\"color\": \"#2a3f5f\"}, \"marker\": {\"line\": {\"color\": \"#E5ECF6\", \"width\": 0.5}}, \"type\": \"bar\"}], \"barpolar\": [{\"marker\": {\"line\": {\"color\": \"#E5ECF6\", \"width\": 0.5}}, \"type\": \"barpolar\"}], \"carpet\": [{\"aaxis\": {\"endlinecolor\": \"#2a3f5f\", \"gridcolor\": \"white\", \"linecolor\": \"white\", \"minorgridcolor\": \"white\", \"startlinecolor\": \"#2a3f5f\"}, \"baxis\": {\"endlinecolor\": \"#2a3f5f\", \"gridcolor\": \"white\", \"linecolor\": \"white\", \"minorgridcolor\": \"white\", \"startlinecolor\": \"#2a3f5f\"}, \"type\": \"carpet\"}], \"choropleth\": [{\"colorbar\": {\"outlinewidth\": 0, \"ticks\": \"\"}, \"type\": \"choropleth\"}], \"contour\": [{\"colorbar\": {\"outlinewidth\": 0, \"ticks\": \"\"}, \"colorscale\": [[0.0, \"#0d0887\"], [0.1111111111111111, \"#46039f\"], [0.2222222222222222, \"#7201a8\"], [0.3333333333333333, \"#9c179e\"], [0.4444444444444444, \"#bd3786\"], [0.5555555555555556, \"#d8576b\"], [0.6666666666666666, \"#ed7953\"], [0.7777777777777778, \"#fb9f3a\"], [0.8888888888888888, \"#fdca26\"], [1.0, \"#f0f921\"]], \"type\": \"contour\"}], \"contourcarpet\": [{\"colorbar\": {\"outlinewidth\": 0, \"ticks\": \"\"}, \"type\": \"contourcarpet\"}], \"heatmap\": [{\"colorbar\": {\"outlinewidth\": 0, \"ticks\": \"\"}, \"colorscale\": [[0.0, \"#0d0887\"], [0.1111111111111111, \"#46039f\"], [0.2222222222222222, \"#7201a8\"], [0.3333333333333333, \"#9c179e\"], [0.4444444444444444, \"#bd3786\"], [0.5555555555555556, \"#d8576b\"], [0.6666666666666666, \"#ed7953\"], [0.7777777777777778, \"#fb9f3a\"], [0.8888888888888888, \"#fdca26\"], [1.0, \"#f0f921\"]], \"type\": \"heatmap\"}], \"heatmapgl\": [{\"colorbar\": {\"outlinewidth\": 0, \"ticks\": \"\"}, \"colorscale\": [[0.0, \"#0d0887\"], [0.1111111111111111, \"#46039f\"], [0.2222222222222222, \"#7201a8\"], [0.3333333333333333, \"#9c179e\"], [0.4444444444444444, \"#bd3786\"], [0.5555555555555556, \"#d8576b\"], [0.6666666666666666, \"#ed7953\"], [0.7777777777777778, \"#fb9f3a\"], [0.8888888888888888, \"#fdca26\"], [1.0, \"#f0f921\"]], \"type\": \"heatmapgl\"}], \"histogram\": [{\"marker\": {\"colorbar\": {\"outlinewidth\": 0, \"ticks\": \"\"}}, \"type\": \"histogram\"}], \"histogram2d\": [{\"colorbar\": {\"outlinewidth\": 0, \"ticks\": \"\"}, \"colorscale\": [[0.0, \"#0d0887\"], [0.1111111111111111, \"#46039f\"], [0.2222222222222222, \"#7201a8\"], [0.3333333333333333, \"#9c179e\"], [0.4444444444444444, \"#bd3786\"], [0.5555555555555556, \"#d8576b\"], [0.6666666666666666, \"#ed7953\"], [0.7777777777777778, \"#fb9f3a\"], [0.8888888888888888, \"#fdca26\"], [1.0, \"#f0f921\"]], \"type\": \"histogram2d\"}], \"histogram2dcontour\": [{\"colorbar\": {\"outlinewidth\": 0, \"ticks\": \"\"}, \"colorscale\": [[0.0, \"#0d0887\"], [0.1111111111111111, \"#46039f\"], [0.2222222222222222, \"#7201a8\"], [0.3333333333333333, \"#9c179e\"], [0.4444444444444444, \"#bd3786\"], [0.5555555555555556, \"#d8576b\"], [0.6666666666666666, \"#ed7953\"], [0.7777777777777778, \"#fb9f3a\"], [0.8888888888888888, \"#fdca26\"], [1.0, \"#f0f921\"]], \"type\": \"histogram2dcontour\"}], \"mesh3d\": [{\"colorbar\": {\"outlinewidth\": 0, \"ticks\": \"\"}, \"type\": \"mesh3d\"}], \"parcoords\": [{\"line\": {\"colorbar\": {\"outlinewidth\": 0, \"ticks\": \"\"}}, \"type\": \"parcoords\"}], \"pie\": [{\"automargin\": true, \"type\": \"pie\"}], \"scatter\": [{\"marker\": {\"colorbar\": {\"outlinewidth\": 0, \"ticks\": \"\"}}, \"type\": \"scatter\"}], \"scatter3d\": [{\"line\": {\"colorbar\": {\"outlinewidth\": 0, \"ticks\": \"\"}}, \"marker\": {\"colorbar\": {\"outlinewidth\": 0, \"ticks\": \"\"}}, \"type\": \"scatter3d\"}], \"scattercarpet\": [{\"marker\": {\"colorbar\": {\"outlinewidth\": 0, \"ticks\": \"\"}}, \"type\": \"scattercarpet\"}], \"scattergeo\": [{\"marker\": {\"colorbar\": {\"outlinewidth\": 0, \"ticks\": \"\"}}, \"type\": \"scattergeo\"}], \"scattergl\": [{\"marker\": {\"colorbar\": {\"outlinewidth\": 0, \"ticks\": \"\"}}, \"type\": \"scattergl\"}], \"scattermapbox\": [{\"marker\": {\"colorbar\": {\"outlinewidth\": 0, \"ticks\": \"\"}}, \"type\": \"scattermapbox\"}], \"scatterpolar\": [{\"marker\": {\"colorbar\": {\"outlinewidth\": 0, \"ticks\": \"\"}}, \"type\": \"scatterpolar\"}], \"scatterpolargl\": [{\"marker\": {\"colorbar\": {\"outlinewidth\": 0, \"ticks\": \"\"}}, \"type\": \"scatterpolargl\"}], \"scatterternary\": [{\"marker\": {\"colorbar\": {\"outlinewidth\": 0, \"ticks\": \"\"}}, \"type\": \"scatterternary\"}], \"surface\": [{\"colorbar\": {\"outlinewidth\": 0, \"ticks\": \"\"}, \"colorscale\": [[0.0, \"#0d0887\"], [0.1111111111111111, \"#46039f\"], [0.2222222222222222, \"#7201a8\"], [0.3333333333333333, \"#9c179e\"], [0.4444444444444444, \"#bd3786\"], [0.5555555555555556, \"#d8576b\"], [0.6666666666666666, \"#ed7953\"], [0.7777777777777778, \"#fb9f3a\"], [0.8888888888888888, \"#fdca26\"], [1.0, \"#f0f921\"]], \"type\": \"surface\"}], \"table\": [{\"cells\": {\"fill\": {\"color\": \"#EBF0F8\"}, \"line\": {\"color\": \"white\"}}, \"header\": {\"fill\": {\"color\": \"#C8D4E3\"}, \"line\": {\"color\": \"white\"}}, \"type\": \"table\"}]}, \"layout\": {\"annotationdefaults\": {\"arrowcolor\": \"#2a3f5f\", \"arrowhead\": 0, \"arrowwidth\": 1}, \"coloraxis\": {\"colorbar\": {\"outlinewidth\": 0, \"ticks\": \"\"}}, \"colorscale\": {\"diverging\": [[0, \"#8e0152\"], [0.1, \"#c51b7d\"], [0.2, \"#de77ae\"], [0.3, \"#f1b6da\"], [0.4, \"#fde0ef\"], [0.5, \"#f7f7f7\"], [0.6, \"#e6f5d0\"], [0.7, \"#b8e186\"], [0.8, \"#7fbc41\"], [0.9, \"#4d9221\"], [1, \"#276419\"]], \"sequential\": [[0.0, \"#0d0887\"], [0.1111111111111111, \"#46039f\"], [0.2222222222222222, \"#7201a8\"], [0.3333333333333333, \"#9c179e\"], [0.4444444444444444, \"#bd3786\"], [0.5555555555555556, \"#d8576b\"], [0.6666666666666666, \"#ed7953\"], [0.7777777777777778, \"#fb9f3a\"], [0.8888888888888888, \"#fdca26\"], [1.0, \"#f0f921\"]], \"sequentialminus\": [[0.0, \"#0d0887\"], [0.1111111111111111, \"#46039f\"], [0.2222222222222222, \"#7201a8\"], [0.3333333333333333, \"#9c179e\"], [0.4444444444444444, \"#bd3786\"], [0.5555555555555556, \"#d8576b\"], [0.6666666666666666, \"#ed7953\"], [0.7777777777777778, \"#fb9f3a\"], [0.8888888888888888, \"#fdca26\"], [1.0, \"#f0f921\"]]}, \"colorway\": [\"#636efa\", \"#EF553B\", \"#00cc96\", \"#ab63fa\", \"#FFA15A\", \"#19d3f3\", \"#FF6692\", \"#B6E880\", \"#FF97FF\", \"#FECB52\"], \"font\": {\"color\": \"#2a3f5f\"}, \"geo\": {\"bgcolor\": \"white\", \"lakecolor\": \"white\", \"landcolor\": \"#E5ECF6\", \"showlakes\": true, \"showland\": true, \"subunitcolor\": \"white\"}, \"hoverlabel\": {\"align\": \"left\"}, \"hovermode\": \"closest\", \"mapbox\": {\"style\": \"light\"}, \"paper_bgcolor\": \"white\", \"plot_bgcolor\": \"#E5ECF6\", \"polar\": {\"angularaxis\": {\"gridcolor\": \"white\", \"linecolor\": \"white\", \"ticks\": \"\"}, \"bgcolor\": \"#E5ECF6\", \"radialaxis\": {\"gridcolor\": \"white\", \"linecolor\": \"white\", \"ticks\": \"\"}}, \"scene\": {\"xaxis\": {\"backgroundcolor\": \"#E5ECF6\", \"gridcolor\": \"white\", \"gridwidth\": 2, \"linecolor\": \"white\", \"showbackground\": true, \"ticks\": \"\", \"zerolinecolor\": \"white\"}, \"yaxis\": {\"backgroundcolor\": \"#E5ECF6\", \"gridcolor\": \"white\", \"gridwidth\": 2, \"linecolor\": \"white\", \"showbackground\": true, \"ticks\": \"\", \"zerolinecolor\": \"white\"}, \"zaxis\": {\"backgroundcolor\": \"#E5ECF6\", \"gridcolor\": \"white\", \"gridwidth\": 2, \"linecolor\": \"white\", \"showbackground\": true, \"ticks\": \"\", \"zerolinecolor\": \"white\"}}, \"shapedefaults\": {\"line\": {\"color\": \"#2a3f5f\"}}, \"ternary\": {\"aaxis\": {\"gridcolor\": \"white\", \"linecolor\": \"white\", \"ticks\": \"\"}, \"baxis\": {\"gridcolor\": \"white\", \"linecolor\": \"white\", \"ticks\": \"\"}, \"bgcolor\": \"#E5ECF6\", \"caxis\": {\"gridcolor\": \"white\", \"linecolor\": \"white\", \"ticks\": \"\"}}, \"title\": {\"x\": 0.05}, \"xaxis\": {\"automargin\": true, \"gridcolor\": \"white\", \"linecolor\": \"white\", \"ticks\": \"\", \"title\": {\"standoff\": 15}, \"zerolinecolor\": \"white\", \"zerolinewidth\": 2}, \"yaxis\": {\"automargin\": true, \"gridcolor\": \"white\", \"linecolor\": \"white\", \"ticks\": \"\", \"title\": {\"standoff\": 15}, \"zerolinecolor\": \"white\", \"zerolinewidth\": 2}}}, \"title\": {\"text\": \"Race breakdown\"}},\n",
              "                        {\"responsive\": true}\n",
              "                    ).then(function(){\n",
              "                            \n",
              "var gd = document.getElementById('eac6b15c-cab3-44b4-adee-5a449dee4f1b');\n",
              "var x = new MutationObserver(function (mutations, observer) {{\n",
              "        var display = window.getComputedStyle(gd).display;\n",
              "        if (!display || display === 'none') {{\n",
              "            console.log([gd, 'removed!']);\n",
              "            Plotly.purge(gd);\n",
              "            observer.disconnect();\n",
              "        }}\n",
              "}});\n",
              "\n",
              "// Listen for the removal of the full notebook cells\n",
              "var notebookContainer = gd.closest('#notebook-container');\n",
              "if (notebookContainer) {{\n",
              "    x.observe(notebookContainer, {childList: true});\n",
              "}}\n",
              "\n",
              "// Listen for the clearing of the current output cell\n",
              "var outputEl = gd.closest('.output');\n",
              "if (outputEl) {{\n",
              "    x.observe(outputEl, {childList: true});\n",
              "}}\n",
              "\n",
              "                        })\n",
              "                };\n",
              "                \n",
              "            </script>\n",
              "        </div>\n",
              "</body>\n",
              "</html>"
            ]
          },
          "metadata": {
            "tags": []
          }
        }
      ]
    },
    {
      "cell_type": "code",
      "metadata": {
        "colab": {
          "base_uri": "https://localhost:8080/",
          "height": 542
        },
        "id": "VMocaJUHChRA",
        "outputId": "350011c6-206c-4a8f-f575-9c2141914f4f"
      },
      "source": [
        "#Approximately normal distribution with a mean at about 62\r\n",
        "#Blue shows living, red shows dead. The curve shape is about the same, showing\r\n",
        "#That age basically doesn't affect the deaths\r\n",
        "px.histogram(data_frame = stud_des_df, x = 'AGE',title = 'Age breakdown',color = 'PATIENTSTATUS')"
      ],
      "execution_count": 215,
      "outputs": [
        {
          "output_type": "display_data",
          "data": {
            "text/html": [
              "<html>\n",
              "<head><meta charset=\"utf-8\" /></head>\n",
              "<body>\n",
              "    <div>\n",
              "            <script src=\"https://cdnjs.cloudflare.com/ajax/libs/mathjax/2.7.5/MathJax.js?config=TeX-AMS-MML_SVG\"></script><script type=\"text/javascript\">if (window.MathJax) {MathJax.Hub.Config({SVG: {font: \"STIX-Web\"}});}</script>\n",
              "                <script type=\"text/javascript\">window.PlotlyConfig = {MathJaxConfig: 'local'};</script>\n",
              "        <script src=\"https://cdn.plot.ly/plotly-latest.min.js\"></script>    \n",
              "            <div id=\"b92eb3cc-13d0-4927-a5e3-7c71a0fc4f2b\" class=\"plotly-graph-div\" style=\"height:525px; width:100%;\"></div>\n",
              "            <script type=\"text/javascript\">\n",
              "                \n",
              "                    window.PLOTLYENV=window.PLOTLYENV || {};\n",
              "                    \n",
              "                if (document.getElementById(\"b92eb3cc-13d0-4927-a5e3-7c71a0fc4f2b\")) {\n",
              "                    Plotly.newPlot(\n",
              "                        'b92eb3cc-13d0-4927-a5e3-7c71a0fc4f2b',\n",
              "                        [{\"alignmentgroup\": \"True\", \"bingroup\": \"x\", \"hoverlabel\": {\"namelength\": 0}, \"hovertemplate\": \"PATIENTSTATUS=1.0<br>AGE=%{x}<br>count=%{y}\", \"legendgroup\": \"PATIENTSTATUS=1.0\", \"marker\": {\"color\": \"#636efa\"}, \"name\": \"PATIENTSTATUS=1.0\", \"offsetgroup\": \"PATIENTSTATUS=1.0\", \"orientation\": \"v\", \"showlegend\": true, \"type\": \"histogram\", \"x\": [52, 57, 58, 45, 38, 60, 66, 53, 55, 76, 70, 62, 59, 56, 65, 66, 56, 62, 58, 44, 62, 75, 66, 66, 62, 67, 59, 55, 72, 36, 53, 49, 52, 67, 59, 74, 43, 57, 41, 65, 40, 72, 61, 58, 72, 58, 59, 39, 61, 44, 82, 49, 66, 58, 58, 42, 72, 75, 36, 51, 60, 46, 61, 52, 44, 55, 41, 57, 49, 43, 52, 75, 71, 46, 58, 37, 28, 37, 63, 46, 56, 66, 71, 66, 51, 78, 63, 58, 51, 63, 68, 39, 50, 57, 49, 62, 72, 62, 54, 74, 59, 49, 64, 67, 55, 43, 58, 64, 62, 59, 68, 67, 40, 77, 71, 74, 59, 52, 50, 48, 79, 55, 52, 62, 50, 45, 61, 36, 77, 35, 66, 68, 69, 41, 52, 53, 59, 78, 84, 46, 58, 52, 48, 70, 51, 43, 52, 75, 52, 78, 56, 64, 66, 56, 58, 66, 60, 57, 53, 54, 48, 81, 75, 43, 63, 68, 47, 51, 77, 54, 48, 83, 52, 67, 48, 51, 57, 65, 66, 51, 59, 69, 55, 72, 54, 65, 62, 68, 41, 81, 71, 76, 59, 43, 49, 53, 69, 42, 31, 45, 86, 70, 60, 74, 63, 44, 79, 51, 76, 63, 62, 48, 71, 38, 65, 53, 56, 65, 54, 72, 57, 61, 52, 63, 55, 72, 41, 56, 47, 59, 54, 48, 49, 64, 66, 58, 64, 57, 56, 55, 53, 78, 60, 68, 47, 64, 56, 65, 66, 58, 44, 62, 62, 61, 79, 60, 54, 84, 66, 56, 63, 77, 59, 63, 51, 54, 58, 69, 80, 51, 50, 44, 65, 77, 63, 50, 66, 64, 59, 78, 34, 60, 59, 54, 38, 51, 76, 56, 62, 65, 44, 65, 50, 48, 34, 76, 57, 49, 67, 48, 66, 61, 39, 64, 43, 56, 55, 41, 57, 41, 54, 54, 82, 49, 56, 60, 48, 53, 59, 56, 58, 48, 64, 56, 42, 56, 39, 68, 68, 36, 45, 59, 45, 66, 55, 49, 63, 64, 52, 55, 59, 67, 45, 44, 49, 60, 73, 58, 74, 48, 49, 68, 43, 78, 50, 58, 50, 66, 43, 62, 62, 46, 73, 84, 50, 65, 57, 78, 42, 53, 80, 43, 79, 62, 67, 45, 58, 38, 43, 70, 32, 37, 56, 62, 80, 64, 43, 65, 29, 47, 36, 58, 50, 38, 67, 66, 64, 66, 54, 70, 35, 58, 60, 60, 55, 59, 35, 63, 69, 71, 35, 59, 51, 67, 56, 55, 62, 50, 43, 65, 63, 63, 68, 40, 74, 56, 47, 56, 47, 64, 56, 72, 50, 54, 73, 61, 64, 58, 68, 78, 34, 61, 49, 55, 57, 60, 62, 59, 55, 24, 49, 49, 67, 79, 52, 55, 51, 66, 49, 53, 49, 69, 72, 56, 67, 62, 64, 62, 61, 63, 53, 67, 74, 57, 43, 42, 41, 81, 72, 69, 64, 55, 61, 49, 63, 72, 71, 73, 76, 50, 60, 61, 20, 75, 48, 64, 63, 59, 53, 54, 40, 66, 74, 60, 70, 61, 56, 53, 60, 45, 72, 60, 62, 60, 57, 50, 40, 63, 61, 70, 51, 77, 64, 55, 64, 50, 44, 56, 65, 40, 57, 64, 56, 63, 85, 50, 59, 46, 61, 54, 48, 60, 60, 62, 46, 71, 60, 45, 56, 54, 42, 61, 60, 57, 67, 68, 72, 66, 64, 67, 65, 49, 62, 58, 68, 80, 48, 80, 50, 70, 67, 59, 47, 65, 76, 52, 46, 60, 77, 62, 65, 51, 47, 69, 52, 70, 53, 83, 60, 67, 56, 62, 68, 53, 63, 68, 49, 31, 51, 56, 66, 55, 50, 34, 57, 56, 68, 65, 83, 48, 75, 66, 73, 50, 58, 53, 73, 69, 76, 47, 56, 44, 69, 62, 36, 72, 39, 66, 60, 59, 63, 43, 72, 57, 55, 65, 44, 67, 70, 59, 53, 63, 44, 63, 42, 71, 66, 48, 55, 60, 36, 82, 66, 64, 40, 51, 61, 52, 76, 57, 68, 57, 52, 47, 54, 53, 45, 68, 57, 55, 71, 66, 58, 53, 34, 73, 65, 69, 63, 44, 46, 56, 76, 71, 71, 56, 67, 69, 65, 63, 65, 60, 52, 44, 71, 61, 61, 73, 56, 59, 63, 42, 69, 39, 67, 67, 50, 71, 35, 84, 44, 55, 39, 46, 47, 77, 65, 63, 60, 55, 69, 64, 60, 41, 53, 62, 52, 59, 62, 73, 74, 74, 52, 61, 49, 64, 69, 44, 33, 64, 49, 58, 60, 59, 67, 38, 64, 42, 71, 62, 59, 42, 50, 74, 40, 76, 51, 63, 58, 51, 34, 58, 65, 45, 81, 62, 51, 48, 65, 45, 58, 58, 54, 44, 81, 57, 65, 71, 46, 49, 41, 54, 54, 37, 56, 63, 57, 56, 80, 56, 61, 52, 30, 73, 79, 43, 54, 62, 64, 72, 69, 44, 44, 60, 60, 61, 75, 58, 74, 53, 53, 48, 66, 44, 54, 83, 52, 48, 74, 57, 54, 46, 59, 44, 70, 56, 63, 46, 57, 57, 44, 53, 51, 28, 58, 69, 66, 66, 46, 60, 58, 53, 56, 50, 56, 56, 51, 50, 70, 75, 48, 72, 52, 61, 66, 45, 49, 67, 48, 55, 46, 47, 49, 53, 64, 55, 60, 57, 76, 51, 56, 81, 44, 76, 66, 63, 61, 51, 63, 57, 59, 59, 68, 63, 66, 58, 57, 35, 64, 80, 52, 57, 57, 52, 49, 46, 58, 65, 32, 44, 64, 56, 65, 47, 51, 58, 66, 59, 58, 66, 69, 71, 54, 67, 67, 57, 45, 47, 72, 66, 54, 35, 56, 52, 63, 76, 61, 43, 50, 63, 62, 44, 55, 76, 63, 61, 65, 69, 75, 50, 63, 47, 55, 55, 28, 42, 71, 55, 78, 52, 75, 57, 41, 69, 61, 48, 72, 81, 67, 62, 50, 54, 62, 60, 71, 50, 42, 73, 54, 76, 60, 51, 49, 72, 37, 76, 59, 58, 59, 51, 59, 45, 56, 43, 65, 38, 58, 63, 76, 41, 63, 65, 64, 65, 54, 48], \"xaxis\": \"x\", \"yaxis\": \"y\"}, {\"alignmentgroup\": \"True\", \"bingroup\": \"x\", \"hoverlabel\": {\"namelength\": 0}, \"hovertemplate\": \"PATIENTSTATUS=0.0<br>AGE=%{x}<br>count=%{y}\", \"legendgroup\": \"PATIENTSTATUS=0.0\", \"marker\": {\"color\": \"#EF553B\"}, \"name\": \"PATIENTSTATUS=0.0\", \"offsetgroup\": \"PATIENTSTATUS=0.0\", \"orientation\": \"v\", \"showlegend\": true, \"type\": \"histogram\", \"x\": [58, 79, 59, 59, 69, 77, 75, 35, 74, 68, 85, 81, 63, 75, 71, 50, 81, 79, 80, 60, 65, 66, 64, 67, 61, 79, 52, 83, 72, 65, 57, 49, 75, 73, 70, 69, 58, 81, 57, 73, 65, 79, 59, 62, 78, 69, 84, 65, 62, 57, 62, 78, 54, 61, 58, 73, 57, 59, 51, 76, 77, 64, 45, 81, 75, 66, 62, 55, 57, 68, 76, 59, 59, 79, 75, 51, 63, 83, 44, 65, 54, 58, 50, 76, 69, 67, 78, 61, 60, 68, 69, 78, 65, 55, 62, 63, 81, 77, 66, 87, 64, 77, 67, 74, 77, 58, 66, 67, 78, 77, 55, 72, 88, 59, 60, 74, 75, 91, 56, 70, 67, 75, 48, 54, 58, 64, 57, 54, 72, 62, 74, 77, 53, 61, 85, 80, 70, 45, 50, 62, 72, 59, 51, 88, 73, 68, 68, 60, 62, 71, 79, 82, 73, 60, 48, 67, 38, 66, 64, 74, 48, 80, 54, 73, 66, 78, 72, 53, 65, 81, 69, 68, 70, 57, 59, 67, 78, 65, 66, 57, 76, 63, 55, 61, 55, 72, 62, 71, 38, 66, 53, 71, 55, 72, 68, 69, 69, 69, 69, 51, 53, 62, 72, 82, 83, 38, 39, 77, 74, 80, 80, 68, 79, 53, 77, 76, 83, 58, 79, 58, 65, 75, 53, 57, 75, 82, 71, 58, 53, 68, 70, 74, 70, 78, 80, 82, 68, 72, 88, 68, 82, 49, 77, 72, 65, 59, 54, 50, 73, 57, 66, 72, 70, 45, 75, 62, 74, 65, 67, 67, 52, 75, 58, 44, 83, 85, 81, 27, 65, 73, 74, 66, 82, 73, 59, 61, 66, 67, 74, 67, 58, 69, 53, 70, 58, 47, 79, 88, 66, 68, 55, 66, 68, 58, 69, 79, 62, 77, 91, 61, 69, 53, 35, 59, 65, 76, 73, 74, 73, 76, 86, 62, 73, 79, 79, 59, 57, 54, 52, 67, 91, 81, 73, 65, 78, 50, 77, 60, 66, 49, 57, 77, 73, 62, 75, 78, 41, 75, 65, 85, 89, 77, 72, 61, 80, 54, 31, 60, 80, 67, 57, 70, 72, 72, 89, 57, 57, 55, 76, 74, 82, 50, 56, 46, 78, 55, 57, 61, 73, 66, 70, 50, 72, 74, 55, 68, 68, 58, 91, 81, 61, 83, 65, 75, 55, 84, 69, 60, 77, 59, 66, 55, 78, 29, 69, 85, 57, 67, 83, 48, 74, 79, 59, 61, 57, 73, 82, 77, 63, 65, 63, 68, 85, 71, 72, 48, 61, 88, 89, 87, 51, 77, 73, 66, 36, 85, 47, 61, 73, 83, 48, 75, 61, 66, 49, 77, 56, 84, 70, 65, 79, 68, 61, 61, 69, 60, 79, 87, 59, 64, 84, 69, 69, 78, 83, 50, 66, 76, 76, 80, 69, 44, 81, 61, 61, 58, 64, 49, 55, 76, 72, 80, 64, 47, 58, 62, 72, 67, 55, 61, 64, 67, 47, 80, 74, 52, 72, 68, 48, 60, 79, 68, 70, 85, 75, 73, 38, 68, 75, 69, 64, 61, 71, 54, 75, 83, 67, 78, 57, 57, 69, 77, 65, 67, 82, 55, 60, 74, 84, 67, 78, 51, 72, 83, 70, 81, 59, 42, 65, 58, 73, 37, 76, 79, 57, 72, 61, 75, 71, 87, 79, 59, 42, 79, 71, 75, 56, 83, 59, 68, 71, 66, 73, 72, 57, 69, 82, 69, 69, 79, 62, 71, 44, 67, 55, 93, 48, 72, 80, 81, 41, 58, 82, 53, 58, 58, 56, 83, 61, 70, 76, 66, 69, 65, 69, 68, 68, 66, 71, 68, 59, 48, 78, 86, 64, 78, 71, 61, 67, 87, 53, 70, 77, 89], \"xaxis\": \"x\", \"yaxis\": \"y\"}],\n",
              "                        {\"barmode\": \"relative\", \"legend\": {\"tracegroupgap\": 0}, \"template\": {\"data\": {\"bar\": [{\"error_x\": {\"color\": \"#2a3f5f\"}, \"error_y\": {\"color\": \"#2a3f5f\"}, \"marker\": {\"line\": {\"color\": \"#E5ECF6\", \"width\": 0.5}}, \"type\": \"bar\"}], \"barpolar\": [{\"marker\": {\"line\": {\"color\": \"#E5ECF6\", \"width\": 0.5}}, \"type\": \"barpolar\"}], \"carpet\": [{\"aaxis\": {\"endlinecolor\": \"#2a3f5f\", \"gridcolor\": \"white\", \"linecolor\": \"white\", \"minorgridcolor\": \"white\", \"startlinecolor\": \"#2a3f5f\"}, \"baxis\": {\"endlinecolor\": \"#2a3f5f\", \"gridcolor\": \"white\", \"linecolor\": \"white\", \"minorgridcolor\": \"white\", \"startlinecolor\": \"#2a3f5f\"}, \"type\": \"carpet\"}], \"choropleth\": [{\"colorbar\": {\"outlinewidth\": 0, \"ticks\": \"\"}, \"type\": \"choropleth\"}], \"contour\": [{\"colorbar\": {\"outlinewidth\": 0, \"ticks\": \"\"}, \"colorscale\": [[0.0, \"#0d0887\"], [0.1111111111111111, \"#46039f\"], [0.2222222222222222, \"#7201a8\"], [0.3333333333333333, \"#9c179e\"], [0.4444444444444444, \"#bd3786\"], [0.5555555555555556, \"#d8576b\"], [0.6666666666666666, \"#ed7953\"], [0.7777777777777778, \"#fb9f3a\"], [0.8888888888888888, \"#fdca26\"], [1.0, \"#f0f921\"]], \"type\": \"contour\"}], \"contourcarpet\": [{\"colorbar\": {\"outlinewidth\": 0, \"ticks\": \"\"}, \"type\": \"contourcarpet\"}], \"heatmap\": [{\"colorbar\": {\"outlinewidth\": 0, \"ticks\": \"\"}, \"colorscale\": [[0.0, \"#0d0887\"], [0.1111111111111111, \"#46039f\"], [0.2222222222222222, \"#7201a8\"], [0.3333333333333333, \"#9c179e\"], [0.4444444444444444, \"#bd3786\"], [0.5555555555555556, \"#d8576b\"], [0.6666666666666666, \"#ed7953\"], [0.7777777777777778, \"#fb9f3a\"], [0.8888888888888888, \"#fdca26\"], [1.0, \"#f0f921\"]], \"type\": \"heatmap\"}], \"heatmapgl\": [{\"colorbar\": {\"outlinewidth\": 0, \"ticks\": \"\"}, \"colorscale\": [[0.0, \"#0d0887\"], [0.1111111111111111, \"#46039f\"], [0.2222222222222222, \"#7201a8\"], [0.3333333333333333, \"#9c179e\"], [0.4444444444444444, \"#bd3786\"], [0.5555555555555556, \"#d8576b\"], [0.6666666666666666, \"#ed7953\"], [0.7777777777777778, \"#fb9f3a\"], [0.8888888888888888, \"#fdca26\"], [1.0, \"#f0f921\"]], \"type\": \"heatmapgl\"}], \"histogram\": [{\"marker\": {\"colorbar\": {\"outlinewidth\": 0, \"ticks\": \"\"}}, \"type\": \"histogram\"}], \"histogram2d\": [{\"colorbar\": {\"outlinewidth\": 0, \"ticks\": \"\"}, \"colorscale\": [[0.0, \"#0d0887\"], [0.1111111111111111, \"#46039f\"], [0.2222222222222222, \"#7201a8\"], [0.3333333333333333, \"#9c179e\"], [0.4444444444444444, \"#bd3786\"], [0.5555555555555556, \"#d8576b\"], [0.6666666666666666, \"#ed7953\"], [0.7777777777777778, \"#fb9f3a\"], [0.8888888888888888, \"#fdca26\"], [1.0, \"#f0f921\"]], \"type\": \"histogram2d\"}], \"histogram2dcontour\": [{\"colorbar\": {\"outlinewidth\": 0, \"ticks\": \"\"}, \"colorscale\": [[0.0, \"#0d0887\"], [0.1111111111111111, \"#46039f\"], [0.2222222222222222, \"#7201a8\"], [0.3333333333333333, \"#9c179e\"], [0.4444444444444444, \"#bd3786\"], [0.5555555555555556, \"#d8576b\"], [0.6666666666666666, \"#ed7953\"], [0.7777777777777778, \"#fb9f3a\"], [0.8888888888888888, \"#fdca26\"], [1.0, \"#f0f921\"]], \"type\": \"histogram2dcontour\"}], \"mesh3d\": [{\"colorbar\": {\"outlinewidth\": 0, \"ticks\": \"\"}, \"type\": \"mesh3d\"}], \"parcoords\": [{\"line\": {\"colorbar\": {\"outlinewidth\": 0, \"ticks\": \"\"}}, \"type\": \"parcoords\"}], \"pie\": [{\"automargin\": true, \"type\": \"pie\"}], \"scatter\": [{\"marker\": {\"colorbar\": {\"outlinewidth\": 0, \"ticks\": \"\"}}, \"type\": \"scatter\"}], \"scatter3d\": [{\"line\": {\"colorbar\": {\"outlinewidth\": 0, \"ticks\": \"\"}}, \"marker\": {\"colorbar\": {\"outlinewidth\": 0, \"ticks\": \"\"}}, \"type\": \"scatter3d\"}], \"scattercarpet\": [{\"marker\": {\"colorbar\": {\"outlinewidth\": 0, \"ticks\": \"\"}}, \"type\": \"scattercarpet\"}], \"scattergeo\": [{\"marker\": {\"colorbar\": {\"outlinewidth\": 0, \"ticks\": \"\"}}, \"type\": \"scattergeo\"}], \"scattergl\": [{\"marker\": {\"colorbar\": {\"outlinewidth\": 0, \"ticks\": \"\"}}, \"type\": \"scattergl\"}], \"scattermapbox\": [{\"marker\": {\"colorbar\": {\"outlinewidth\": 0, \"ticks\": \"\"}}, \"type\": \"scattermapbox\"}], \"scatterpolar\": [{\"marker\": {\"colorbar\": {\"outlinewidth\": 0, \"ticks\": \"\"}}, \"type\": \"scatterpolar\"}], \"scatterpolargl\": [{\"marker\": {\"colorbar\": {\"outlinewidth\": 0, \"ticks\": \"\"}}, \"type\": \"scatterpolargl\"}], \"scatterternary\": [{\"marker\": {\"colorbar\": {\"outlinewidth\": 0, \"ticks\": \"\"}}, \"type\": \"scatterternary\"}], \"surface\": [{\"colorbar\": {\"outlinewidth\": 0, \"ticks\": \"\"}, \"colorscale\": [[0.0, \"#0d0887\"], [0.1111111111111111, \"#46039f\"], [0.2222222222222222, \"#7201a8\"], [0.3333333333333333, \"#9c179e\"], [0.4444444444444444, \"#bd3786\"], [0.5555555555555556, \"#d8576b\"], [0.6666666666666666, \"#ed7953\"], [0.7777777777777778, \"#fb9f3a\"], [0.8888888888888888, \"#fdca26\"], [1.0, \"#f0f921\"]], \"type\": \"surface\"}], \"table\": [{\"cells\": {\"fill\": {\"color\": \"#EBF0F8\"}, \"line\": {\"color\": \"white\"}}, \"header\": {\"fill\": {\"color\": \"#C8D4E3\"}, \"line\": {\"color\": \"white\"}}, \"type\": \"table\"}]}, \"layout\": {\"annotationdefaults\": {\"arrowcolor\": \"#2a3f5f\", \"arrowhead\": 0, \"arrowwidth\": 1}, \"coloraxis\": {\"colorbar\": {\"outlinewidth\": 0, \"ticks\": \"\"}}, \"colorscale\": {\"diverging\": [[0, \"#8e0152\"], [0.1, \"#c51b7d\"], [0.2, \"#de77ae\"], [0.3, \"#f1b6da\"], [0.4, \"#fde0ef\"], [0.5, \"#f7f7f7\"], [0.6, \"#e6f5d0\"], [0.7, \"#b8e186\"], [0.8, \"#7fbc41\"], [0.9, \"#4d9221\"], [1, \"#276419\"]], \"sequential\": [[0.0, \"#0d0887\"], [0.1111111111111111, \"#46039f\"], [0.2222222222222222, \"#7201a8\"], [0.3333333333333333, \"#9c179e\"], [0.4444444444444444, \"#bd3786\"], [0.5555555555555556, \"#d8576b\"], [0.6666666666666666, \"#ed7953\"], [0.7777777777777778, \"#fb9f3a\"], [0.8888888888888888, \"#fdca26\"], [1.0, \"#f0f921\"]], \"sequentialminus\": [[0.0, \"#0d0887\"], [0.1111111111111111, \"#46039f\"], [0.2222222222222222, \"#7201a8\"], [0.3333333333333333, \"#9c179e\"], [0.4444444444444444, \"#bd3786\"], [0.5555555555555556, \"#d8576b\"], [0.6666666666666666, \"#ed7953\"], [0.7777777777777778, \"#fb9f3a\"], [0.8888888888888888, \"#fdca26\"], [1.0, \"#f0f921\"]]}, \"colorway\": [\"#636efa\", \"#EF553B\", \"#00cc96\", \"#ab63fa\", \"#FFA15A\", \"#19d3f3\", \"#FF6692\", \"#B6E880\", \"#FF97FF\", \"#FECB52\"], \"font\": {\"color\": \"#2a3f5f\"}, \"geo\": {\"bgcolor\": \"white\", \"lakecolor\": \"white\", \"landcolor\": \"#E5ECF6\", \"showlakes\": true, \"showland\": true, \"subunitcolor\": \"white\"}, \"hoverlabel\": {\"align\": \"left\"}, \"hovermode\": \"closest\", \"mapbox\": {\"style\": \"light\"}, \"paper_bgcolor\": \"white\", \"plot_bgcolor\": \"#E5ECF6\", \"polar\": {\"angularaxis\": {\"gridcolor\": \"white\", \"linecolor\": \"white\", \"ticks\": \"\"}, \"bgcolor\": \"#E5ECF6\", \"radialaxis\": {\"gridcolor\": \"white\", \"linecolor\": \"white\", \"ticks\": \"\"}}, \"scene\": {\"xaxis\": {\"backgroundcolor\": \"#E5ECF6\", \"gridcolor\": \"white\", \"gridwidth\": 2, \"linecolor\": \"white\", \"showbackground\": true, \"ticks\": \"\", \"zerolinecolor\": \"white\"}, \"yaxis\": {\"backgroundcolor\": \"#E5ECF6\", \"gridcolor\": \"white\", \"gridwidth\": 2, \"linecolor\": \"white\", \"showbackground\": true, \"ticks\": \"\", \"zerolinecolor\": \"white\"}, \"zaxis\": {\"backgroundcolor\": \"#E5ECF6\", \"gridcolor\": \"white\", \"gridwidth\": 2, \"linecolor\": \"white\", \"showbackground\": true, \"ticks\": \"\", \"zerolinecolor\": \"white\"}}, \"shapedefaults\": {\"line\": {\"color\": \"#2a3f5f\"}}, \"ternary\": {\"aaxis\": {\"gridcolor\": \"white\", \"linecolor\": \"white\", \"ticks\": \"\"}, \"baxis\": {\"gridcolor\": \"white\", \"linecolor\": \"white\", \"ticks\": \"\"}, \"bgcolor\": \"#E5ECF6\", \"caxis\": {\"gridcolor\": \"white\", \"linecolor\": \"white\", \"ticks\": \"\"}}, \"title\": {\"x\": 0.05}, \"xaxis\": {\"automargin\": true, \"gridcolor\": \"white\", \"linecolor\": \"white\", \"ticks\": \"\", \"title\": {\"standoff\": 15}, \"zerolinecolor\": \"white\", \"zerolinewidth\": 2}, \"yaxis\": {\"automargin\": true, \"gridcolor\": \"white\", \"linecolor\": \"white\", \"ticks\": \"\", \"title\": {\"standoff\": 15}, \"zerolinecolor\": \"white\", \"zerolinewidth\": 2}}}, \"title\": {\"text\": \"Age breakdown\"}, \"xaxis\": {\"anchor\": \"y\", \"domain\": [0.0, 1.0], \"title\": {\"text\": \"AGE\"}}, \"yaxis\": {\"anchor\": \"x\", \"domain\": [0.0, 1.0], \"title\": {\"text\": \"count\"}}},\n",
              "                        {\"responsive\": true}\n",
              "                    ).then(function(){\n",
              "                            \n",
              "var gd = document.getElementById('b92eb3cc-13d0-4927-a5e3-7c71a0fc4f2b');\n",
              "var x = new MutationObserver(function (mutations, observer) {{\n",
              "        var display = window.getComputedStyle(gd).display;\n",
              "        if (!display || display === 'none') {{\n",
              "            console.log([gd, 'removed!']);\n",
              "            Plotly.purge(gd);\n",
              "            observer.disconnect();\n",
              "        }}\n",
              "}});\n",
              "\n",
              "// Listen for the removal of the full notebook cells\n",
              "var notebookContainer = gd.closest('#notebook-container');\n",
              "if (notebookContainer) {{\n",
              "    x.observe(notebookContainer, {childList: true});\n",
              "}}\n",
              "\n",
              "// Listen for the clearing of the current output cell\n",
              "var outputEl = gd.closest('.output');\n",
              "if (outputEl) {{\n",
              "    x.observe(outputEl, {childList: true});\n",
              "}}\n",
              "\n",
              "                        })\n",
              "                };\n",
              "                \n",
              "            </script>\n",
              "        </div>\n",
              "</body>\n",
              "</html>"
            ]
          },
          "metadata": {
            "tags": []
          }
        }
      ]
    },
    {
      "cell_type": "code",
      "metadata": {
        "id": "YQXJXwxpROs_"
      },
      "source": [
        "#Organize survival and income data\r\n",
        "inc_list = list(stud_des_df['HHINC'])\r\n",
        "\r\n",
        "inc_dict = {1:'< 10k',2:'10k-25k',3:'25k-50k',4:'50k-75k',5:'> 75k',6:'Refuse to answer',77:'Don\\'t know',99:'No response'}\r\n",
        "\r\n",
        "inc_map = list(map(lambda ele: inc_dict[ele],inc_list))\r\n",
        "stat_list = list(stud_des_df['PATIENTSTATUS'])\r\n",
        "\r\n",
        "i_s_dict = {'inc' :inc_map,'stat' : stat_list}\r\n",
        "inc_stat_df = pd.DataFrame(data = i_s_dict)\r\n"
      ],
      "execution_count": 259,
      "outputs": []
    },
    {
      "cell_type": "code",
      "metadata": {
        "colab": {
          "base_uri": "https://localhost:8080/",
          "height": 542
        },
        "id": "pN1872XXQECp",
        "outputId": "5459acb3-bb5f-42a0-a17c-f6e11f17cd37"
      },
      "source": [
        "#Shows the incomes grouped based on survival(blue live, red die)\r\n",
        "# As 60% of paitents lived itd make sense for blue to be higher, about 1.5x the height of the corresponding red\r\n",
        "#This shows those who made under 25k were more likely to die, as the percentages of living to dead are mismatched \r\n",
        "px.histogram(data_frame=inc_stat_df, x = 'inc', color = 'stat', barmode = 'group')"
      ],
      "execution_count": 276,
      "outputs": [
        {
          "output_type": "display_data",
          "data": {
            "text/html": [
              "<html>\n",
              "<head><meta charset=\"utf-8\" /></head>\n",
              "<body>\n",
              "    <div>\n",
              "            <script src=\"https://cdnjs.cloudflare.com/ajax/libs/mathjax/2.7.5/MathJax.js?config=TeX-AMS-MML_SVG\"></script><script type=\"text/javascript\">if (window.MathJax) {MathJax.Hub.Config({SVG: {font: \"STIX-Web\"}});}</script>\n",
              "                <script type=\"text/javascript\">window.PlotlyConfig = {MathJaxConfig: 'local'};</script>\n",
              "        <script src=\"https://cdn.plot.ly/plotly-latest.min.js\"></script>    \n",
              "            <div id=\"55295c25-74cd-4b96-b74c-128bf3a81c4c\" class=\"plotly-graph-div\" style=\"height:525px; width:100%;\"></div>\n",
              "            <script type=\"text/javascript\">\n",
              "                \n",
              "                    window.PLOTLYENV=window.PLOTLYENV || {};\n",
              "                    \n",
              "                if (document.getElementById(\"55295c25-74cd-4b96-b74c-128bf3a81c4c\")) {\n",
              "                    Plotly.newPlot(\n",
              "                        '55295c25-74cd-4b96-b74c-128bf3a81c4c',\n",
              "                        [{\"alignmentgroup\": \"True\", \"bingroup\": \"x\", \"hoverlabel\": {\"namelength\": 0}, \"hovertemplate\": \"stat=1.0<br>inc=%{x}<br>count=%{y}\", \"legendgroup\": \"stat=1.0\", \"marker\": {\"color\": \"#636efa\"}, \"name\": \"stat=1.0\", \"offsetgroup\": \"stat=1.0\", \"orientation\": \"v\", \"showlegend\": true, \"type\": \"histogram\", \"x\": [\"Refuse to answer\", \"10k-25k\", \"50k-75k\", \"Refuse to answer\", \"50k-75k\", \"25k-50k\", \"Refuse to answer\", \"50k-75k\", \"50k-75k\", \"50k-75k\", \"Refuse to answer\", \"25k-50k\", \"> 75k\", \"> 75k\", \"25k-50k\", \"< 10k\", \"50k-75k\", \"Don't know\", \"50k-75k\", \"25k-50k\", \"10k-25k\", \"50k-75k\", \"< 10k\", \"> 75k\", \"25k-50k\", \"Refuse to answer\", \"No response\", \"> 75k\", \"25k-50k\", \"> 75k\", \"> 75k\", \"> 75k\", \"Refuse to answer\", \"25k-50k\", \"25k-50k\", \"50k-75k\", \"25k-50k\", \"> 75k\", \"> 75k\", \"Refuse to answer\", \"25k-50k\", \"50k-75k\", \"10k-25k\", \"10k-25k\", \"50k-75k\", \"25k-50k\", \"25k-50k\", \"10k-25k\", \"> 75k\", \"50k-75k\", \"50k-75k\", \"25k-50k\", \"> 75k\", \"> 75k\", \"25k-50k\", \"50k-75k\", \"No response\", \"Refuse to answer\", \"50k-75k\", \"50k-75k\", \"25k-50k\", \"> 75k\", \"25k-50k\", \"50k-75k\", \"50k-75k\", \"> 75k\", \"> 75k\", \"50k-75k\", \"50k-75k\", \"50k-75k\", \"25k-50k\", \"No response\", \"Refuse to answer\", \"25k-50k\", \"25k-50k\", \"< 10k\", \"> 75k\", \"50k-75k\", \"10k-25k\", \"> 75k\", \"> 75k\", \"Refuse to answer\", \"Refuse to answer\", \"No response\", \"50k-75k\", \"50k-75k\", \"> 75k\", \"> 75k\", \"10k-25k\", \"< 10k\", \"> 75k\", \"50k-75k\", \"Refuse to answer\", \"Refuse to answer\", \"> 75k\", \"25k-50k\", \"Refuse to answer\", \"> 75k\", \"10k-25k\", \"> 75k\", \"25k-50k\", \"50k-75k\", \"Don't know\", \"50k-75k\", \"50k-75k\", \"< 10k\", \"50k-75k\", \"< 10k\", \"50k-75k\", \"50k-75k\", \"25k-50k\", \"10k-25k\", \"25k-50k\", \"> 75k\", \"< 10k\", \"> 75k\", \"50k-75k\", \"25k-50k\", \"25k-50k\", \"50k-75k\", \"25k-50k\", \"< 10k\", \"50k-75k\", \"25k-50k\", \"> 75k\", \"Refuse to answer\", \"50k-75k\", \"> 75k\", \"25k-50k\", \"> 75k\", \"25k-50k\", \"25k-50k\", \"10k-25k\", \"> 75k\", \"50k-75k\", \"< 10k\", \"25k-50k\", \"10k-25k\", \"10k-25k\", \"> 75k\", \"No response\", \"50k-75k\", \"50k-75k\", \"> 75k\", \"25k-50k\", \"50k-75k\", \"50k-75k\", \"25k-50k\", \"50k-75k\", \"10k-25k\", \"50k-75k\", \"10k-25k\", \"Refuse to answer\", \"50k-75k\", \"> 75k\", \"10k-25k\", \"> 75k\", \"> 75k\", \"> 75k\", \"> 75k\", \"50k-75k\", \"25k-50k\", \"25k-50k\", \"25k-50k\", \"50k-75k\", \"Refuse to answer\", \"< 10k\", \"10k-25k\", \"50k-75k\", \"50k-75k\", \"> 75k\", \"25k-50k\", \"< 10k\", \"> 75k\", \"50k-75k\", \"50k-75k\", \"> 75k\", \"Refuse to answer\", \"25k-50k\", \"> 75k\", \"10k-25k\", \"> 75k\", \"50k-75k\", \"50k-75k\", \"10k-25k\", \"50k-75k\", \"25k-50k\", \"> 75k\", \"> 75k\", \"< 10k\", \"25k-50k\", \"Refuse to answer\", \"50k-75k\", \"Don't know\", \"25k-50k\", \"10k-25k\", \"50k-75k\", \"Refuse to answer\", \"10k-25k\", \"< 10k\", \"> 75k\", \"> 75k\", \"50k-75k\", \"> 75k\", \"25k-50k\", \"50k-75k\", \"10k-25k\", \"Refuse to answer\", \"50k-75k\", \"10k-25k\", \"50k-75k\", \"> 75k\", \"25k-50k\", \"50k-75k\", \"50k-75k\", \"50k-75k\", \"> 75k\", \"10k-25k\", \"> 75k\", \"50k-75k\", \"25k-50k\", \"< 10k\", \"> 75k\", \"50k-75k\", \"50k-75k\", \"10k-25k\", \"25k-50k\", \"< 10k\", \"> 75k\", \"No response\", \"> 75k\", \"> 75k\", \"> 75k\", \"> 75k\", \"> 75k\", \"25k-50k\", \"> 75k\", \"> 75k\", \"Don't know\", \"25k-50k\", \"Refuse to answer\", \"25k-50k\", \"> 75k\", \"50k-75k\", \"> 75k\", \"> 75k\", \"25k-50k\", \"Refuse to answer\", \"No response\", \"10k-25k\", \"50k-75k\", \"25k-50k\", \"> 75k\", \"> 75k\", \"25k-50k\", \"> 75k\", \"10k-25k\", \"Refuse to answer\", \"50k-75k\", \"25k-50k\", \"25k-50k\", \"No response\", \"25k-50k\", \"25k-50k\", \"Refuse to answer\", \"25k-50k\", \"25k-50k\", \"10k-25k\", \"10k-25k\", \"> 75k\", \"> 75k\", \"25k-50k\", \"< 10k\", \"25k-50k\", \"25k-50k\", \"Don't know\", \"> 75k\", \"50k-75k\", \"10k-25k\", \"10k-25k\", \"25k-50k\", \"Refuse to answer\", \"25k-50k\", \"> 75k\", \"25k-50k\", \"> 75k\", \"Refuse to answer\", \"50k-75k\", \"50k-75k\", \"< 10k\", \"10k-25k\", \"> 75k\", \"> 75k\", \"50k-75k\", \"25k-50k\", \"25k-50k\", \"> 75k\", \"25k-50k\", \"50k-75k\", \"10k-25k\", \"25k-50k\", \"10k-25k\", \"10k-25k\", \"10k-25k\", \"50k-75k\", \"Don't know\", \"> 75k\", \"10k-25k\", \"50k-75k\", \"< 10k\", \"Refuse to answer\", \"50k-75k\", \"> 75k\", \"50k-75k\", \"> 75k\", \"25k-50k\", \"25k-50k\", \"> 75k\", \"> 75k\", \"50k-75k\", \"25k-50k\", \"10k-25k\", \"Refuse to answer\", \"< 10k\", \"Refuse to answer\", \"50k-75k\", \"25k-50k\", \"Don't know\", \"50k-75k\", \"> 75k\", \"10k-25k\", \"50k-75k\", \"< 10k\", \"> 75k\", \"> 75k\", \"50k-75k\", \"10k-25k\", \"> 75k\", \"50k-75k\", \"25k-50k\", \"> 75k\", \"50k-75k\", \"50k-75k\", \"> 75k\", \"> 75k\", \"50k-75k\", \"10k-25k\", \"10k-25k\", \"Refuse to answer\", \"25k-50k\", \"25k-50k\", \"Refuse to answer\", \"25k-50k\", \"50k-75k\", \"Refuse to answer\", \"10k-25k\", \"> 75k\", \"25k-50k\", \"Refuse to answer\", \"25k-50k\", \"50k-75k\", \"> 75k\", \"50k-75k\", \"10k-25k\", \"50k-75k\", \"< 10k\", \"50k-75k\", \"50k-75k\", \"25k-50k\", \"10k-25k\", \"10k-25k\", \"> 75k\", \"> 75k\", \"No response\", \"No response\", \"Refuse to answer\", \"25k-50k\", \"10k-25k\", \"25k-50k\", \"Refuse to answer\", \"25k-50k\", \"> 75k\", \"> 75k\", \"25k-50k\", \"Refuse to answer\", \"25k-50k\", \"50k-75k\", \"50k-75k\", \"50k-75k\", \"50k-75k\", \"Refuse to answer\", \"No response\", \"10k-25k\", \"> 75k\", \"10k-25k\", \"25k-50k\", \"25k-50k\", \"25k-50k\", \"> 75k\", \"50k-75k\", \"50k-75k\", \"> 75k\", \"> 75k\", \"50k-75k\", \"25k-50k\", \"> 75k\", \"> 75k\", \"> 75k\", \"25k-50k\", \"> 75k\", \"10k-25k\", \"Refuse to answer\", \"> 75k\", \"Refuse to answer\", \"50k-75k\", \"> 75k\", \"Refuse to answer\", \"50k-75k\", \"> 75k\", \"> 75k\", \"> 75k\", \"50k-75k\", \"10k-25k\", \"50k-75k\", \"10k-25k\", \"50k-75k\", \"< 10k\", \"25k-50k\", \"50k-75k\", \"> 75k\", \"> 75k\", \"50k-75k\", \"> 75k\", \"50k-75k\", \"50k-75k\", \"> 75k\", \"> 75k\", \"25k-50k\", \"> 75k\", \"> 75k\", \"50k-75k\", \"25k-50k\", \"25k-50k\", \"25k-50k\", \"50k-75k\", \"> 75k\", \"25k-50k\", \"10k-25k\", \"> 75k\", \"No response\", \"25k-50k\", \"> 75k\", \"Refuse to answer\", \"Refuse to answer\", \"< 10k\", \"> 75k\", \"50k-75k\", \"50k-75k\", \"25k-50k\", \"> 75k\", \"> 75k\", \"10k-25k\", \"50k-75k\", \"25k-50k\", \"> 75k\", \"25k-50k\", \"50k-75k\", \"50k-75k\", \"> 75k\", \"25k-50k\", \"> 75k\", \"50k-75k\", \"Refuse to answer\", \"25k-50k\", \"50k-75k\", \"> 75k\", \"25k-50k\", \"25k-50k\", \"10k-25k\", \"25k-50k\", \"25k-50k\", \"> 75k\", \"> 75k\", \"> 75k\", \"10k-25k\", \"> 75k\", \"50k-75k\", \"Don't know\", \"50k-75k\", \"10k-25k\", \"50k-75k\", \"50k-75k\", \"25k-50k\", \"25k-50k\", \"> 75k\", \"> 75k\", \"50k-75k\", \"> 75k\", \"50k-75k\", \"> 75k\", \"> 75k\", \"50k-75k\", \"< 10k\", \"50k-75k\", \"Refuse to answer\", \"25k-50k\", \"50k-75k\", \"Refuse to answer\", \"> 75k\", \"50k-75k\", \"Refuse to answer\", \"50k-75k\", \"25k-50k\", \"> 75k\", \"50k-75k\", \"< 10k\", \"> 75k\", \"10k-25k\", \"> 75k\", \"> 75k\", \"25k-50k\", \"25k-50k\", \"> 75k\", \"> 75k\", \"> 75k\", \"> 75k\", \"> 75k\", \"50k-75k\", \"25k-50k\", \"> 75k\", \"> 75k\", \"< 10k\", \"50k-75k\", \"25k-50k\", \"Refuse to answer\", \"> 75k\", \"50k-75k\", \"> 75k\", \"50k-75k\", \"50k-75k\", \"25k-50k\", \"Refuse to answer\", \"< 10k\", \"> 75k\", \"< 10k\", \"25k-50k\", \"25k-50k\", \"50k-75k\", \"25k-50k\", \"25k-50k\", \"< 10k\", \"50k-75k\", \"25k-50k\", \"> 75k\", \"> 75k\", \"> 75k\", \"< 10k\", \"25k-50k\", \"25k-50k\", \"50k-75k\", \"50k-75k\", \"25k-50k\", \"> 75k\", \"25k-50k\", \"25k-50k\", \"25k-50k\", \"> 75k\", \"10k-25k\", \"25k-50k\", \"> 75k\", \"25k-50k\", \"> 75k\", \"50k-75k\", \"25k-50k\", \"No response\", \"> 75k\", \"Refuse to answer\", \"> 75k\", \"25k-50k\", \"Refuse to answer\", \"50k-75k\", \"> 75k\", \"50k-75k\", \"10k-25k\", \"> 75k\", \"50k-75k\", \"50k-75k\", \"< 10k\", \"25k-50k\", \"Refuse to answer\", \"10k-25k\", \"25k-50k\", \"10k-25k\", \"> 75k\", \"50k-75k\", \"50k-75k\", \"50k-75k\", \"50k-75k\", \"> 75k\", \"> 75k\", \"Don't know\", \"< 10k\", \"50k-75k\", \"50k-75k\", \"50k-75k\", \"< 10k\", \"25k-50k\", \"25k-50k\", \"10k-25k\", \"50k-75k\", \"Don't know\", \"25k-50k\", \"Refuse to answer\", \"< 10k\", \"> 75k\", \"50k-75k\", \"10k-25k\", \"50k-75k\", \"10k-25k\", \"> 75k\", \"10k-25k\", \"10k-25k\", \"10k-25k\", \"Refuse to answer\", \"10k-25k\", \"25k-50k\", \"Refuse to answer\", \"25k-50k\", \"50k-75k\", \"25k-50k\", \"> 75k\", \"50k-75k\", \"< 10k\", \"Refuse to answer\", \"50k-75k\", \"> 75k\", \"> 75k\", \"> 75k\", \"< 10k\", \"25k-50k\", \"> 75k\", \"> 75k\", \"> 75k\", \"> 75k\", \"50k-75k\", \"< 10k\", \"25k-50k\", \"50k-75k\", \"> 75k\", \"Refuse to answer\", \"> 75k\", \"> 75k\", \"25k-50k\", \"25k-50k\", \"25k-50k\", \"> 75k\", \"25k-50k\", \"50k-75k\", \"25k-50k\", \"25k-50k\", \"Refuse to answer\", \"50k-75k\", \"> 75k\", \"Refuse to answer\", \"> 75k\", \"25k-50k\", \"> 75k\", \"> 75k\", \"> 75k\", \"25k-50k\", \"25k-50k\", \"50k-75k\", \"> 75k\", \"Refuse to answer\", \"25k-50k\", \"Refuse to answer\", \"25k-50k\", \"25k-50k\", \"> 75k\", \"25k-50k\", \"> 75k\", \"> 75k\", \"Refuse to answer\", \"No response\", \"50k-75k\", \"Don't know\", \"25k-50k\", \"25k-50k\", \"25k-50k\", \"50k-75k\", \"> 75k\", \"50k-75k\", \"> 75k\", \"50k-75k\", \"25k-50k\", \"Refuse to answer\", \"25k-50k\", \"> 75k\", \"No response\", \"25k-50k\", \"25k-50k\", \"25k-50k\", \"25k-50k\", \"50k-75k\", \"25k-50k\", \"10k-25k\", \"> 75k\", \"25k-50k\", \"> 75k\", \"25k-50k\", \"50k-75k\", \"25k-50k\", \"50k-75k\", \"50k-75k\", \"25k-50k\", \"> 75k\", \"> 75k\", \"25k-50k\", \"< 10k\", \"25k-50k\", \"Refuse to answer\", \"50k-75k\", \"25k-50k\", \"Refuse to answer\", \"25k-50k\", \"50k-75k\", \"Refuse to answer\", \"50k-75k\", \"> 75k\", \"Refuse to answer\", \"Refuse to answer\", \"Refuse to answer\", \"> 75k\", \"10k-25k\", \"25k-50k\", \"> 75k\", \"10k-25k\", \"10k-25k\", \"> 75k\", \"10k-25k\", \"25k-50k\", \"25k-50k\", \"> 75k\", \"> 75k\", \"25k-50k\", \"50k-75k\", \"10k-25k\", \"50k-75k\", \"25k-50k\", \"25k-50k\", \"> 75k\", \"> 75k\", \"50k-75k\", \"10k-25k\", \"Refuse to answer\", \"25k-50k\", \"50k-75k\", \"10k-25k\", \"25k-50k\", \"> 75k\", \"> 75k\", \"10k-25k\", \"> 75k\", \"50k-75k\", \"Refuse to answer\", \"25k-50k\", \"50k-75k\", \"50k-75k\", \"> 75k\", \"< 10k\", \"Refuse to answer\", \"25k-50k\", \"> 75k\", \"50k-75k\", \"10k-25k\", \"50k-75k\", \"50k-75k\", \"10k-25k\", \"10k-25k\", \"25k-50k\", \"25k-50k\", \"50k-75k\", \"25k-50k\", \"50k-75k\", \"Refuse to answer\", \"50k-75k\", \"> 75k\", \"10k-25k\", \"10k-25k\", \"Don't know\", \"25k-50k\", \"10k-25k\", \"25k-50k\", \"50k-75k\", \"25k-50k\", \"50k-75k\", \"25k-50k\", \"10k-25k\", \"50k-75k\", \"10k-25k\", \"50k-75k\", \"> 75k\", \"50k-75k\", \"10k-25k\", \"25k-50k\", \"> 75k\", \"25k-50k\", \"Refuse to answer\", \"Refuse to answer\", \"> 75k\", \"> 75k\", \"Refuse to answer\", \"No response\", \"25k-50k\", \"Refuse to answer\", \"25k-50k\", \"> 75k\", \"10k-25k\", \"50k-75k\", \"> 75k\", \"> 75k\", \"25k-50k\", \"Don't know\", \"25k-50k\", \"10k-25k\", \"< 10k\", \"> 75k\", \"25k-50k\", \"10k-25k\", \"> 75k\", \"50k-75k\", \"10k-25k\", \"25k-50k\", \"50k-75k\", \"50k-75k\", \"10k-25k\", \"< 10k\", \"> 75k\", \"> 75k\", \"50k-75k\", \"25k-50k\", \"> 75k\", \"Refuse to answer\", \"25k-50k\", \"> 75k\", \"> 75k\", \"Refuse to answer\", \"50k-75k\", \"50k-75k\", \"< 10k\", \"Refuse to answer\", \"> 75k\", \"25k-50k\", \"> 75k\", \"25k-50k\", \"25k-50k\", \"50k-75k\", \"Don't know\", \"25k-50k\", \"> 75k\", \"25k-50k\", \"> 75k\", \"50k-75k\", \"25k-50k\", \"> 75k\", \"> 75k\", \"> 75k\", \"> 75k\", \"25k-50k\", \"> 75k\", \"50k-75k\", \"10k-25k\", \"Refuse to answer\", \"25k-50k\", \"10k-25k\", \"50k-75k\", \"50k-75k\", \"25k-50k\", \"> 75k\", \"No response\", \"50k-75k\", \"10k-25k\", \"25k-50k\", \"< 10k\", \"> 75k\", \"Refuse to answer\", \"25k-50k\", \"50k-75k\", \"> 75k\", \"10k-25k\", \"> 75k\", \"50k-75k\", \"Refuse to answer\", \"> 75k\", \"> 75k\", \"25k-50k\", \"> 75k\", \"10k-25k\", \"> 75k\", \"25k-50k\", \"> 75k\", \"25k-50k\", \"25k-50k\", \"10k-25k\", \"50k-75k\", \"< 10k\", \"25k-50k\", \"< 10k\", \"50k-75k\", \"25k-50k\", \"> 75k\", \"25k-50k\", \"> 75k\", \"50k-75k\", \"Refuse to answer\", \"50k-75k\", \"25k-50k\", \"> 75k\", \"10k-25k\", \"25k-50k\", \"50k-75k\", \"50k-75k\", \"> 75k\", \"> 75k\", \"Refuse to answer\", \"< 10k\", \"Refuse to answer\", \"50k-75k\", \"> 75k\", \"> 75k\", \"50k-75k\", \"50k-75k\", \"> 75k\", \"< 10k\", \"> 75k\", \"50k-75k\", \"> 75k\", \"25k-50k\", \"25k-50k\", \"Refuse to answer\", \"> 75k\", \"25k-50k\", \"50k-75k\", \"50k-75k\", \"50k-75k\", \"10k-25k\", \"10k-25k\", \"> 75k\", \"< 10k\", \"10k-25k\", \"10k-25k\", \"25k-50k\", \"50k-75k\", \"Don't know\", \"25k-50k\", \"25k-50k\", \"50k-75k\", \"10k-25k\", \"50k-75k\", \"25k-50k\", \"> 75k\", \"50k-75k\", \"> 75k\", \"50k-75k\", \"50k-75k\", \"> 75k\", \"50k-75k\", \"50k-75k\", \"> 75k\", \"> 75k\", \"> 75k\", \"Refuse to answer\", \"25k-50k\", \"10k-25k\", \"Refuse to answer\", \"25k-50k\", \"> 75k\", \"25k-50k\", \"25k-50k\", \"> 75k\", \"> 75k\", \"50k-75k\", \"25k-50k\", \"> 75k\", \"25k-50k\", \"50k-75k\", \"Refuse to answer\", \"50k-75k\", \"> 75k\", \"50k-75k\", \"25k-50k\", \"25k-50k\", \"25k-50k\", \"> 75k\", \"> 75k\", \"50k-75k\"], \"xaxis\": \"x\", \"yaxis\": \"y\"}, {\"alignmentgroup\": \"True\", \"bingroup\": \"x\", \"hoverlabel\": {\"namelength\": 0}, \"hovertemplate\": \"stat=0.0<br>inc=%{x}<br>count=%{y}\", \"legendgroup\": \"stat=0.0\", \"marker\": {\"color\": \"#EF553B\"}, \"name\": \"stat=0.0\", \"offsetgroup\": \"stat=0.0\", \"orientation\": \"v\", \"showlegend\": true, \"type\": \"histogram\", \"x\": [\"> 75k\", \"25k-50k\", \"50k-75k\", \"50k-75k\", \"< 10k\", \"Refuse to answer\", \"25k-50k\", \"Refuse to answer\", \"50k-75k\", \"10k-25k\", \"> 75k\", \"10k-25k\", \"> 75k\", \"10k-25k\", \"10k-25k\", \"50k-75k\", \"25k-50k\", \"25k-50k\", \"No response\", \"> 75k\", \"10k-25k\", \"Don't know\", \"Don't know\", \"< 10k\", \"> 75k\", \"25k-50k\", \"50k-75k\", \"25k-50k\", \"Refuse to answer\", \"25k-50k\", \"Don't know\", \"50k-75k\", \"Refuse to answer\", \"25k-50k\", \"50k-75k\", \"25k-50k\", \"10k-25k\", \"Refuse to answer\", \"50k-75k\", \"25k-50k\", \"> 75k\", \"10k-25k\", \"10k-25k\", \"25k-50k\", \"25k-50k\", \"No response\", \"10k-25k\", \"> 75k\", \"25k-50k\", \"> 75k\", \"Refuse to answer\", \"< 10k\", \"50k-75k\", \"50k-75k\", \"Refuse to answer\", \"10k-25k\", \"25k-50k\", \"Refuse to answer\", \"50k-75k\", \"> 75k\", \"25k-50k\", \"> 75k\", \"50k-75k\", \"10k-25k\", \"25k-50k\", \"50k-75k\", \"10k-25k\", \"25k-50k\", \"50k-75k\", \"25k-50k\", \"25k-50k\", \"10k-25k\", \"25k-50k\", \"10k-25k\", \"25k-50k\", \"> 75k\", \"25k-50k\", \"10k-25k\", \"50k-75k\", \"10k-25k\", \"Refuse to answer\", \"> 75k\", \"10k-25k\", \"Refuse to answer\", \"No response\", \"25k-50k\", \"25k-50k\", \"10k-25k\", \"50k-75k\", \"Don't know\", \"25k-50k\", \"25k-50k\", \"50k-75k\", \"No response\", \"25k-50k\", \"50k-75k\", \"10k-25k\", \"10k-25k\", \"> 75k\", \"Don't know\", \"Refuse to answer\", \"10k-25k\", \"25k-50k\", \"< 10k\", \"10k-25k\", \"50k-75k\", \"50k-75k\", \"Refuse to answer\", \"> 75k\", \"Refuse to answer\", \"No response\", \"Refuse to answer\", \"Refuse to answer\", \"No response\", \"10k-25k\", \"Refuse to answer\", \"10k-25k\", \"Refuse to answer\", \"50k-75k\", \"10k-25k\", \"25k-50k\", \"25k-50k\", \"< 10k\", \"Refuse to answer\", \"50k-75k\", \"Refuse to answer\", \"25k-50k\", \"50k-75k\", \"25k-50k\", \"> 75k\", \"Refuse to answer\", \"25k-50k\", \"> 75k\", \"10k-25k\", \"10k-25k\", \"50k-75k\", \"25k-50k\", \"No response\", \"25k-50k\", \"10k-25k\", \"25k-50k\", \"> 75k\", \"25k-50k\", \"25k-50k\", \"10k-25k\", \"25k-50k\", \"10k-25k\", \"50k-75k\", \"Refuse to answer\", \"50k-75k\", \"10k-25k\", \"No response\", \"50k-75k\", \"> 75k\", \"50k-75k\", \"50k-75k\", \"< 10k\", \"25k-50k\", \"50k-75k\", \"< 10k\", \"Refuse to answer\", \"Refuse to answer\", \"> 75k\", \"10k-25k\", \"50k-75k\", \"10k-25k\", \"No response\", \"> 75k\", \"50k-75k\", \"25k-50k\", \"25k-50k\", \"25k-50k\", \"Don't know\", \"25k-50k\", \"10k-25k\", \"10k-25k\", \"25k-50k\", \"Don't know\", \"10k-25k\", \"> 75k\", \"10k-25k\", \"25k-50k\", \"> 75k\", \"10k-25k\", \"50k-75k\", \"> 75k\", \"25k-50k\", \"> 75k\", \"10k-25k\", \"> 75k\", \"50k-75k\", \"No response\", \"50k-75k\", \"25k-50k\", \"50k-75k\", \"Refuse to answer\", \"50k-75k\", \"10k-25k\", \"50k-75k\", \"Refuse to answer\", \"> 75k\", \"Refuse to answer\", \"< 10k\", \"< 10k\", \"10k-25k\", \"25k-50k\", \"< 10k\", \"10k-25k\", \"Refuse to answer\", \"10k-25k\", \"25k-50k\", \"25k-50k\", \"25k-50k\", \"10k-25k\", \"10k-25k\", \"25k-50k\", \"Don't know\", \"Don't know\", \"10k-25k\", \"< 10k\", \"50k-75k\", \"50k-75k\", \"25k-50k\", \"> 75k\", \"25k-50k\", \"10k-25k\", \"10k-25k\", \"< 10k\", \"> 75k\", \"< 10k\", \"10k-25k\", \"25k-50k\", \"10k-25k\", \"25k-50k\", \"25k-50k\", \"> 75k\", \"< 10k\", \"10k-25k\", \"25k-50k\", \"50k-75k\", \"10k-25k\", \"> 75k\", \"25k-50k\", \"10k-25k\", \"50k-75k\", \"> 75k\", \"50k-75k\", \"> 75k\", \"50k-75k\", \"< 10k\", \"10k-25k\", \"< 10k\", \"25k-50k\", \"< 10k\", \"10k-25k\", \"10k-25k\", \"> 75k\", \"No response\", \"25k-50k\", \"25k-50k\", \"< 10k\", \"< 10k\", \"Don't know\", \"10k-25k\", \"Don't know\", \"10k-25k\", \"Refuse to answer\", \"< 10k\", \"Refuse to answer\", \"25k-50k\", \"50k-75k\", \"50k-75k\", \"10k-25k\", \"> 75k\", \"> 75k\", \"10k-25k\", \"< 10k\", \"25k-50k\", \"10k-25k\", \"25k-50k\", \"10k-25k\", \"Don't know\", \"50k-75k\", \"25k-50k\", \"25k-50k\", \"10k-25k\", \"25k-50k\", \"25k-50k\", \"> 75k\", \"10k-25k\", \"25k-50k\", \"25k-50k\", \"25k-50k\", \"Refuse to answer\", \"50k-75k\", \"25k-50k\", \"50k-75k\", \"10k-25k\", \"25k-50k\", \"> 75k\", \"50k-75k\", \"50k-75k\", \"25k-50k\", \"Don't know\", \"< 10k\", \"10k-25k\", \"Refuse to answer\", \"No response\", \"25k-50k\", \"> 75k\", \"< 10k\", \"50k-75k\", \"< 10k\", \"Refuse to answer\", \"No response\", \"No response\", \"25k-50k\", \"< 10k\", \"50k-75k\", \"10k-25k\", \"Refuse to answer\", \"10k-25k\", \"No response\", \"< 10k\", \"> 75k\", \"10k-25k\", \"Refuse to answer\", \"25k-50k\", \"< 10k\", \"50k-75k\", \"50k-75k\", \"10k-25k\", \"25k-50k\", \"25k-50k\", \"10k-25k\", \"< 10k\", \"10k-25k\", \"10k-25k\", \"10k-25k\", \"50k-75k\", \"Refuse to answer\", \"25k-50k\", \"25k-50k\", \"25k-50k\", \"25k-50k\", \"25k-50k\", \"10k-25k\", \"No response\", \"< 10k\", \"50k-75k\", \"50k-75k\", \"> 75k\", \"25k-50k\", \"50k-75k\", \"10k-25k\", \"10k-25k\", \"No response\", \"10k-25k\", \"Refuse to answer\", \"Refuse to answer\", \"No response\", \"> 75k\", \"25k-50k\", \"50k-75k\", \"10k-25k\", \"< 10k\", \"> 75k\", \"25k-50k\", \"No response\", \"25k-50k\", \"50k-75k\", \"10k-25k\", \"Refuse to answer\", \"Refuse to answer\", \"> 75k\", \"50k-75k\", \"10k-25k\", \"10k-25k\", \"No response\", \"No response\", \"25k-50k\", \"25k-50k\", \"10k-25k\", \"50k-75k\", \"25k-50k\", \"10k-25k\", \"10k-25k\", \"10k-25k\", \"> 75k\", \"25k-50k\", \"10k-25k\", \"> 75k\", \"No response\", \"10k-25k\", \"> 75k\", \"10k-25k\", \"> 75k\", \"Refuse to answer\", \"25k-50k\", \"> 75k\", \"> 75k\", \"No response\", \"50k-75k\", \"50k-75k\", \"10k-25k\", \"Refuse to answer\", \"No response\", \"25k-50k\", \"< 10k\", \"25k-50k\", \"10k-25k\", \"25k-50k\", \"10k-25k\", \"Refuse to answer\", \"25k-50k\", \"25k-50k\", \"50k-75k\", \"Refuse to answer\", \"10k-25k\", \"Refuse to answer\", \"25k-50k\", \"> 75k\", \"> 75k\", \"25k-50k\", \"< 10k\", \"> 75k\", \"10k-25k\", \"Don't know\", \"< 10k\", \"25k-50k\", \"10k-25k\", \"Refuse to answer\", \"25k-50k\", \"> 75k\", \"50k-75k\", \"Don't know\", \"10k-25k\", \"25k-50k\", \"50k-75k\", \"Refuse to answer\", \"50k-75k\", \"25k-50k\", \"Refuse to answer\", \"< 10k\", \"> 75k\", \"Refuse to answer\", \"25k-50k\", \"10k-25k\", \"Don't know\", \"Refuse to answer\", \"25k-50k\", \"10k-25k\", \"10k-25k\", \"10k-25k\", \"< 10k\", \"10k-25k\", \"25k-50k\", \"25k-50k\", \"25k-50k\", \"25k-50k\", \"25k-50k\", \"25k-50k\", \"Refuse to answer\", \"25k-50k\", \"25k-50k\", \"50k-75k\", \"25k-50k\", \"25k-50k\", \"> 75k\", \"No response\", \"10k-25k\", \"25k-50k\", \"10k-25k\", \"< 10k\", \"25k-50k\", \"Refuse to answer\", \"Refuse to answer\", \"Refuse to answer\", \"> 75k\", \"10k-25k\", \"> 75k\", \"10k-25k\", \"> 75k\", \"Refuse to answer\", \"25k-50k\", \"< 10k\", \"> 75k\", \"50k-75k\", \"> 75k\", \"50k-75k\", \"> 75k\", \"25k-50k\", \"25k-50k\", \"< 10k\", \"25k-50k\", \"10k-25k\", \"25k-50k\", \"25k-50k\", \"< 10k\", \"< 10k\", \"> 75k\", \"< 10k\", \"> 75k\", \"10k-25k\", \"25k-50k\", \"10k-25k\", \"50k-75k\", \"Refuse to answer\", \"Refuse to answer\", \"< 10k\", \"10k-25k\", \"25k-50k\", \"25k-50k\", \"Refuse to answer\", \"25k-50k\", \"> 75k\", \"> 75k\", \"50k-75k\", \"25k-50k\", \"10k-25k\", \"25k-50k\", \"Refuse to answer\", \"10k-25k\", \"25k-50k\", \"25k-50k\", \"50k-75k\", \"10k-25k\", \"Refuse to answer\", \"> 75k\", \"25k-50k\", \"> 75k\", \"25k-50k\", \"10k-25k\", \"25k-50k\", \"No response\", \"25k-50k\", \"50k-75k\", \"< 10k\", \"10k-25k\", \"Refuse to answer\", \"25k-50k\", \"50k-75k\", \"> 75k\", \"10k-25k\", \"25k-50k\", \"No response\", \"50k-75k\", \"> 75k\", \"25k-50k\", \"10k-25k\", \"10k-25k\", \"10k-25k\", \"25k-50k\", \"50k-75k\", \"< 10k\", \"50k-75k\", \"No response\", \"> 75k\", \"Refuse to answer\", \"Don't know\", \"50k-75k\", \"< 10k\", \"25k-50k\", \"10k-25k\", \"50k-75k\", \"Refuse to answer\", \"25k-50k\", \"10k-25k\", \"No response\", \"Don't know\", \"25k-50k\", \"25k-50k\", \"Refuse to answer\", \"> 75k\", \"50k-75k\", \"25k-50k\", \"> 75k\", \"10k-25k\", \"50k-75k\", \"10k-25k\", \"25k-50k\", \"25k-50k\", \"10k-25k\", \"10k-25k\", \"50k-75k\", \"< 10k\", \"10k-25k\", \"25k-50k\", \"25k-50k\", \"Refuse to answer\", \"> 75k\", \"25k-50k\", \"< 10k\", \"No response\", \"50k-75k\", \"10k-25k\", \"25k-50k\", \"50k-75k\", \"50k-75k\", \"< 10k\", \"50k-75k\", \"25k-50k\", \"25k-50k\", \"25k-50k\"], \"xaxis\": \"x\", \"yaxis\": \"y\"}],\n",
              "                        {\"barmode\": \"group\", \"legend\": {\"tracegroupgap\": 0}, \"margin\": {\"t\": 60}, \"template\": {\"data\": {\"bar\": [{\"error_x\": {\"color\": \"#2a3f5f\"}, \"error_y\": {\"color\": \"#2a3f5f\"}, \"marker\": {\"line\": {\"color\": \"#E5ECF6\", \"width\": 0.5}}, \"type\": \"bar\"}], \"barpolar\": [{\"marker\": {\"line\": {\"color\": \"#E5ECF6\", \"width\": 0.5}}, \"type\": \"barpolar\"}], \"carpet\": [{\"aaxis\": {\"endlinecolor\": \"#2a3f5f\", \"gridcolor\": \"white\", \"linecolor\": \"white\", \"minorgridcolor\": \"white\", \"startlinecolor\": \"#2a3f5f\"}, \"baxis\": {\"endlinecolor\": \"#2a3f5f\", \"gridcolor\": \"white\", \"linecolor\": \"white\", \"minorgridcolor\": \"white\", \"startlinecolor\": \"#2a3f5f\"}, \"type\": \"carpet\"}], \"choropleth\": [{\"colorbar\": {\"outlinewidth\": 0, \"ticks\": \"\"}, \"type\": \"choropleth\"}], \"contour\": [{\"colorbar\": {\"outlinewidth\": 0, \"ticks\": \"\"}, \"colorscale\": [[0.0, \"#0d0887\"], [0.1111111111111111, \"#46039f\"], [0.2222222222222222, \"#7201a8\"], [0.3333333333333333, \"#9c179e\"], [0.4444444444444444, \"#bd3786\"], [0.5555555555555556, \"#d8576b\"], [0.6666666666666666, \"#ed7953\"], [0.7777777777777778, \"#fb9f3a\"], [0.8888888888888888, \"#fdca26\"], [1.0, \"#f0f921\"]], \"type\": \"contour\"}], \"contourcarpet\": [{\"colorbar\": {\"outlinewidth\": 0, \"ticks\": \"\"}, \"type\": \"contourcarpet\"}], \"heatmap\": [{\"colorbar\": {\"outlinewidth\": 0, \"ticks\": \"\"}, \"colorscale\": [[0.0, \"#0d0887\"], [0.1111111111111111, \"#46039f\"], [0.2222222222222222, \"#7201a8\"], [0.3333333333333333, \"#9c179e\"], [0.4444444444444444, \"#bd3786\"], [0.5555555555555556, \"#d8576b\"], [0.6666666666666666, \"#ed7953\"], [0.7777777777777778, \"#fb9f3a\"], [0.8888888888888888, \"#fdca26\"], [1.0, \"#f0f921\"]], \"type\": \"heatmap\"}], \"heatmapgl\": [{\"colorbar\": {\"outlinewidth\": 0, \"ticks\": \"\"}, \"colorscale\": [[0.0, \"#0d0887\"], [0.1111111111111111, \"#46039f\"], [0.2222222222222222, \"#7201a8\"], [0.3333333333333333, \"#9c179e\"], [0.4444444444444444, \"#bd3786\"], [0.5555555555555556, \"#d8576b\"], [0.6666666666666666, \"#ed7953\"], [0.7777777777777778, \"#fb9f3a\"], [0.8888888888888888, \"#fdca26\"], [1.0, \"#f0f921\"]], \"type\": \"heatmapgl\"}], \"histogram\": [{\"marker\": {\"colorbar\": {\"outlinewidth\": 0, \"ticks\": \"\"}}, \"type\": \"histogram\"}], \"histogram2d\": [{\"colorbar\": {\"outlinewidth\": 0, \"ticks\": \"\"}, \"colorscale\": [[0.0, \"#0d0887\"], [0.1111111111111111, \"#46039f\"], [0.2222222222222222, \"#7201a8\"], [0.3333333333333333, \"#9c179e\"], [0.4444444444444444, \"#bd3786\"], [0.5555555555555556, \"#d8576b\"], [0.6666666666666666, \"#ed7953\"], [0.7777777777777778, \"#fb9f3a\"], [0.8888888888888888, \"#fdca26\"], [1.0, \"#f0f921\"]], \"type\": \"histogram2d\"}], \"histogram2dcontour\": [{\"colorbar\": {\"outlinewidth\": 0, \"ticks\": \"\"}, \"colorscale\": [[0.0, \"#0d0887\"], [0.1111111111111111, \"#46039f\"], [0.2222222222222222, \"#7201a8\"], [0.3333333333333333, \"#9c179e\"], [0.4444444444444444, \"#bd3786\"], [0.5555555555555556, \"#d8576b\"], [0.6666666666666666, \"#ed7953\"], [0.7777777777777778, \"#fb9f3a\"], [0.8888888888888888, \"#fdca26\"], [1.0, \"#f0f921\"]], \"type\": \"histogram2dcontour\"}], \"mesh3d\": [{\"colorbar\": {\"outlinewidth\": 0, \"ticks\": \"\"}, \"type\": \"mesh3d\"}], \"parcoords\": [{\"line\": {\"colorbar\": {\"outlinewidth\": 0, \"ticks\": \"\"}}, \"type\": \"parcoords\"}], \"pie\": [{\"automargin\": true, \"type\": \"pie\"}], \"scatter\": [{\"marker\": {\"colorbar\": {\"outlinewidth\": 0, \"ticks\": \"\"}}, \"type\": \"scatter\"}], \"scatter3d\": [{\"line\": {\"colorbar\": {\"outlinewidth\": 0, \"ticks\": \"\"}}, \"marker\": {\"colorbar\": {\"outlinewidth\": 0, \"ticks\": \"\"}}, \"type\": \"scatter3d\"}], \"scattercarpet\": [{\"marker\": {\"colorbar\": {\"outlinewidth\": 0, \"ticks\": \"\"}}, \"type\": \"scattercarpet\"}], \"scattergeo\": [{\"marker\": {\"colorbar\": {\"outlinewidth\": 0, \"ticks\": \"\"}}, \"type\": \"scattergeo\"}], \"scattergl\": [{\"marker\": {\"colorbar\": {\"outlinewidth\": 0, \"ticks\": \"\"}}, \"type\": \"scattergl\"}], \"scattermapbox\": [{\"marker\": {\"colorbar\": {\"outlinewidth\": 0, \"ticks\": \"\"}}, \"type\": \"scattermapbox\"}], \"scatterpolar\": [{\"marker\": {\"colorbar\": {\"outlinewidth\": 0, \"ticks\": \"\"}}, \"type\": \"scatterpolar\"}], \"scatterpolargl\": [{\"marker\": {\"colorbar\": {\"outlinewidth\": 0, \"ticks\": \"\"}}, \"type\": \"scatterpolargl\"}], \"scatterternary\": [{\"marker\": {\"colorbar\": {\"outlinewidth\": 0, \"ticks\": \"\"}}, \"type\": \"scatterternary\"}], \"surface\": [{\"colorbar\": {\"outlinewidth\": 0, \"ticks\": \"\"}, \"colorscale\": [[0.0, \"#0d0887\"], [0.1111111111111111, \"#46039f\"], [0.2222222222222222, \"#7201a8\"], [0.3333333333333333, \"#9c179e\"], [0.4444444444444444, \"#bd3786\"], [0.5555555555555556, \"#d8576b\"], [0.6666666666666666, \"#ed7953\"], [0.7777777777777778, \"#fb9f3a\"], [0.8888888888888888, \"#fdca26\"], [1.0, \"#f0f921\"]], \"type\": \"surface\"}], \"table\": [{\"cells\": {\"fill\": {\"color\": \"#EBF0F8\"}, \"line\": {\"color\": \"white\"}}, \"header\": {\"fill\": {\"color\": \"#C8D4E3\"}, \"line\": {\"color\": \"white\"}}, \"type\": \"table\"}]}, \"layout\": {\"annotationdefaults\": {\"arrowcolor\": \"#2a3f5f\", \"arrowhead\": 0, \"arrowwidth\": 1}, \"coloraxis\": {\"colorbar\": {\"outlinewidth\": 0, \"ticks\": \"\"}}, \"colorscale\": {\"diverging\": [[0, \"#8e0152\"], [0.1, \"#c51b7d\"], [0.2, \"#de77ae\"], [0.3, \"#f1b6da\"], [0.4, \"#fde0ef\"], [0.5, \"#f7f7f7\"], [0.6, \"#e6f5d0\"], [0.7, \"#b8e186\"], [0.8, \"#7fbc41\"], [0.9, \"#4d9221\"], [1, \"#276419\"]], \"sequential\": [[0.0, \"#0d0887\"], [0.1111111111111111, \"#46039f\"], [0.2222222222222222, \"#7201a8\"], [0.3333333333333333, \"#9c179e\"], [0.4444444444444444, \"#bd3786\"], [0.5555555555555556, \"#d8576b\"], [0.6666666666666666, \"#ed7953\"], [0.7777777777777778, \"#fb9f3a\"], [0.8888888888888888, \"#fdca26\"], [1.0, \"#f0f921\"]], \"sequentialminus\": [[0.0, \"#0d0887\"], [0.1111111111111111, \"#46039f\"], [0.2222222222222222, \"#7201a8\"], [0.3333333333333333, \"#9c179e\"], [0.4444444444444444, \"#bd3786\"], [0.5555555555555556, \"#d8576b\"], [0.6666666666666666, \"#ed7953\"], [0.7777777777777778, \"#fb9f3a\"], [0.8888888888888888, \"#fdca26\"], [1.0, \"#f0f921\"]]}, \"colorway\": [\"#636efa\", \"#EF553B\", \"#00cc96\", \"#ab63fa\", \"#FFA15A\", \"#19d3f3\", \"#FF6692\", \"#B6E880\", \"#FF97FF\", \"#FECB52\"], \"font\": {\"color\": \"#2a3f5f\"}, \"geo\": {\"bgcolor\": \"white\", \"lakecolor\": \"white\", \"landcolor\": \"#E5ECF6\", \"showlakes\": true, \"showland\": true, \"subunitcolor\": \"white\"}, \"hoverlabel\": {\"align\": \"left\"}, \"hovermode\": \"closest\", \"mapbox\": {\"style\": \"light\"}, \"paper_bgcolor\": \"white\", \"plot_bgcolor\": \"#E5ECF6\", \"polar\": {\"angularaxis\": {\"gridcolor\": \"white\", \"linecolor\": \"white\", \"ticks\": \"\"}, \"bgcolor\": \"#E5ECF6\", \"radialaxis\": {\"gridcolor\": \"white\", \"linecolor\": \"white\", \"ticks\": \"\"}}, \"scene\": {\"xaxis\": {\"backgroundcolor\": \"#E5ECF6\", \"gridcolor\": \"white\", \"gridwidth\": 2, \"linecolor\": \"white\", \"showbackground\": true, \"ticks\": \"\", \"zerolinecolor\": \"white\"}, \"yaxis\": {\"backgroundcolor\": \"#E5ECF6\", \"gridcolor\": \"white\", \"gridwidth\": 2, \"linecolor\": \"white\", \"showbackground\": true, \"ticks\": \"\", \"zerolinecolor\": \"white\"}, \"zaxis\": {\"backgroundcolor\": \"#E5ECF6\", \"gridcolor\": \"white\", \"gridwidth\": 2, \"linecolor\": \"white\", \"showbackground\": true, \"ticks\": \"\", \"zerolinecolor\": \"white\"}}, \"shapedefaults\": {\"line\": {\"color\": \"#2a3f5f\"}}, \"ternary\": {\"aaxis\": {\"gridcolor\": \"white\", \"linecolor\": \"white\", \"ticks\": \"\"}, \"baxis\": {\"gridcolor\": \"white\", \"linecolor\": \"white\", \"ticks\": \"\"}, \"bgcolor\": \"#E5ECF6\", \"caxis\": {\"gridcolor\": \"white\", \"linecolor\": \"white\", \"ticks\": \"\"}}, \"title\": {\"x\": 0.05}, \"xaxis\": {\"automargin\": true, \"gridcolor\": \"white\", \"linecolor\": \"white\", \"ticks\": \"\", \"title\": {\"standoff\": 15}, \"zerolinecolor\": \"white\", \"zerolinewidth\": 2}, \"yaxis\": {\"automargin\": true, \"gridcolor\": \"white\", \"linecolor\": \"white\", \"ticks\": \"\", \"title\": {\"standoff\": 15}, \"zerolinecolor\": \"white\", \"zerolinewidth\": 2}}}, \"xaxis\": {\"anchor\": \"y\", \"domain\": [0.0, 1.0], \"title\": {\"text\": \"inc\"}}, \"yaxis\": {\"anchor\": \"x\", \"domain\": [0.0, 1.0], \"title\": {\"text\": \"count\"}}},\n",
              "                        {\"responsive\": true}\n",
              "                    ).then(function(){\n",
              "                            \n",
              "var gd = document.getElementById('55295c25-74cd-4b96-b74c-128bf3a81c4c');\n",
              "var x = new MutationObserver(function (mutations, observer) {{\n",
              "        var display = window.getComputedStyle(gd).display;\n",
              "        if (!display || display === 'none') {{\n",
              "            console.log([gd, 'removed!']);\n",
              "            Plotly.purge(gd);\n",
              "            observer.disconnect();\n",
              "        }}\n",
              "}});\n",
              "\n",
              "// Listen for the removal of the full notebook cells\n",
              "var notebookContainer = gd.closest('#notebook-container');\n",
              "if (notebookContainer) {{\n",
              "    x.observe(notebookContainer, {childList: true});\n",
              "}}\n",
              "\n",
              "// Listen for the clearing of the current output cell\n",
              "var outputEl = gd.closest('.output');\n",
              "if (outputEl) {{\n",
              "    x.observe(outputEl, {childList: true});\n",
              "}}\n",
              "\n",
              "                        })\n",
              "                };\n",
              "                \n",
              "            </script>\n",
              "        </div>\n",
              "</body>\n",
              "</html>"
            ]
          },
          "metadata": {
            "tags": []
          }
        }
      ]
    },
    {
      "cell_type": "markdown",
      "metadata": {
        "id": "nLiBxFLfv_9W"
      },
      "source": [
        "###Train and Test Data Pre-processing"
      ]
    },
    {
      "cell_type": "code",
      "metadata": {
        "execution": {
          "iopub.execute_input": "2020-11-21T16:28:14.150693Z",
          "iopub.status.busy": "2020-11-21T16:28:14.149778Z",
          "iopub.status.idle": "2020-11-21T16:28:14.152740Z",
          "shell.execute_reply": "2020-11-21T16:28:14.152182Z"
        },
        "papermill": {
          "duration": 0.034468,
          "end_time": "2020-11-21T16:28:14.152866",
          "exception": false,
          "start_time": "2020-11-21T16:28:14.118398",
          "status": "completed"
        },
        "tags": [],
        "id": "-OrNccy8ufjc"
      },
      "source": [
        "#Identify Data that's in training set\r\n",
        "Full_pred_train = train_barcodes.merge(Full_pred, on = 'QBARCODE')"
      ],
      "execution_count": 71,
      "outputs": []
    },
    {
      "cell_type": "code",
      "metadata": {
        "id": "lvfWekzk3mSa"
      },
      "source": [
        "#identify data that needs encoding\r\n",
        "str_list = []\r\n",
        "for col in Full_pred:\r\n",
        "    \r\n",
        "    if Full_pred[col].dtype == 'O':\r\n",
        "        \r\n",
        "        str_list.append(col)\r\n",
        "        "
      ],
      "execution_count": 72,
      "outputs": []
    },
    {
      "cell_type": "code",
      "metadata": {
        "id": "jaE_hDzF3oQ4"
      },
      "source": [
        "#Separate data that needs encoding\r\n",
        "pre_enc = Full_pred[str_list]"
      ],
      "execution_count": 73,
      "outputs": []
    },
    {
      "cell_type": "code",
      "metadata": {
        "id": "vZAUhmpv3vo8"
      },
      "source": [
        "from sklearn.preprocessing import OneHotEncoder, StandardScaler"
      ],
      "execution_count": 74,
      "outputs": []
    },
    {
      "cell_type": "code",
      "metadata": {
        "id": "6sgk_u8S300a"
      },
      "source": [
        "#Encode string columns\r\n",
        "\r\n",
        "oh_enc = OneHotEncoder().fit(pre_enc)\r\n",
        "\r\n",
        "enc_names = oh_enc.get_feature_names()\r\n",
        "\r\n",
        "enc = pd.DataFrame(oh_enc.transform(pre_enc).toarray(),columns = enc_names)"
      ],
      "execution_count": 75,
      "outputs": []
    },
    {
      "cell_type": "code",
      "metadata": {
        "id": "YPZ6vRp735cg"
      },
      "source": [
        "#Recombine encoded columns, and remove barcode so it doesn't get scaled in next block\r\n",
        "enc_frame = pd.concat([Full_pred.drop(str_list,axis=1), enc],axis = 1)\r\n",
        "enc_frame.drop('QBARCODE',axis=1,inplace=True)"
      ],
      "execution_count": 76,
      "outputs": []
    },
    {
      "cell_type": "code",
      "metadata": {
        "id": "jlByRWoX4AoN"
      },
      "source": [
        "#Scale values, so ML model can read data well\r\n",
        "scale_fit = StandardScaler().fit(enc_frame)\r\n",
        "\r\n",
        "scale_frame = pd.DataFrame(scale_fit.transform(enc_frame),columns = enc_frame.columns)"
      ],
      "execution_count": 77,
      "outputs": []
    },
    {
      "cell_type": "code",
      "metadata": {
        "id": "UGjcS13k4F1O"
      },
      "source": [
        "#Checking to see if columns are too homogenous. This would mean that most of the values in the column are the same. Current threshold is that if over 96% are the same\r\n",
        "#then it gets added to list to omit\r\n",
        "\r\n",
        "#This also acts to get rid of infrequent string answers, as they would have few binary 1s triggered in there individual column after encoding. Some of this information may be useful,\r\n",
        "# like some cancer locations, but it would need transformation first. For example, Colon and Colon overlapping lesion could be both named colon, but this would take time that \r\n",
        "#I don't think I currently have.\r\n",
        "\r\n",
        "homo = []\r\n",
        "\r\n",
        "for col in scale_frame:\r\n",
        "    \r\n",
        "    most_freq = scale_frame[col].value_counts(True).values[0]\r\n",
        "    \r\n",
        "    if most_freq >.95:\r\n",
        "        \r\n",
        "        homo.append(col)\r\n",
        "        "
      ],
      "execution_count": 78,
      "outputs": []
    },
    {
      "cell_type": "code",
      "metadata": {
        "id": "adgeJ1BM4Uti"
      },
      "source": [
        "#Dataframe with homogeneous values pulled out\r\n",
        "het_frame = scale_frame.drop(homo,axis=1)"
      ],
      "execution_count": 79,
      "outputs": []
    },
    {
      "cell_type": "code",
      "metadata": {
        "id": "Mk_7naEC4cBZ"
      },
      "source": [
        "#Associating barcodes with previous df\r\n",
        "barc_het_frame = pd.concat([barcs,het_frame],axis=1)"
      ],
      "execution_count": 80,
      "outputs": []
    },
    {
      "cell_type": "code",
      "metadata": {
        "id": "74ZFJ60v4iZD"
      },
      "source": [
        "#Pulling the data that has classes associated together\r\n",
        "clean_train = train_barcodes.merge(barc_het_frame, on = 'QBARCODE')"
      ],
      "execution_count": 81,
      "outputs": []
    },
    {
      "cell_type": "code",
      "metadata": {
        "id": "tX5TcnOb4v-B"
      },
      "source": [
        "#Pulling together said classes\r\n",
        "train_class = train_barcodes.merge(Class, on = 'QBARCODE')"
      ],
      "execution_count": 82,
      "outputs": []
    },
    {
      "cell_type": "markdown",
      "metadata": {
        "id": "uu4SxE7ZDUW3"
      },
      "source": [
        "##Train-Validation Split\r\n",
        "\r\n",
        "*   Use the a subset of the train to validate the model -> this is to create a validation(discrimination) performance (w/ AUC metric).\r\n",
        "\r\n"
      ]
    },
    {
      "cell_type": "code",
      "metadata": {
        "id": "E0qXt5EO5FOJ"
      },
      "source": [
        "from sklearn.model_selection import train_test_split\r\n",
        "from  sklearn.feature_selection import RFECV\r\n",
        "from sklearn.ensemble import RandomForestClassifier"
      ],
      "execution_count": 83,
      "outputs": []
    },
    {
      "cell_type": "code",
      "metadata": {
        "colab": {
          "base_uri": "https://localhost:8080/"
        },
        "id": "P6TV74kt5Jj2",
        "outputId": "bf54f543-09f6-4d55-b2e1-445c715ee6ff"
      },
      "source": [
        "#Split data that has classes associated into test and training, so I can verify  acccuracy of model\r\n",
        "X_train,X_test,y_train,y_test = train_test_split(clean_train,train_class,test_size=.2,random_state = 93048)\r\n",
        "\r\n",
        "X_train.drop('QBARCODE', axis = 1, inplace = True)\r\n",
        "X_test.drop('QBARCODE', axis = 1, inplace = True)\r\n",
        "y_train.drop('QBARCODE', axis = 1, inplace = True)\r\n",
        "y_test.drop('QBARCODE', axis = 1, inplace = True)"
      ],
      "execution_count": 84,
      "outputs": [
        {
          "output_type": "stream",
          "text": [
            "/usr/local/lib/python3.6/dist-packages/pandas/core/frame.py:4174: SettingWithCopyWarning:\n",
            "\n",
            "\n",
            "A value is trying to be set on a copy of a slice from a DataFrame\n",
            "\n",
            "See the caveats in the documentation: https://pandas.pydata.org/pandas-docs/stable/user_guide/indexing.html#returning-a-view-versus-a-copy\n",
            "\n"
          ],
          "name": "stderr"
        }
      ]
    },
    {
      "cell_type": "markdown",
      "metadata": {
        "id": "MT5GcIpH4GdA"
      },
      "source": [
        "##Model Training"
      ]
    },
    {
      "cell_type": "code",
      "metadata": {
        "id": "vI40KaXq5KvJ"
      },
      "source": [
        "#Do feature selection based on the outcomes of random forests with 200 trees\r\n",
        "#RFECV uses all features, then starts eliminating features, based on the accuracy of a random forest model\r\n",
        "#Fit with these features. It also uses 5 fold cross validation while doing this, to make sure there aren't weird splits when\r\n",
        "#testing\r\n",
        "log_selector = RFECV(estimator = RandomForestClassifier(200), step = 25,min_features_to_select = 25,n_jobs=-1).fit(X_train,np.ravel(y_train['PATIENTSTATUS']))"
      ],
      "execution_count": 85,
      "outputs": []
    },
    {
      "cell_type": "markdown",
      "metadata": {
        "id": "9Avhzg93Dxvg"
      },
      "source": [
        "###Results_Model-Performance_and_Interpretability"
      ]
    },
    {
      "cell_type": "code",
      "metadata": {
        "id": "EZ--phDU58a9"
      },
      "source": [
        "from sklearn.metrics import roc_auc_score, confusion_matrix, plot_roc_curve"
      ],
      "execution_count": 87,
      "outputs": []
    },
    {
      "cell_type": "code",
      "metadata": {
        "id": "--AUOZ8g6jKN"
      },
      "source": [
        "y_hat = log_selector.predict(X_test)\r\n",
        "y_score = log_selector.predict_proba(X_test)[:,1]"
      ],
      "execution_count": 88,
      "outputs": []
    },
    {
      "cell_type": "code",
      "metadata": {
        "colab": {
          "base_uri": "https://localhost:8080/",
          "height": 111
        },
        "id": "vCzbSac46CCl",
        "outputId": "641322d1-08b9-42ea-a13c-95157164dc0e"
      },
      "source": [
        "pd.DataFrame(confusion_matrix(y_test,y_hat))"
      ],
      "execution_count": 89,
      "outputs": [
        {
          "output_type": "execute_result",
          "data": {
            "text/html": [
              "<div>\n",
              "<style scoped>\n",
              "    .dataframe tbody tr th:only-of-type {\n",
              "        vertical-align: middle;\n",
              "    }\n",
              "\n",
              "    .dataframe tbody tr th {\n",
              "        vertical-align: top;\n",
              "    }\n",
              "\n",
              "    .dataframe thead th {\n",
              "        text-align: right;\n",
              "    }\n",
              "</style>\n",
              "<table border=\"1\" class=\"dataframe\">\n",
              "  <thead>\n",
              "    <tr style=\"text-align: right;\">\n",
              "      <th></th>\n",
              "      <th>0</th>\n",
              "      <th>1</th>\n",
              "    </tr>\n",
              "  </thead>\n",
              "  <tbody>\n",
              "    <tr>\n",
              "      <th>0</th>\n",
              "      <td>42</td>\n",
              "      <td>76</td>\n",
              "    </tr>\n",
              "    <tr>\n",
              "      <th>1</th>\n",
              "      <td>18</td>\n",
              "      <td>184</td>\n",
              "    </tr>\n",
              "  </tbody>\n",
              "</table>\n",
              "</div>"
            ],
            "text/plain": [
              "    0    1\n",
              "0  42   76\n",
              "1  18  184"
            ]
          },
          "metadata": {
            "tags": []
          },
          "execution_count": 89
        }
      ]
    },
    {
      "cell_type": "code",
      "metadata": {
        "colab": {
          "base_uri": "https://localhost:8080/"
        },
        "id": "8dGT6H966Eom",
        "outputId": "c15bad92-2375-43d8-d1c8-fb34f1dc4662"
      },
      "source": [
        "roc_auc_score(y_test,y_score)"
      ],
      "execution_count": 90,
      "outputs": [
        {
          "output_type": "execute_result",
          "data": {
            "text/plain": [
              "0.7670750125860044"
            ]
          },
          "metadata": {
            "tags": []
          },
          "execution_count": 90
        }
      ]
    },
    {
      "cell_type": "code",
      "metadata": {
        "colab": {
          "base_uri": "https://localhost:8080/",
          "height": 296
        },
        "id": "21QWKirW6INN",
        "outputId": "858fcd60-1496-4321-b6a9-d70ecac9e4cd"
      },
      "source": [
        "plot_roc_curve(log_selector,X_test,y_test)"
      ],
      "execution_count": 91,
      "outputs": [
        {
          "output_type": "execute_result",
          "data": {
            "text/plain": [
              "<sklearn.metrics._plot.roc_curve.RocCurveDisplay at 0x7f2c11df8208>"
            ]
          },
          "metadata": {
            "tags": []
          },
          "execution_count": 91
        },
        {
          "output_type": "display_data",
          "data": {
            "image/png": "[encoded data removed]",
            "text/plain": [
              "<Figure size 432x288 with 1 Axes>"
            ]
          },
          "metadata": {
            "tags": [],
            "needs_background": "light"
          }
        }
      ]
    },
    {
      "cell_type": "markdown",
      "metadata": {
        "id": "Ur-mgVWK2QKv"
      },
      "source": [
        "### Feature Importance"
      ]
    },
    {
      "cell_type": "code",
      "metadata": {
        "id": "nhXLSWpX6gCO"
      },
      "source": [
        "#Get which columns are used for naming\r\n",
        "log_sel_ind = log_selector.get_support()"
      ],
      "execution_count": 92,
      "outputs": []
    },
    {
      "cell_type": "code",
      "metadata": {
        "id": "wkawo8qx6iYL"
      },
      "source": [
        "#Selected Columns\r\n",
        "sel_columns = list(X_train.columns[log_sel_ind])"
      ],
      "execution_count": 93,
      "outputs": []
    },
    {
      "cell_type": "code",
      "metadata": {
        "id": "EtdckHWY-Tp1"
      },
      "source": [
        "#For finding which questions were important from the selected variable names\r\n",
        "var_list = list(All_files['DBBR Questionnaire Data Dictionary']['VARNAME'])\r\n",
        "up_var_list = [var.upper() for var in var_list]\r\n",
        "quest_list = list(All_files['DBBR Questionnaire Data Dictionary']['VARIABLE'])\r\n",
        "\r\n",
        "quest_dict = dict(zip(up_var_list,quest_list))"
      ],
      "execution_count": 102,
      "outputs": []
    },
    {
      "cell_type": "code",
      "metadata": {
        "id": "dOlOy-SJ-U9I"
      },
      "source": [
        "#Compiling important questions \r\n",
        "\r\n",
        "Sel_quests = []\r\n",
        "\r\n",
        "for col in sel_columns:\r\n",
        "    \r\n",
        "    if 'x' in col or 'y' in col:\r\n",
        "        \r\n",
        "        co = col.split('_')[0]\r\n",
        "\r\n",
        "    else:\r\n",
        "        \r\n",
        "        co = col\r\n",
        "        \r\n",
        "    try:\r\n",
        "    \r\n",
        "        Sel_quests.append(quest_list[up_var_list.index(co)])\r\n",
        "        \r\n",
        "    except:\r\n",
        "        \r\n",
        "        continue"
      ],
      "execution_count": 103,
      "outputs": []
    },
    {
      "cell_type": "code",
      "metadata": {
        "colab": {
          "base_uri": "https://localhost:8080/"
        },
        "id": "GB0y1s69-Ztk",
        "outputId": "a0ea20ef-045c-4e68-c2f5-c6074ae1c5d1"
      },
      "source": [
        "#These are at least some of the questions used by the model to predict the patient class\r\n",
        "Sel_quests"
      ],
      "execution_count": 105,
      "outputs": [
        {
          "output_type": "execute_result",
          "data": {
            "text/plain": [
              "[nan,\n",
              " nan,\n",
              " nan,\n",
              " nan,\n",
              " nan,\n",
              " nan,\n",
              " nan,\n",
              " nan,\n",
              " nan,\n",
              " nan,\n",
              " nan,\n",
              " nan,\n",
              " nan,\n",
              " nan,\n",
              " nan,\n",
              " nan,\n",
              " nan,\n",
              " nan,\n",
              " nan,\n",
              " nan,\n",
              " nan,\n",
              " nan,\n",
              " nan,\n",
              " nan,\n",
              " nan,\n",
              " nan,\n",
              " nan,\n",
              " nan,\n",
              " nan,\n",
              " nan,\n",
              " nan,\n",
              " nan,\n",
              " nan,\n",
              " nan,\n",
              " nan,\n",
              " nan,\n",
              " nan,\n",
              " nan,\n",
              " nan,\n",
              " nan,\n",
              " nan,\n",
              " nan,\n",
              " nan,\n",
              " nan,\n",
              " nan,\n",
              " nan,\n",
              " nan,\n",
              " nan,\n",
              " nan,\n",
              " nan,\n",
              " nan,\n",
              " nan,\n",
              " nan,\n",
              " nan,\n",
              " nan,\n",
              " nan,\n",
              " nan,\n",
              " nan,\n",
              " nan,\n",
              " nan,\n",
              " nan,\n",
              " nan,\n",
              " nan,\n",
              " nan,\n",
              " nan,\n",
              " nan,\n",
              " nan,\n",
              " nan,\n",
              " nan,\n",
              " nan,\n",
              " nan,\n",
              " nan,\n",
              " nan,\n",
              " nan,\n",
              " nan,\n",
              " nan,\n",
              " nan,\n",
              " 'Current frequency of frying food ',\n",
              " 'Current frequency of eating vegetables',\n",
              " 'Current frequency of eating fruit',\n",
              " 'Current days/wk  exercise 20+ minutes ',\n",
              " 'Ever had a job that involved regular physical activity',\n",
              " 'At what age began physically active job',\n",
              " 'How many years worked physically active job',\n",
              " 'Level of physical activity compared to others your age ',\n",
              " 'Walk in past 10 years',\n",
              " 'Years walked for exercise',\n",
              " 'Days per week walked',\n",
              " 'Minutes per day walked',\n",
              " 'Usual pace walked',\n",
              " 'Lift weights or weight machine in past 10 yrs',\n",
              " 'Years lifted weights',\n",
              " 'Days per week lifted weights',\n",
              " 'Minutes per day lifted weights',\n",
              " 'Years did mild exercise',\n",
              " 'Days per week did mild exercise',\n",
              " 'Hours per day did mild exercise',\n",
              " 'Years did moderate exercise',\n",
              " 'Days per week did moderate exercise',\n",
              " 'Minutes per day did moderate exercise',\n",
              " 'Type of moderate exercise = light conditioning',\n",
              " 'Type of moderate exercise = Low impact/ water aerobics',\n",
              " 'Type of moderate exercise = Aerobics class/ video',\n",
              " 'Type of moderate exercise = Running/ jogging',\n",
              " 'Type of moderateexercise = Swimming laps',\n",
              " 'Type of moderate exercise = Popular/ folk dancing',\n",
              " 'Type of moderate exercise = Slow cycling/ stair machine',\n",
              " 'Type of moderate exercise = Fast cycling/ stair machine',\n",
              " 'Type of moderate exercise = Tennis, racquetball, squash',\n",
              " 'Other type of moderate exercise',\n",
              " 'Days per week of exercise at 18 years',\n",
              " 'Days per week of exercise at 30 years',\n",
              " 'Days per week of exercise at 45 years',\n",
              " 'Days per week of exercise at 60 years',\n",
              " 'Acetylsalicylic acid years',\n",
              " 'Days per week taking acetylsalicylic acid',\n",
              " 'Taking acetylsalicylic acid for arthritis ',\n",
              " 'Taking acetylsalicylic acid for surgical/ dental pain',\n",
              " 'Taking acetylsalicyclic acid for another reason',\n",
              " 'Acetaminophen',\n",
              " 'Years taking acetaminophen',\n",
              " 'Days per week taking acetaminophen',\n",
              " 'Taking acetaminophen for arthritis ',\n",
              " 'Taking acetaminophem for gout',\n",
              " 'Taking acetaminophen for surgical/dental pain',\n",
              " 'Taking acetaminophen for menstrual cramps',\n",
              " 'Taking acetaminophen for another reason',\n",
              " 'Ibuprofen',\n",
              " 'Years taking ibuprofen',\n",
              " 'Days per week taking ibuprofen',\n",
              " 'Taking ibuprofen acid for arthritis ',\n",
              " 'Taking ibuprofen for gout',\n",
              " 'Taking ibuprofen for surgical/ dental pain',\n",
              " 'Taking ibuprofen for menstrual cramps',\n",
              " 'Taking acetylsalicyclic acid for another reason',\n",
              " 'Naproxen',\n",
              " 'Years taking naproxen',\n",
              " 'Days per week taking naproxen',\n",
              " 'Taking naproxen for arthritis ',\n",
              " 'Taking naproxen for gout',\n",
              " 'Taking naproxen for surgical/dental pain',\n",
              " 'Taking naproxen for menstrual cramps',\n",
              " 'Taking naproxen for another reason',\n",
              " 'Years taking anti-inflammatory prescription',\n",
              " 'Days per week taking anti-inflammatory prescription',\n",
              " 'Taking anti-inflammatories for arthritis ',\n",
              " 'Taking anti-inflammatories for gout',\n",
              " 'Taking anti-inflammatories for surgical/ dental pain',\n",
              " 'Taking anti-inflammatories for another reason',\n",
              " 'Cox-2 inhibitors',\n",
              " 'Years taking cox-2 inhibitors',\n",
              " 'Days per week taking cox-2 inhibitors',\n",
              " 'Taking cox-2 inhibitors for arthritis ',\n",
              " 'Taking cox-2 inhibitors for another reason',\n",
              " 'Antacids',\n",
              " 'Years taking antacids',\n",
              " 'Days per week taking antacids',\n",
              " 'Other reason for taking antacids',\n",
              " 'Other reason for taking antacids',\n",
              " 'Acid reducers',\n",
              " 'Years taking acid reducers',\n",
              " 'Days per week taking acid reducers',\n",
              " 'Taking acid reducers for another reason',\n",
              " 'Other acid reducers',\n",
              " 'Years taking other acid reducers',\n",
              " 'Taking acid reducers for peptic ulcer',\n",
              " 'Taking other acid reducers for another reason',\n",
              " 'Prednisone',\n",
              " 'Years taking prednisone',\n",
              " 'Days per week taking prednisone',\n",
              " 'Other reason for taking prednisone',\n",
              " 'Years taking Tamoxifen or Raloxifene',\n",
              " 'Osteoporosis medications',\n",
              " 'Years taking   osteoporosis medications ',\n",
              " 'Days per week taking osteoporosis medications',\n",
              " 'Other medication',\n",
              " 'Years taking other medication',\n",
              " 'Days per week taking other medication',\n",
              " 'Other reason for taking other medication',\n",
              " 'Other medication',\n",
              " 'Years taking other medication',\n",
              " 'Days per week taking other medication',\n",
              " 'Other reason for taking other medication',\n",
              " 'Other reason for taking other medication',\n",
              " 'Yrs taken vitamin A',\n",
              " 'Vitamin A days/week',\n",
              " 'Vitamin C',\n",
              " 'Vitamin C yrs taken',\n",
              " 'Vitamin C days/week',\n",
              " 'Vitamin D',\n",
              " 'Vitamin D yrs taken',\n",
              " 'Vitamin D days/week',\n",
              " 'Vitamin D amount/day',\n",
              " 'Vitamin E',\n",
              " 'Vitamin E yrs taken',\n",
              " 'Vitamin E days/week',\n",
              " 'Vitamin E amount/day',\n",
              " 'Vitamin B1 yrs taken',\n",
              " 'Vitamin B6 yrs taken',\n",
              " 'Folic Acid',\n",
              " 'Folic Acid yrs taken',\n",
              " 'Vitamin B12 yrs taken',\n",
              " 'Vitamin B12 days/week',\n",
              " 'Calcium',\n",
              " 'Calcium yrs taken',\n",
              " 'Calcium days/week',\n",
              " 'Iron days/week',\n",
              " 'Magnesium yrs taken',\n",
              " 'Years since last physical',\n",
              " 'Results of last physical',\n",
              " 'Never had a sigmoidoscopy',\n",
              " 'Years since last sigmoidoscopy',\n",
              " 'Results of last sigmoidoscopy',\n",
              " 'Years since last colonoscopy',\n",
              " 'Results of last colonoscopy',\n",
              " 'Years since last fecal occult blood test',\n",
              " 'Results of last fecal occult blood test',\n",
              " 'Years since last mammogram',\n",
              " 'Results of last mammogram',\n",
              " 'Years since last clinical breast exam',\n",
              " 'Results of last clinical breast exam',\n",
              " 'Years since last pap smear',\n",
              " 'Results of last pap smear',\n",
              " 'Years since last digital rectal exam',\n",
              " 'Results of last digital rectal exam',\n",
              " 'Never had a prostatic specific antigen blood test ',\n",
              " 'Years since last prostatic specific antigen blood test ',\n",
              " 'Results of last prostatic specific antigen blood test ',\n",
              " 'Had a hysterectomy',\n",
              " 'Had breast biopsy',\n",
              " 'Number of breast biopsies',\n",
              " 'Had abnormal breast biopsy results',\n",
              " 'Prostate biopsy',\n",
              " 'Number of prostate biopsies',\n",
              " 'Allergies',\n",
              " 'Age allergies diagnosed',\n",
              " 'Age asthma diagnosed',\n",
              " 'Age chronic bronchitis diagnosed',\n",
              " 'Emphysema',\n",
              " 'Age emphysema diagnosed',\n",
              " 'Diabetes',\n",
              " 'Age diabetes diagnosed',\n",
              " 'Age overactive thyroid diagnosed',\n",
              " 'Age underactive thyroid diagnosed',\n",
              " 'Osteoarthritis',\n",
              " 'Age osteoarthritis diagnosed',\n",
              " 'Age osteoporosis diagnosed',\n",
              " 'Age colitis/inflammatory bowl disease diagnosed',\n",
              " 'Colon/rectal polyps',\n",
              " 'Age colon/rectal polyps diagnosed',\n",
              " 'Age reflux diagnosed',\n",
              " 'Benign breast disease',\n",
              " 'Age benign breast disease diagnosed',\n",
              " 'Benign prostatic hypertrophy',\n",
              " 'Age benign prostatic hypertrophy diagnosed',\n",
              " 'Age non- melanoma skin cancer diagnosed',\n",
              " 'Age cancer diagnosed',\n",
              " 'Age cancer diagnosed',\n",
              " 'Treated for multiple yeast infections',\n",
              " 'Treated for multiple bladder infections',\n",
              " 'Height now (in )',\n",
              " 'Tallest height (ft )',\n",
              " 'Tallest height (in )',\n",
              " 'Weight now',\n",
              " 'Body mass index at current age',\n",
              " 'Weight at 18 years',\n",
              " 'Weight at 30 years',\n",
              " 'Weight at 45 years',\n",
              " 'Weight at 60 years',\n",
              " 'Benign breast disease',\n",
              " 'Body mass index at age 18',\n",
              " 'Body mass index at age 30',\n",
              " 'Body mass index at age 45',\n",
              " 'Body mass index at age 60',\n",
              " 'Body mass index category at current age',\n",
              " 'Body mass index category at age 18',\n",
              " 'Body mass index category at age 30',\n",
              " 'Body mass index category at age 45',\n",
              " 'Body mass index category at age 60',\n",
              " 'Current height in cm',\n",
              " 'Tallest height in cm',\n",
              " 'Current weight in kg',\n",
              " 'Weight in kg at age 18',\n",
              " 'Weight in kg at age 30',\n",
              " 'Weight in kg at age 45',\n",
              " 'Weight in kg at age 60',\n",
              " 'How often did you drink milk',\n",
              " 'Milk serving size',\n",
              " 'How often did you drink soy milk',\n",
              " 'How often did you drink lattes',\n",
              " 'How often did you drink coffee',\n",
              " 'Coffee serving size',\n",
              " 'How often did you drink creamer/milk/ cream',\n",
              " 'Creamer/milk/cream serving size',\n",
              " 'How often did you drink tomato juice',\n",
              " 'How often did you drink orange juice',\n",
              " 'Orange juice serving size',\n",
              " 'How often did you drink other 100% juice',\n",
              " 'Other 100% juice serving size',\n",
              " 'How often did you drink cranberry juice',\n",
              " 'How often did you drink fruit drinks(fortified)',\n",
              " 'How often did you drink diet soda',\n",
              " 'Diet soda serving size',\n",
              " 'How often did you drink regular soda',\n",
              " 'How often did you drink meal replacement drinks',\n",
              " 'How often did you drink water',\n",
              " 'Water serving size',\n",
              " 'How often did you drink beer',\n",
              " 'How often did you drink red wine',\n",
              " 'How often did you drink white wine',\n",
              " 'White wine serving size',\n",
              " 'How often did you drink liquor or mixed drinks',\n",
              " 'Liquor or mixed drinks serving size',\n",
              " '# of alcohol drinks at 18',\n",
              " '# of alcohol drinks at 30',\n",
              " '# of alcohol drinks at 45',\n",
              " '# of alcohol drinks at 60',\n",
              " 'Age at first menstrual period',\n",
              " 'Ever given birth to a child',\n",
              " 'Age at first birth',\n",
              " 'Number of births',\n",
              " 'Number of children breast fed',\n",
              " 'Age periods permanently stopped',\n",
              " 'Why periods stopped',\n",
              " 'Ever use pills, shots, patches hormone implants for birth control or regulate periods',\n",
              " 'How many years did you use pills, shots, patches',\n",
              " 'Age first used HRT',\n",
              " 'How many total years have/did use HRT',\n",
              " 'Menopausal status',\n",
              " 'Age first smoked',\n",
              " 'Currently smoke',\n",
              " 'Number of days (in last 30) smoked',\n",
              " 'Wants to quit',\n",
              " 'Age last smoked',\n",
              " 'Total years of smoking',\n",
              " 'Average number of cigarettes per day',\n",
              " 'Brand smoked most recently filtered',\n",
              " 'Brand smoked most recently menthol',\n",
              " 'Brand smoked most recently tar',\n",
              " 'Years smoked most recent brand',\n",
              " 'Prior brand smoked most filter',\n",
              " 'Prior brand smoked most menthol',\n",
              " 'Prior brand smoked most tar',\n",
              " 'Years smoked prior brand',\n",
              " 'Number of puffs per cigarette',\n",
              " 'How inhaled cigarette',\n",
              " 'Amount of cigarette smoked',\n",
              " 'Time after waking before smoking first cigarette of the day',\n",
              " 'Can go long time without smoking',\n",
              " 'Will get cigarettes in bad weather',\n",
              " 'Cravings after a few hours',\n",
              " 'Will smoke in any weather',\n",
              " 'Ever stopped smoking',\n",
              " 'Ever used stop-smoking meds',\n",
              " 'Ever used nicotine patch',\n",
              " 'Ever used nicotine gum',\n",
              " 'Ever used nicotine inhaler',\n",
              " 'Ever used nicotine nasal spray ',\n",
              " 'Ever used zyban or buproprion',\n",
              " 'Ever decreased number of cigarettes',\n",
              " 'Ever switched to lower tar to quit',\n",
              " 'Ever went to stop smoking clinic',\n",
              " 'Ever called a stop smoking help line',\n",
              " 'Ever went to a stop smoking website',\n",
              " 'Ever used pipe',\n",
              " 'Use a pipe now',\n",
              " 'Years used pipe',\n",
              " 'Days per year used pipe',\n",
              " 'Age began using pipe',\n",
              " 'Years smoked cigars',\n",
              " 'Days per year smoked cigars',\n",
              " 'Age began smoking cigars',\n",
              " 'Chew tobacco now',\n",
              " 'Use snuff now',\n",
              " 'Second hand smoke exposure at home as adult',\n",
              " 'Hours per day exposed as adult at home ',\n",
              " 'Years of exposure during adult home ',\n",
              " 'Second hand smoke exposure in workplace',\n",
              " 'Hours per day exposed in workplace ',\n",
              " 'Years of exposure during workplace ',\n",
              " 'Second hand smoke exposure in adult social settings',\n",
              " 'Hours per day exposed in adult social settings',\n",
              " 'Years of exposure during adult social settings ',\n",
              " 'Currently employed',\n",
              " 'Hours per week currently employed',\n",
              " 'Asbestos exposure',\n",
              " 'Number of years exposed to asbestos',\n",
              " 'Wood dust exposure',\n",
              " 'Number of years exposed to wood dust',\n",
              " 'Coal or stone dust exposure',\n",
              " 'Number of years exposed to coal or stone dust',\n",
              " 'Other dust exposure',\n",
              " 'Number of years exposed to other dust',\n",
              " 'Other smoke exposure',\n",
              " 'Number of years exposed to other smoke',\n",
              " 'Never/formerly/currently smoke',\n",
              " 'Pack years',\n",
              " 'Years smoking',\n",
              " 'Total second hand smoke exposure hours per day',\n",
              " 'Total second hand smoke exposure years',\n",
              " 'Coenzyme Q10 days/week',\n",
              " 'Fish oil, EPA, Omega-3',\n",
              " 'Fish oil, EPA, Omega-3 years taken',\n",
              " 'Fish oil, EPA, Omega-3 days/week',\n",
              " 'Fish oil, EPA, Omega-3 now',\n",
              " 'Garlic pills years taken ',\n",
              " 'Glucosamine years taken ',\n",
              " 'Glucosamine days/week',\n",
              " 'Glucosamine now',\n",
              " 'Lutein years taken',\n",
              " 'Lycopene days/week',\n",
              " 'How often did you eat cold cereal',\n",
              " 'Cold cereal serving size',\n",
              " 'How often did you eat cooked cereal',\n",
              " 'How often did you eat milk on cereal',\n",
              " 'Milk on cereal serving size',\n",
              " 'How often did you eat pancakes',\n",
              " 'Pancake serving size',\n",
              " 'How often did you eat muffins/ scones',\n",
              " 'Muffin/scone serving size',\n",
              " 'How often did you eat white bread',\n",
              " 'White bread serving size',\n",
              " 'How often did you eat butter on bread',\n",
              " 'Butter on bread serving size',\n",
              " 'How often did you eat Jam',\n",
              " 'Jam serving size',\n",
              " 'How often did you eat Granola bars',\n",
              " 'Granola bar serving size',\n",
              " 'How often did you eat sports bars/meal replacement bars',\n",
              " 'How often did you eat Low fat chips',\n",
              " 'Low fat chips serving size',\n",
              " 'How often did you eat regular potato chips',\n",
              " 'Regular potato chip serving size',\n",
              " 'How often did you eat low fat crackers',\n",
              " 'Low fat crackers serving size',\n",
              " 'How often did you eat regular crackers',\n",
              " 'Regular crackers serving size',\n",
              " 'How often did you eat peanut butter',\n",
              " 'Peanut butter serving size',\n",
              " 'How often did you eat eggs',\n",
              " 'How often did you eat bacon',\n",
              " 'Bacon serving size',\n",
              " 'How often did you eat low fat hotdogs',\n",
              " 'How often did you eat regular hotdogs',\n",
              " 'Regular hotdogs serving size',\n",
              " 'How often did you eat Lunch meat(ham, turkey, etc)',\n",
              " 'Lunch meat(ham, turkey, etc)serving size',\n",
              " 'How often did you eat all other lunch meat, bologna, salami, spam',\n",
              " 'all other lunch meat, bologna, salami, spam serving size',\n",
              " 'How often did you eat Beef, pork, ham',\n",
              " 'Beef, pork, ham serving size',\n",
              " 'How often did you eat tuna',\n",
              " 'Tuna serving size',\n",
              " 'How often did you eat Ground meat',\n",
              " 'Ground meat serving size',\n",
              " 'How often did you eat Liver',\n",
              " 'Liver serving size',\n",
              " 'How often did you eat Fried chicken',\n",
              " 'Fried chicken serving size',\n",
              " 'How often did you eat  chicken, turkey',\n",
              " 'Chicken, turkey serving size',\n",
              " 'How often did you eat fried fish',\n",
              " 'Fried fish serving size',\n",
              " 'How often did you eat shellfish',\n",
              " 'Shellfish serving size',\n",
              " 'How often did you eat whitefish',\n",
              " 'How often did you eat dark fish',\n",
              " 'Dark fish serving size',\n",
              " 'How often did you eat meat gravies',\n",
              " 'Meat gravies serving size',\n",
              " 'How often did you eat ketchup',\n",
              " 'How often did you eat salsa',\n",
              " 'How often did you eat mayonnaise',\n",
              " 'Mayonnaise serving size',\n",
              " 'How often did you eat stew',\n",
              " 'Stew serving size',\n",
              " 'How often did you eat Chili',\n",
              " 'Chili serving size',\n",
              " 'How often did you eat asian style noodles',\n",
              " 'How often did you eat spaghetti /lasagna',\n",
              " 'Spaghetti/lasagna serving size',\n",
              " 'How often did you eat Spaghetti w/ tomato sauce',\n",
              " 'Spaghetti w/ tomato sauce serving size',\n",
              " 'How often did you eat spaghetti w/ oil',\n",
              " 'Spaghetti w/oil serving size',\n",
              " 'How often did you eat pizza',\n",
              " 'Pizza serving size',\n",
              " 'How often did you eat taco',\n",
              " 'Taco serving size',\n",
              " 'How often did you eat vegetable soup',\n",
              " 'Vegetable soup serving size',\n",
              " 'How often did you eat cream soup',\n",
              " 'Cream soup serving size',\n",
              " 'How often did you eat bean soup',\n",
              " 'Bean soup serving size',\n",
              " 'How often did you eat ramen noodles',\n",
              " 'How often did you eat cottage cheese',\n",
              " 'Cottage cheese serving size',\n",
              " 'How often did you eat low fat cheese',\n",
              " 'How often did you eat other cheeses',\n",
              " 'Other cheese serving size',\n",
              " 'How often did you eat yogurt',\n",
              " 'How often did you eat green salad',\n",
              " 'Green salad serving size',\n",
              " 'How often did you eat salad dressing',\n",
              " 'How often did you eat fresh tomatoes',\n",
              " 'How often did you eat carrots',\n",
              " 'Carrots serving size',\n",
              " 'How often did you eat green and red peppers',\n",
              " 'Green and red pepper serving size',\n",
              " 'How often did you eat broccoli',\n",
              " 'Broccoli serving size',\n",
              " 'How often did you eat cauliflower',\n",
              " 'Cauliflower serving size',\n",
              " 'How often did you eat green beans',\n",
              " 'Green beans serving size',\n",
              " 'How often did you eat green peas',\n",
              " 'How often did you eat coleslaw',\n",
              " 'Coleslaw serving size',\n",
              " 'How often did you eat summer squash',\n",
              " 'Summer squash serving size',\n",
              " 'How often did you eat winter squash',\n",
              " 'Winter squash serving size',\n",
              " 'How often did you eat cooked greens',\n",
              " 'Cooked greens serving size',\n",
              " 'How often did you eat onions',\n",
              " 'Onions serving size',\n",
              " 'How often did you eat garlic',\n",
              " 'Garlic serving size',\n",
              " 'How often did you eat avocado',\n",
              " 'How often did you eat French fries',\n",
              " 'French fries serving size',\n",
              " 'How often did you eat potatoes',\n",
              " 'How often did you eat beans',\n",
              " 'Beans serving size',\n",
              " 'How often did you eat corn',\n",
              " 'How often did you eat potato, macaroni, and pasta salad',\n",
              " 'How often did you eat rice/noodles',\n",
              " 'Rice/noodles serving size',\n",
              " 'How often did you eat butter/margarine/sour cream',\n",
              " 'How often did you eat apples',\n",
              " 'How often did you eat Bananas',\n",
              " 'How often did you eat peaches',\n",
              " 'Peaches serving size',\n",
              " 'How often did you eat apricots',\n",
              " 'Apricots serving size',\n",
              " 'How often did you eat dry fruits',\n",
              " 'How often did you eat oranges',\n",
              " 'How often did you eat Berries',\n",
              " 'Berries serving size',\n",
              " 'How often did you eat cantaloupe',\n",
              " 'Cantaloupe serving size',\n",
              " 'How often did you eat other fruits',\n",
              " 'Other fruits serving size',\n",
              " 'How often did you eat ice cream',\n",
              " 'How often did you eat Low fat frozen desserts',\n",
              " 'How often did you eat pudding',\n",
              " 'Pudding serving size',\n",
              " 'How often did you eat donuts',\n",
              " 'Donuts serving size',\n",
              " 'How often did you eat cookies/cakes',\n",
              " 'Cookies/cakes serving size',\n",
              " 'How often did you eat chocolate',\n",
              " 'Eat poultry skin?',\n",
              " 'Eat the fat?',\n",
              " 'Lean ground meat',\n",
              " '2% milk',\n",
              " 'Nonfat or skim',\n",
              " 'Drank whole milk',\n",
              " 'Drank 2% milk',\n",
              " 'Drank 1% milk or buttermilk',\n",
              " 'Drank nonfat or skim milk',\n",
              " 'Drank soymilk',\n",
              " 'Eat high fiber or bran cereal',\n",
              " 'Cook with olive oil',\n",
              " 'Low or nonfat cookies',\n",
              " 'Drank fruit juice with vitamin C',\n",
              " 'Number of times ate per day',\n",
              " 'Ever taken multivitamin in past 10 yrs',\n",
              " 'Number of years taken a multivitamin',\n",
              " 'Days per week taken a multivitamin',\n",
              " 'Brand multivitamin taken now',\n",
              " 'How long taking current multi?',\n",
              " 'Currently taking multi with vitamin A?',\n",
              " 'Multi with vitamin A amount/day',\n",
              " 'Currently taking multi with vitamin C?',\n",
              " 'Multi with vitamin C amount/day',\n",
              " 'Currently taking multi with vitamin B1?',\n",
              " 'Multi with vitamin B1 amount/day',\n",
              " 'Currently taking multi with vitamin B6?',\n",
              " 'Multi with vitamin B6 amount/day',\n",
              " 'Currently taking multi with folic acid?',\n",
              " 'Multi with folic acid amount/day',\n",
              " 'Currently taking multi with vitamin B12?',\n",
              " 'Multi with vitamin B12 amount/day',\n",
              " 'Currently taking multi with vitamin E?',\n",
              " 'Multi with vitamin E amount/day',\n",
              " 'Currently taking multi with calcium?',\n",
              " 'Multi with calcium amount/day',\n",
              " 'Currently taking multi with iron?',\n",
              " 'Multi with iron amount/day',\n",
              " 'Currently taking multi with zinc?',\n",
              " 'Multi with zinc amount/day',\n",
              " 'Currently taking multi with selenium?',\n",
              " 'Multi with selenium amount/day',\n",
              " 'Multi contains Riboflavin',\n",
              " 'Multi contains Niacin (B3)',\n",
              " 'Multi contains Vitamin D',\n",
              " 'Multi contains Magnesium',\n",
              " 'Multi contains Chromium',\n",
              " 'Multi contains bioflavinoids',\n",
              " 'Multi contains Black Cohosh',\n",
              " 'Multi contains Dong quai',\n",
              " 'Multi contains Garlic',\n",
              " 'Multi contains Ginko Biloba',\n",
              " 'Multi contains Ginseng',\n",
              " 'Multi contains Lutein',\n",
              " 'Multi contains Lycopene',\n",
              " 'Multi contains Soy or isoflavones',\n",
              " 'How long taking current brand of multivitamin',\n",
              " 'Other multivitamin in past 10 years',\n",
              " 'Brand of other multivitamin taken in past 10 years',\n",
              " 'Year of Birth',\n",
              " 'Age',\n",
              " 'Lithocode 1',\n",
              " 'Highest level of education',\n",
              " 'Marital status',\n",
              " 'Household income',\n",
              " 'People supported by this income',\n",
              " 'Education categories',\n",
              " 'Mother alive',\n",
              " 'Mother age now or at death',\n",
              " 'Father alive',\n",
              " 'Father age now or at death',\n",
              " 'First brother alive',\n",
              " 'First brother age now or at death',\n",
              " 'Second brother alive',\n",
              " 'Second brother age now or at death',\n",
              " 'Third brother’s age now or at death',\n",
              " 'First sister alive',\n",
              " 'First sister’s age now or at death',\n",
              " 'Second sister alive',\n",
              " 'Second sister’s age now or at death',\n",
              " 'Third sister alive',\n",
              " 'Third sister’s age now or at death',\n",
              " 'Multivitamin years taken',\n",
              " 'Vitamin C years taken',\n",
              " 'Vitamin E years taken',\n",
              " 'Calcium years taken']"
            ]
          },
          "metadata": {
            "tags": []
          },
          "execution_count": 105
        }
      ]
    },
    {
      "cell_type": "markdown",
      "metadata": {
        "id": "ZiycgvJYDg_3"
      },
      "source": [
        "##Create Submission File"
      ]
    },
    {
      "cell_type": "code",
      "metadata": {
        "id": "bVh_-kad6qzv"
      },
      "source": [
        "#Now to predict the test set based on the selector\r\n",
        "test_samples = test_barcodes.merge(barc_het_frame, on = 'QBARCODE')\r\n",
        "test_samples.drop('QBARCODE', axis=1, inplace= True)"
      ],
      "execution_count": 98,
      "outputs": []
    },
    {
      "cell_type": "code",
      "metadata": {
        "id": "cGW_YpVo6viY"
      },
      "source": [
        "submission_preds = pd.DataFrame(log_selector.predict_proba(test_samples)[:,1], columns = [\"PatientStatus\"])"
      ],
      "execution_count": 99,
      "outputs": []
    },
    {
      "cell_type": "code",
      "metadata": {
        "id": "bNjTo8Ig6v5Z"
      },
      "source": [
        "submission = pd.concat([test_barcodes, submission_preds], axis = 1 )\r\n",
        "submission.columns = ['qbarcode',\"PatientStatus\"]"
      ],
      "execution_count": 100,
      "outputs": []
    },
    {
      "cell_type": "code",
      "metadata": {
        "id": "mE9edLu26rva"
      },
      "source": [
        "submission.to_csv('Good_submission.csv', index = False)"
      ],
      "execution_count": 101,
      "outputs": []
    },
    {
      "cell_type": "code",
      "metadata": {
        "id": "kjFK35mx8BHq"
      },
      "source": [
        "##I don't know how to access the true class data from the kaggle competition, but the score on the public leaderbord\r\n",
        "#From this redone project in a late submission was .75703"
      ],
      "execution_count": null,
      "outputs": []
    }
  ]
}